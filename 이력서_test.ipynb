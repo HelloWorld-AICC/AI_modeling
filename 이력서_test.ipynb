{
 "cells": [
  {
   "cell_type": "markdown",
   "metadata": {},
   "source": [
    "# 프롬프트 토대로 이력서 테스트"
   ]
  },
  {
   "cell_type": "code",
   "execution_count": null,
   "metadata": {},
   "outputs": [],
   "source": [
    "PROMPT_PATH = \"./data/prompts/cv_prompt.json\"\n",
    "# 프롬프트 불러오기\n",
    "with open(prompt_path, 'r', encoding='utf-8') as file:\n",
    "    SYSTEM_PROMPT = file.read()\n",
    "\n",
    "SYSTEM_PROMPT = ast.literal_eval(SYSTEM_PROMPT)"
   ]
  },
  {
   "cell_type": "code",
   "execution_count": null,
   "metadata": {},
   "outputs": [],
   "source": [
    "a = \"\"\"당신은 자기 소개서 작성을 돕는 전문 컨설턴트입니다.\n",
    "사용자가 입력한 <사용자정보>를 읽은 후, 사용자의 장점을 효과적으로 드러낼 수 있는 <자기소개문장>, <상세소개서>를 작성해주세요.\n",
    "\n",
    "자기 소개서를 작성할 때, 아래 [지시사항]과 [예시]를 참고하세요.\n",
    "\n",
    "[지시사항]\n",
    "- 문장은 짧고 간결하게 작성하세요.\n",
    "- 전체 글 내용의 통일성을 고려해주세요.\n",
    "- **직무에 맞춰 사용자의 장점이 최대한 드러날 수 있게**, <사용자정보>를 잘 읽고 작성해주세요.\n",
    "- **[근무경험]의 내용이 외국어로 작성되어 있는 경우, 한국어로 번역합니다.**\n",
    "- 주어진 출력 예시와 동일한 형식으로 출력해주세요.\n",
    "\t- <자기소개문장>은 한 문장으로 명료하게 제시합니다.\n",
    "\t- <상세소개서>는 <자기소개문장>과 잘 이어지게끔, [희망직무]와 관련이 있는 사용자의 <업무스킬>, <강점>, <직무경험>을 바탕으로 상세하게 기술합니다.\n",
    "\t- [희망직무]가 주어지지 않은 경우, 사용자의 [강점]을 최대한 살려서 작성해주세요.\n",
    "\n",
    "[예시]\n",
    "- 전체 출력 예시는 다음과 같습니다.\n",
    "\t<자기소개문장>기술로 한 걸음 더 나은 내일을 꿈꾸는 개발자, 황예원입니다.</자기소개문장>\n",
    "\t<상세소개서>저는 OO한 경험이 있으며, OO한 장점을 지녔습니다. 또한, ...</상세소개서>\"\"\"\n",
    "\n",
    "a"
   ]
  },
  {
   "cell_type": "code",
   "execution_count": 12,
   "metadata": {},
   "outputs": [],
   "source": [
    "# langchain template\n",
    "\n",
    "from langchain.prompts.prompt import PromptTemplate\n",
    "\n",
    "prompt_template: str = \"\"\"<input>\n",
    "[인적사항]\n",
    "- 이름 : {name}\n",
    "- 국적 : {nationality}\n",
    "- 비자 : {visa}\n",
    "\n",
    "[근무경험]\n",
    "- {job_experience}\n",
    "\n",
    "[언어]\n",
    "- 한국어 수준 : {korean_level}\n",
    "- 기타 외국어 수준\n",
    "\t{foreign_language_level}\n",
    "\n",
    "[업무스킬]\n",
    "{job_skill}\n",
    "\n",
    "[강점]\n",
    "{strength}\n",
    "\n",
    "[희망직무]\n",
    "{objective}\n",
    "\"\"\""
   ]
  },
  {
   "cell_type": "code",
   "execution_count": 13,
   "metadata": {},
   "outputs": [
    {
     "data": {
      "text/plain": [
       "'<input>\\n[인적사항]\\n- 이름 : {name}\\n- 국적 : {nationality}\\n- 비자 : {visa}\\n\\n[근무경험]\\n- {job_experience}\\n\\n[언어]\\n- 한국어 수준 : {korean_level}\\n- 기타 외국어 수준\\n\\t{foreign_language_level}\\n\\n[업무스킬]\\n{job_skill}\\n\\n[강점]\\n{strength}\\n\\n[희망직무]\\n{objective}\\n'"
      ]
     },
     "execution_count": 13,
     "metadata": {},
     "output_type": "execute_result"
    }
   ],
   "source": [
    "prompt_template"
   ]
  },
  {
   "cell_type": "code",
   "execution_count": 10,
   "metadata": {},
   "outputs": [
    {
     "data": {
      "text/plain": [
       "PromptTemplate(input_variables=['foreign_language_level', 'job_experience', 'job_skill', 'korean_level', 'name', 'nationality', 'objective', 'strength', 'visa'], input_types={}, partial_variables={}, template='\\n<input>\\n[인적사항]\\n- 이름 : {name}\\n- 국적 : {nationality}\\n- 비자 : {visa}\\n\\n[근무경험]\\n- {job_experience}\\n\\n[언어]\\n- 한국어 수준 : {korean_level}\\n- 기타 외국어 수준\\n\\t{foreign_language_level}\\n\\n[업무스킬]\\n{job_skill}\\n\\n[강점]\\n{strength}\\n\\n[희망직무]\\n{objective}\\n')"
      ]
     },
     "execution_count": 10,
     "metadata": {},
     "output_type": "execute_result"
    }
   ],
   "source": [
    "prompt = PromptTemplate.from_template(template=prompt_template)\n",
    "prompt\n"
   ]
  },
  {
   "cell_type": "code",
   "execution_count": 11,
   "metadata": {},
   "outputs": [
    {
     "data": {
      "text/plain": [
       "'\\n<input>\\n[인적사항]\\n- 이름 : 황예원\\n- 국적 : 미국\\n- 비자 : E-9\\n\\n[근무경험]\\n- 신한투자증권 | AI 엔지니어 | 인턴 | 2024.08 ~ 2024.11 (3개월) : 법률 지식에 대한 사용자 질의를 정확하게 답변하기 위하여 대직원용 챗봇을 고도화하는 프로젝트를 맡아 진행\\n\\n[언어]\\n- 한국어 수준 : 상\\n- 기타 외국어 수준\\n\\t- 일본어 : 상\\n\\t- 영어 : 상\\n\\t- 중국어 : 중\\n\\n[업무스킬]\\n#Python #SQL #Langchain #MongoDB #Tableau\\n\\n[강점]\\n#성실함 #책임감 #밝고명랑함 #커뮤니케이션\\n\\n[희망직무]\\nAI엔지니어\\n'"
      ]
     },
     "execution_count": 11,
     "metadata": {},
     "output_type": "execute_result"
    }
   ],
   "source": [
    "prompt_str = prompt.format(\n",
    "    name=\"황예원\",\n",
    "    nationality=\"미국\",\n",
    "    visa=\"E-9\",\n",
    "    job_experience=\"신한투자증권 | AI 엔지니어 | 인턴 | 2024.08 ~ 2024.11 (3개월) : 법률 지식에 대한 사용자 질의를 정확하게 답변하기 위하여 대직원용 챗봇을 고도화하는 프로젝트를 맡아 진행\",\n",
    "    korean_level=\"상\",\n",
    "    foreign_language_level=\"\"\"- 일본어 : 상\n",
    "\t- 영어 : 상\n",
    "\t- 중국어 : 중\"\"\",\n",
    "    job_skill=\"#Python #SQL #Langchain #MongoDB #Tableau\",\n",
    "    strength=\"#성실함 #책임감 #밝고명랑함 #커뮤니케이션\",\n",
    "    objective=\"AI엔지니어\"\n",
    ")\n",
    "prompt_str"
   ]
  },
  {
   "cell_type": "code",
   "execution_count": null,
   "metadata": {},
   "outputs": [],
   "source": []
  }
 ],
 "metadata": {
  "kernelspec": {
   "display_name": "hello",
   "language": "python",
   "name": "python3"
  },
  "language_info": {
   "codemirror_mode": {
    "name": "ipython",
    "version": 3
   },
   "file_extension": ".py",
   "mimetype": "text/x-python",
   "name": "python",
   "nbconvert_exporter": "python",
   "pygments_lexer": "ipython3",
   "version": "3.11.10"
  }
 },
 "nbformat": 4,
 "nbformat_minor": 2
}
