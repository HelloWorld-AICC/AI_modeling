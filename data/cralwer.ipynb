{
 "cells": [
  {
   "cell_type": "markdown",
   "metadata": {},
   "source": [
    "## 복붙용"
   ]
  },
  {
   "cell_type": "code",
   "execution_count": 56,
   "metadata": {},
   "outputs": [
    {
     "name": "stdout",
     "output_type": "stream",
     "text": [
      "새 데이터가 raw_data/Web/nps.json에 추가되었습니다!\n"
     ]
    }
   ],
   "source": [
    "import json\n",
    "import os\n",
    "\n",
    "# 텍스트 예시\n",
    "# page_title = \"외국국적동포(H-2) 취업교육\"\n",
    "title = \"외국인 근로자도 국민연금을 의무적으로 가입해야 하나요?\"\n",
    "text = \"\"\"- 국내에 거주하는 18세 이상 60세 미만의 외국인은 국민연금 가입 대상\n",
    "- 우리나라 국민과 마찬가지로 당연적용 사업장에 종사하는 외국인은 사업장가입자, 그 외의 외국인은 지역가입자\n",
    "국내에 거주하는 18세 이상 60세 미만 외국인 근로자도 우리나라 근로자와 마찬가지로 국민연금에 가입하는 것이 원칙입니다.\n",
    "다만, 외국인이 가입 대상 요건을 갖춘 경우라 하더라도 출입국관리법에 따른 체류자격, 상호주의 원칙 및 사회보장협장이나 조약에 따라 가입 대상에서 제외되는 경우가 있으니 다음의 “가입 대상에서 제외되는 외국인”을 참고하십시오.\n",
    "\n",
    "[가입 대상에서 제외되는 외국인]\n",
    "1) 상호주의 원칙에 따른 제외\n",
    "외국인의 본국법에서 ‘국민연금에 상응하는 연금(사회경제적 위험 분담 형태의 소득보장제도)’을 대한민국 국민에게 적용하지 않는 경우\n",
    "네팔, 미얀마, 방글라데시, 파키스탄, 캄보디아 등 22개국\n",
    "2) 출입국관리법에 따른 제외\n",
    "출입국관리법에 따른 외국인등록을 하지 않았거나 강제퇴거 명령서가 발부된 외국인\n",
    "체류 기간 연장 허가를 받지 않고 체류하는 외국인\n",
    "체류자격이 문화예술(D-1), 유학(D-2), 기술연수(D-3), 일반연수(D-4), 종교(D-6), 방문동거(F-1), 동반(F-3), 기타(G-1)인 외국인\n",
    "3) 다른 법령 또는 조약(협약)에서 국민연금법 적용을 배제한 외국인\n",
    "외교관계에 관한 비엔나 협약에 따른 타 국가의 외교공관원, 영사관원\n",
    "\"\"\"\n",
    "url = \"https://www.nps.or.kr/jsppage/main.jsp\"\n",
    "\n",
    "\n",
    "# new_data = {\"title\" : page_title + \"\\n\" + title, \"contents\" : text, \"url\" : url}\n",
    "new_data = {\"title\" : title, \"contents\" : text, \"url\" : url}\n",
    "\n",
    "file_path = 'raw_data/Web/nps.json'\n",
    "\n",
    "# 기존 파일 읽기 (파일이 없는 경우 새로 생성)\n",
    "if os.path.exists(file_path):\n",
    "    with open(file_path, 'r', encoding='utf-8') as f:\n",
    "        try:\n",
    "            data = json.load(f)  # 기존 데이터를 읽어옴\n",
    "        except json.JSONDecodeError:\n",
    "            data = []  # 파일이 비어있으면 빈 리스트로 초기화\n",
    "else:\n",
    "    data = []\n",
    "\n",
    "# 새 데이터를 리스트에 추가\n",
    "data.append(new_data)\n",
    "\n",
    "# 업데이트된 데이터를 다시 파일에 저장\n",
    "with open(file_path, 'w', encoding='utf-8') as f:\n",
    "    json.dump(data, f, ensure_ascii=False, indent=4)\n",
    "\n",
    "print(f\"새 데이터가 {file_path}에 추가되었습니다!\")"
   ]
  },
  {
   "cell_type": "code",
   "execution_count": null,
   "metadata": {},
   "outputs": [],
   "source": []
  },
  {
   "cell_type": "markdown",
   "metadata": {},
   "source": [
    "## 셀레니움 코드"
   ]
  },
  {
   "cell_type": "code",
   "execution_count": 6,
   "metadata": {},
   "outputs": [
    {
     "name": "stderr",
     "output_type": "stream",
     "text": [
      "  0%|          | 3/4960 [01:10<32:11:04, 23.37s/it]\n"
     ]
    },
    {
     "ename": "KeyboardInterrupt",
     "evalue": "",
     "output_type": "error",
     "traceback": [
      "\u001b[1;31m---------------------------------------------------------------------------\u001b[0m",
      "\u001b[1;31mKeyboardInterrupt\u001b[0m                         Traceback (most recent call last)",
      "Cell \u001b[1;32mIn[6], line 67\u001b[0m\n\u001b[0;32m     65\u001b[0m     driver\u001b[38;5;241m.\u001b[39mclose()\n\u001b[0;32m     66\u001b[0m     driver\u001b[38;5;241m.\u001b[39mswitch_to\u001b[38;5;241m.\u001b[39mwindow(driver\u001b[38;5;241m.\u001b[39mwindow_handles[\u001b[38;5;241m0\u001b[39m])\n\u001b[1;32m---> 67\u001b[0m     time\u001b[38;5;241m.\u001b[39msleep(random\u001b[38;5;241m.\u001b[39muniform(\u001b[38;5;241m0.5\u001b[39m, \u001b[38;5;241m1\u001b[39m))\n\u001b[0;32m     69\u001b[0m \u001b[38;5;28;01mexcept\u001b[39;00m \u001b[38;5;167;01mException\u001b[39;00m:\n\u001b[0;32m     70\u001b[0m     \u001b[38;5;28;01mif\u001b[39;00m \u001b[38;5;28mlen\u001b[39m(driver\u001b[38;5;241m.\u001b[39mwindow_handles) \u001b[38;5;241m>\u001b[39m \u001b[38;5;241m1\u001b[39m:\n",
      "\u001b[1;31mKeyboardInterrupt\u001b[0m: "
     ]
    }
   ],
   "source": [
    "# import json\n",
    "# import time\n",
    "# from selenium import webdriver\n",
    "# from selenium.webdriver.common.by import By\n",
    "# from selenium.webdriver.support.ui import WebDriverWait\n",
    "# from selenium.webdriver.support import expected_conditions as EC\n",
    "# from selenium.webdriver.chrome.options import Options\n",
    "# from tqdm import tqdm\n",
    "# import os\n",
    "# import random\n",
    "\n",
    "# # Headless Mode 설정\n",
    "# chrome_options = Options()\n",
    "# chrome_options.add_argument(\"--headless\")\n",
    "# chrome_options.add_argument(\"--disable-gpu\")\n",
    "# chrome_options.add_argument(\"--no-sandbox\")\n",
    "# chrome_options.add_argument(\"--disable-blink-features=AutomationControlled\")\n",
    "\n",
    "# # WebDriver 초기화\n",
    "# driver = webdriver.Chrome(options=chrome_options)\n",
    "# url = 'https://www.moel.go.kr/minwon/fastcounsel/fastcounselList.do'\n",
    "# file_path = 'raw_data/Web/moel.json'\n",
    "# data = []\n",
    "\n",
    "# # # 기존 파일 읽기 (파일이 없는 경우 새로 생성)\n",
    "# # if os.path.exists(file_path):\n",
    "# #     with open(file_path, 'r', encoding='utf-8') as f:\n",
    "# #         try:\n",
    "# #             data = json.load(f)  # 기존 데이터를 읽어옴\n",
    "# #             print(\"## Data loaded : \", len(data))\n",
    "# #         except json.JSONDecodeError:\n",
    "# #             data = []  # 파일이 비어있으면 빈 리스트로 초기화\n",
    "# # else:\n",
    "# #     data = []\n",
    "\n",
    "# passed_page = 0\n",
    "\n",
    "# try:\n",
    "#     driver.get(url)\n",
    "\n",
    "#     for page in tqdm(range(1, 4961)):\n",
    "#         rows = WebDriverWait(driver, 20).until(\n",
    "#                 EC.presence_of_all_elements_located((By.CSS_SELECTOR, \".board_list tbody tr\"))\n",
    "#             )\n",
    "\n",
    "#         for row in rows:\n",
    "#             try:\n",
    "#                 a_tag = row.find_element(By.CSS_SELECTOR, \"td.txt_left > strong > a\")\n",
    "#                 date = row.find_element(By.CSS_SELECTOR, \"td:nth-child(3)\").text\n",
    "#                 link = a_tag.get_attribute('href')\n",
    "\n",
    "#                 driver.execute_script(f\"window.open('{link}', '_blank');\")\n",
    "#                 driver.switch_to.window(driver.window_handles[1])\n",
    "#                 time.sleep(random.uniform(0.5, 1))\n",
    "\n",
    "#                 title = WebDriverWait(driver, 20).until(\n",
    "#                     EC.presence_of_element_located((By.CSS_SELECTOR, \"#contents_body .b_info dl:nth-child(1) > dd\"))\n",
    "#                 ).text\n",
    "#                 contents = WebDriverWait(driver, 20).until(\n",
    "#                     EC.presence_of_element_located((By.CSS_SELECTOR, \"#contents_body .b_info dl:nth-child(2) > dd\"))\n",
    "#                 ).text\n",
    "\n",
    "#                 data.append({\"title\": title, \"contents\": contents, \"date\": date, \"url\": link})\n",
    "\n",
    "#                 driver.close()\n",
    "#                 driver.switch_to.window(driver.window_handles[0])\n",
    "#                 time.sleep(random.uniform(0.5, 1))\n",
    "                \n",
    "#             except Exception:\n",
    "#                 if len(driver.window_handles) > 1:\n",
    "#                     driver.close()\n",
    "#                     driver.switch_to.window(driver.window_handles[0])\n",
    "\n",
    "#         # 다음 페이지로 이동\n",
    "#         try:\n",
    "#             time.sleep(random.uniform(1, 3))\n",
    "#             next_button = WebDriverWait(driver, 10).until(\n",
    "#                 EC.element_to_be_clickable((By.CSS_SELECTOR, \"#frm .board_pager.t2 .arr.next\"))\n",
    "#             )\n",
    "#             if 'disabled' in next_button.get_attribute('class'):\n",
    "#                 break\n",
    "#             next_button.click()\n",
    "#         except Exception:\n",
    "#             break\n",
    "\n",
    "# finally:\n",
    "#     driver.quit()\n",
    "#     with open(file_path, 'w', encoding='utf-8') as f:\n",
    "#         json.dump(data, f, ensure_ascii=False, indent=4)\n"
   ]
  },
  {
   "cell_type": "markdown",
   "metadata": {},
   "source": [
    "611페이지 즈음해서 크롤링 막히는 문제 발생.\n",
    "\n",
    "-> bs4로 추가 진행"
   ]
  },
  {
   "cell_type": "markdown",
   "metadata": {},
   "source": [
    "## 근로복지공단"
   ]
  },
  {
   "cell_type": "code",
   "execution_count": 68,
   "metadata": {},
   "outputs": [
    {
     "name": "stderr",
     "output_type": "stream",
     "text": [
      "100%|██████████| 66/66 [01:12<00:00,  1.10s/it]\n"
     ]
    },
    {
     "name": "stdout",
     "output_type": "stream",
     "text": [
      "Crawling completed.\n"
     ]
    }
   ],
   "source": [
    "import json\n",
    "import time\n",
    "from tqdm import tqdm\n",
    "import os\n",
    "import random\n",
    "from bs4 import BeautifulSoup\n",
    "from selenium import webdriver\n",
    "from selenium.webdriver.common.by import By\n",
    "from selenium.webdriver.support.ui import WebDriverWait\n",
    "from selenium.webdriver.support import expected_conditions as EC\n",
    "from selenium.webdriver.common.action_chains import ActionChains\n",
    "from selenium.webdriver.common.keys import Keys\n",
    "\n",
    "url = 'https://www.comwel.or.kr/comwel/help/index.jsp?page=1&start_dt=&end_dt=&req_tp=&type=title&key=%EC%99%B8%EA%B5%AD%EC%9D%B8'\n",
    "file_path = 'raw_data/Web/comwel.json'\n",
    "data = []\n",
    "\n",
    "# Selenium 설정\n",
    "options = webdriver.ChromeOptions()\n",
    "# options.add_argument('--headless')\n",
    "# options.add_argument('--no-sandbox')\n",
    "options.add_argument('--disable-dev-shm-usage')\n",
    "options.add_argument(\"--disable-blink-features=AutomationControlled\")\n",
    "options.add_argument(\"--disable-infobars\")\n",
    "\n",
    "try:\n",
    "    driver = webdriver.Chrome(options=options)\n",
    "    driver.get(url)\n",
    "\n",
    "    for i in tqdm(range(1, 67)):\n",
    "        driver.get(f\"https://www.comwel.or.kr/comwel/help/index.jsp?page={i}&start_dt=&end_dt=&req_tp=&type=title&key=%EC%99%B8%EA%B5%AD%EC%9D%B8\")\n",
    "        WebDriverWait(driver, 10).until(EC.presence_of_element_located((By.CSS_SELECTOR, \"#contents > table > tbody > tr\")))\n",
    "        rows = driver.find_elements(By.CSS_SELECTOR, \"#contents > table > tbody > tr\")\n",
    "\n",
    "        for row in rows:\n",
    "            img_alt = row.find_element(By.CSS_SELECTOR, \"td:nth-child(3) > img\").get_attribute(\"alt\") if row.find_elements(By.CSS_SELECTOR, \"td:nth-child(3) > img\") else None\n",
    "            if img_alt == \"비공개\":\n",
    "                continue\n",
    "\n",
    "            topic = row.find_element(By.CSS_SELECTOR, \"td:nth-child(2)\").text.strip()\n",
    "            title_element = row.find_element(By.CSS_SELECTOR, \"td.td01 > a\")\n",
    "            title = title_element.text.strip()\n",
    "            date = row.find_element(By.CSS_SELECTOR, \"td:nth-child(5)\").text.strip()\n",
    "\n",
    "            # 링크 클릭으로 이동\n",
    "            ActionChains(driver).move_to_element(title_element).click().perform()\n",
    "            WebDriverWait(driver, 10).until(EC.presence_of_element_located((By.CSS_SELECTOR, \"#contents\")))\n",
    "\n",
    "            question = \"\"\n",
    "            question_elements = driver.find_elements(By.CSS_SELECTOR, \"#contents > table.view02 > tbody > tr > td > p\")\n",
    "            for q in question_elements:\n",
    "                question += q.text.strip() + \"\\n\"\n",
    "\n",
    "            answer = \"\"\n",
    "            answer_element = driver.find_elements(By.CSS_SELECTOR, \"#contents > table.viewAn > tbody > tr:nth-child(2) > td.td02 > div\")\n",
    "            if answer_element:\n",
    "                answer += answer_element[0].text.strip() + \"\\n\"\n",
    "\n",
    "            contents = f\"질문 : {question.strip()}\\n\\n답변 : {answer.strip()}\"\n",
    "            print(contents)\n",
    "\n",
    "            new_data = {\n",
    "                \"topic\": topic,\n",
    "                \"title\": title,\n",
    "                \"date\": date,\n",
    "                \"contents\": contents,\n",
    "                \"url\": driver.current_url\n",
    "            }\n",
    "\n",
    "            data.append(new_data)\n",
    "\n",
    "            # 뒤로 가기\n",
    "            driver.back()\n",
    "            WebDriverWait(driver, 10).until(EC.presence_of_element_located((By.CSS_SELECTOR, \"#contents > table > tbody > tr\")))\n",
    "\n",
    "finally:\n",
    "    driver.quit()\n",
    "    # 데이터 저장\n",
    "    os.makedirs(os.path.dirname(file_path), exist_ok=True)\n",
    "    with open(file_path, 'w', encoding='utf-8') as f:\n",
    "        json.dump(data, f, ensure_ascii=False, indent=4)\n",
    "\n",
    "print(\"Crawling completed.\")\n"
   ]
  },
  {
   "cell_type": "code",
   "execution_count": null,
   "metadata": {},
   "outputs": [],
   "source": []
  }
 ],
 "metadata": {
  "kernelspec": {
   "display_name": "hello",
   "language": "python",
   "name": "python3"
  },
  "language_info": {
   "codemirror_mode": {
    "name": "ipython",
    "version": 3
   },
   "file_extension": ".py",
   "mimetype": "text/x-python",
   "name": "python",
   "nbconvert_exporter": "python",
   "pygments_lexer": "ipython3",
   "version": "3.11.10"
  }
 },
 "nbformat": 4,
 "nbformat_minor": 2
}
