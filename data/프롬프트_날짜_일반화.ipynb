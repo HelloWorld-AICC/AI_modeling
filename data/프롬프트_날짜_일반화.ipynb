{
  "nbformat": 4,
  "nbformat_minor": 0,
  "metadata": {
    "colab": {
      "provenance": []
    },
    "kernelspec": {
      "name": "python3",
      "display_name": "Python 3"
    },
    "language_info": {
      "name": "python"
    }
  },
  "cells": [
    {
      "cell_type": "code",
      "source": [
        "from google.colab import drive\n",
        "drive.mount('/content/drive')"
      ],
      "metadata": {
        "colab": {
          "base_uri": "https://localhost:8080/"
        },
        "id": "NfPiYCY0DCSg",
        "outputId": "3cc18d7e-2010-4cad-c129-b27c1f4976a6"
      },
      "execution_count": 1,
      "outputs": [
        {
          "output_type": "stream",
          "name": "stdout",
          "text": [
            "Mounted at /content/drive\n"
          ]
        }
      ]
    },
    {
      "cell_type": "code",
      "source": [
        "!pip install openai"
      ],
      "metadata": {
        "colab": {
          "base_uri": "https://localhost:8080/"
        },
        "id": "KFk7KCEgFi2b",
        "outputId": "b1ad6d2b-f1ae-4a63-d6c8-c74214077f13"
      },
      "execution_count": 2,
      "outputs": [
        {
          "output_type": "stream",
          "name": "stdout",
          "text": [
            "Requirement already satisfied: openai in /usr/local/lib/python3.10/dist-packages (1.52.2)\n",
            "Requirement already satisfied: anyio<5,>=3.5.0 in /usr/local/lib/python3.10/dist-packages (from openai) (3.7.1)\n",
            "Requirement already satisfied: distro<2,>=1.7.0 in /usr/local/lib/python3.10/dist-packages (from openai) (1.9.0)\n",
            "Requirement already satisfied: httpx<1,>=0.23.0 in /usr/local/lib/python3.10/dist-packages (from openai) (0.27.2)\n",
            "Requirement already satisfied: jiter<1,>=0.4.0 in /usr/local/lib/python3.10/dist-packages (from openai) (0.6.1)\n",
            "Requirement already satisfied: pydantic<3,>=1.9.0 in /usr/local/lib/python3.10/dist-packages (from openai) (2.9.2)\n",
            "Requirement already satisfied: sniffio in /usr/local/lib/python3.10/dist-packages (from openai) (1.3.1)\n",
            "Requirement already satisfied: tqdm>4 in /usr/local/lib/python3.10/dist-packages (from openai) (4.66.6)\n",
            "Requirement already satisfied: typing-extensions<5,>=4.11 in /usr/local/lib/python3.10/dist-packages (from openai) (4.12.2)\n",
            "Requirement already satisfied: idna>=2.8 in /usr/local/lib/python3.10/dist-packages (from anyio<5,>=3.5.0->openai) (3.10)\n",
            "Requirement already satisfied: exceptiongroup in /usr/local/lib/python3.10/dist-packages (from anyio<5,>=3.5.0->openai) (1.2.2)\n",
            "Requirement already satisfied: certifi in /usr/local/lib/python3.10/dist-packages (from httpx<1,>=0.23.0->openai) (2024.8.30)\n",
            "Requirement already satisfied: httpcore==1.* in /usr/local/lib/python3.10/dist-packages (from httpx<1,>=0.23.0->openai) (1.0.6)\n",
            "Requirement already satisfied: h11<0.15,>=0.13 in /usr/local/lib/python3.10/dist-packages (from httpcore==1.*->httpx<1,>=0.23.0->openai) (0.14.0)\n",
            "Requirement already satisfied: annotated-types>=0.6.0 in /usr/local/lib/python3.10/dist-packages (from pydantic<3,>=1.9.0->openai) (0.7.0)\n",
            "Requirement already satisfied: pydantic-core==2.23.4 in /usr/local/lib/python3.10/dist-packages (from pydantic<3,>=1.9.0->openai) (2.23.4)\n"
          ]
        }
      ]
    },
    {
      "cell_type": "code",
      "source": [
        "import pandas as pd"
      ],
      "metadata": {
        "id": "46sL2o76C8Nf"
      },
      "execution_count": 3,
      "outputs": []
    },
    {
      "cell_type": "code",
      "source": [
        "data = pd.read_json('/content/drive/MyDrive/HelloWorld/AI/data/raw_data/Web/경기도외국인지원센터_상담사례.json')"
      ],
      "metadata": {
        "id": "esQWXKhOC8Hy"
      },
      "execution_count": 4,
      "outputs": []
    },
    {
      "cell_type": "code",
      "source": [
        "data.head()"
      ],
      "metadata": {
        "colab": {
          "base_uri": "https://localhost:8080/",
          "height": 1000
        },
        "id": "I80dCB3MC8Ew",
        "outputId": "7daf30b6-c447-4909-8413-95b33cab454e"
      },
      "execution_count": 5,
      "outputs": [
        {
          "output_type": "execute_result",
          "data": {
            "text/plain": [
              "                                              제목       작성일  상담유형  거주지역  \\\n",
              "0          중도 퇴사 후 근로소득 신고되지 않아 고용허가연장 안된 노동자 지원  23-11-27  체류자격   여주시   \n",
              "1                               국민연금 반환일시금 신청 지원  23-11-27    기타  남양주시   \n",
              "2  외국인아동 교육권 보장을 위한 체류자격 부여자(G-1-85) 외국인등록 절차 지원  23-11-27  체류자격  남양주시   \n",
              "3                           단체행동을 통해 체불임금 해결한 사례  23-11-27  임금체불   안산시   \n",
              "4              취업가능기간이 짧게 남아 취업이 어려운 노동자 구직활동 지원  23-11-27  고용허가   시흥시   \n",
              "\n",
              "       국적 체류자격                                               상담내용  \\\n",
              "0  우즈베키스탄  E-9                        중도 퇴직하는 외국인 근로자의 추가 납부세액 사례   \n",
              "1     필리핀  미등록  2023년 8월 중순 미등록체류 상황에서 본국으로 강제출국 당한 필리핀 국적의 이주...   \n",
              "2     필리핀  미등록  법무부 장기 미등록체류 이주아동 구제대책으로 23년 4월에 접수한 필리핀 국적의 아...   \n",
              "3     필리핀  E-9  사례자 안산시 한 직장에서 근무하는데, 회사에서 잔업수당 등을 상습적으로 속이고 있...   \n",
              "4     필리핀  E-9  상기 사례자는 한국 체류기간(노동가능기간)이 1년 4개월로 비교적 짧게 남아서 면접...   \n",
              "\n",
              "                                          진행 과정 및 결과 관련법령 및 정보 평가 및 의의  \\\n",
              "0  2023-09-18\\n- 고용노동부에서 외국인근로자의 2020년 종합소득세 체납을 ...                     \n",
              "1  11월 2일\\n1. 노동자로부터 우편으로 관련서류 수령.\\n 1) 외국인등록증 사본...                     \n",
              "2  11월 1일\\n1. 양주출입국 사범과 방문.\\n2. 담당자로부터 유전자 검사 결과 ...                     \n",
              "3  8월 14일\\n(전화상담) 회사에서 급여계산을 잘못해서 주고 야간 수당을 안주고 있...                     \n",
              "4  4월 2일\\n(내방상담) 현재 다니는 2번째 회사에도 일이 없어서 사업장변경 신청하...                     \n",
              "\n",
              "        상담지원단체  작성자                                  url  \n",
              "0   여주시외국인복지센터  이수현  https://gmhr.or.kr/case/1703?page=1  \n",
              "1  남양주시외국인복지센터  김성수  https://gmhr.or.kr/case/1702?page=1  \n",
              "2  남양주시외국인복지센터  김성수  https://gmhr.or.kr/case/1701?page=1  \n",
              "3      글로벌미션센터  최경식  https://gmhr.or.kr/case/1700?page=1  \n",
              "4      글로벌미션센터  최경식  https://gmhr.or.kr/case/1699?page=1  "
            ],
            "text/html": [
              "\n",
              "  <div id=\"df-ee09ac39-50f2-46cc-aab5-1f9020e3bbf0\" class=\"colab-df-container\">\n",
              "    <div>\n",
              "<style scoped>\n",
              "    .dataframe tbody tr th:only-of-type {\n",
              "        vertical-align: middle;\n",
              "    }\n",
              "\n",
              "    .dataframe tbody tr th {\n",
              "        vertical-align: top;\n",
              "    }\n",
              "\n",
              "    .dataframe thead th {\n",
              "        text-align: right;\n",
              "    }\n",
              "</style>\n",
              "<table border=\"1\" class=\"dataframe\">\n",
              "  <thead>\n",
              "    <tr style=\"text-align: right;\">\n",
              "      <th></th>\n",
              "      <th>제목</th>\n",
              "      <th>작성일</th>\n",
              "      <th>상담유형</th>\n",
              "      <th>거주지역</th>\n",
              "      <th>국적</th>\n",
              "      <th>체류자격</th>\n",
              "      <th>상담내용</th>\n",
              "      <th>진행 과정 및 결과</th>\n",
              "      <th>관련법령 및 정보</th>\n",
              "      <th>평가 및 의의</th>\n",
              "      <th>상담지원단체</th>\n",
              "      <th>작성자</th>\n",
              "      <th>url</th>\n",
              "    </tr>\n",
              "  </thead>\n",
              "  <tbody>\n",
              "    <tr>\n",
              "      <th>0</th>\n",
              "      <td>중도 퇴사 후 근로소득 신고되지 않아 고용허가연장 안된 노동자 지원</td>\n",
              "      <td>23-11-27</td>\n",
              "      <td>체류자격</td>\n",
              "      <td>여주시</td>\n",
              "      <td>우즈베키스탄</td>\n",
              "      <td>E-9</td>\n",
              "      <td>중도 퇴직하는 외국인 근로자의 추가 납부세액 사례</td>\n",
              "      <td>2023-09-18\\n- 고용노동부에서 외국인근로자의 2020년 종합소득세 체납을 ...</td>\n",
              "      <td></td>\n",
              "      <td></td>\n",
              "      <td>여주시외국인복지센터</td>\n",
              "      <td>이수현</td>\n",
              "      <td>https://gmhr.or.kr/case/1703?page=1</td>\n",
              "    </tr>\n",
              "    <tr>\n",
              "      <th>1</th>\n",
              "      <td>국민연금 반환일시금 신청 지원</td>\n",
              "      <td>23-11-27</td>\n",
              "      <td>기타</td>\n",
              "      <td>남양주시</td>\n",
              "      <td>필리핀</td>\n",
              "      <td>미등록</td>\n",
              "      <td>2023년 8월 중순 미등록체류 상황에서 본국으로 강제출국 당한 필리핀 국적의 이주...</td>\n",
              "      <td>11월 2일\\n1. 노동자로부터 우편으로 관련서류 수령.\\n 1) 외국인등록증 사본...</td>\n",
              "      <td></td>\n",
              "      <td></td>\n",
              "      <td>남양주시외국인복지센터</td>\n",
              "      <td>김성수</td>\n",
              "      <td>https://gmhr.or.kr/case/1702?page=1</td>\n",
              "    </tr>\n",
              "    <tr>\n",
              "      <th>2</th>\n",
              "      <td>외국인아동 교육권 보장을 위한 체류자격 부여자(G-1-85) 외국인등록 절차 지원</td>\n",
              "      <td>23-11-27</td>\n",
              "      <td>체류자격</td>\n",
              "      <td>남양주시</td>\n",
              "      <td>필리핀</td>\n",
              "      <td>미등록</td>\n",
              "      <td>법무부 장기 미등록체류 이주아동 구제대책으로 23년 4월에 접수한 필리핀 국적의 아...</td>\n",
              "      <td>11월 1일\\n1. 양주출입국 사범과 방문.\\n2. 담당자로부터 유전자 검사 결과 ...</td>\n",
              "      <td></td>\n",
              "      <td></td>\n",
              "      <td>남양주시외국인복지센터</td>\n",
              "      <td>김성수</td>\n",
              "      <td>https://gmhr.or.kr/case/1701?page=1</td>\n",
              "    </tr>\n",
              "    <tr>\n",
              "      <th>3</th>\n",
              "      <td>단체행동을 통해 체불임금 해결한 사례</td>\n",
              "      <td>23-11-27</td>\n",
              "      <td>임금체불</td>\n",
              "      <td>안산시</td>\n",
              "      <td>필리핀</td>\n",
              "      <td>E-9</td>\n",
              "      <td>사례자 안산시 한 직장에서 근무하는데, 회사에서 잔업수당 등을 상습적으로 속이고 있...</td>\n",
              "      <td>8월 14일\\n(전화상담) 회사에서 급여계산을 잘못해서 주고 야간 수당을 안주고 있...</td>\n",
              "      <td></td>\n",
              "      <td></td>\n",
              "      <td>글로벌미션센터</td>\n",
              "      <td>최경식</td>\n",
              "      <td>https://gmhr.or.kr/case/1700?page=1</td>\n",
              "    </tr>\n",
              "    <tr>\n",
              "      <th>4</th>\n",
              "      <td>취업가능기간이 짧게 남아 취업이 어려운 노동자 구직활동 지원</td>\n",
              "      <td>23-11-27</td>\n",
              "      <td>고용허가</td>\n",
              "      <td>시흥시</td>\n",
              "      <td>필리핀</td>\n",
              "      <td>E-9</td>\n",
              "      <td>상기 사례자는 한국 체류기간(노동가능기간)이 1년 4개월로 비교적 짧게 남아서 면접...</td>\n",
              "      <td>4월 2일\\n(내방상담) 현재 다니는 2번째 회사에도 일이 없어서 사업장변경 신청하...</td>\n",
              "      <td></td>\n",
              "      <td></td>\n",
              "      <td>글로벌미션센터</td>\n",
              "      <td>최경식</td>\n",
              "      <td>https://gmhr.or.kr/case/1699?page=1</td>\n",
              "    </tr>\n",
              "  </tbody>\n",
              "</table>\n",
              "</div>\n",
              "    <div class=\"colab-df-buttons\">\n",
              "\n",
              "  <div class=\"colab-df-container\">\n",
              "    <button class=\"colab-df-convert\" onclick=\"convertToInteractive('df-ee09ac39-50f2-46cc-aab5-1f9020e3bbf0')\"\n",
              "            title=\"Convert this dataframe to an interactive table.\"\n",
              "            style=\"display:none;\">\n",
              "\n",
              "  <svg xmlns=\"http://www.w3.org/2000/svg\" height=\"24px\" viewBox=\"0 -960 960 960\">\n",
              "    <path d=\"M120-120v-720h720v720H120Zm60-500h600v-160H180v160Zm220 220h160v-160H400v160Zm0 220h160v-160H400v160ZM180-400h160v-160H180v160Zm440 0h160v-160H620v160ZM180-180h160v-160H180v160Zm440 0h160v-160H620v160Z\"/>\n",
              "  </svg>\n",
              "    </button>\n",
              "\n",
              "  <style>\n",
              "    .colab-df-container {\n",
              "      display:flex;\n",
              "      gap: 12px;\n",
              "    }\n",
              "\n",
              "    .colab-df-convert {\n",
              "      background-color: #E8F0FE;\n",
              "      border: none;\n",
              "      border-radius: 50%;\n",
              "      cursor: pointer;\n",
              "      display: none;\n",
              "      fill: #1967D2;\n",
              "      height: 32px;\n",
              "      padding: 0 0 0 0;\n",
              "      width: 32px;\n",
              "    }\n",
              "\n",
              "    .colab-df-convert:hover {\n",
              "      background-color: #E2EBFA;\n",
              "      box-shadow: 0px 1px 2px rgba(60, 64, 67, 0.3), 0px 1px 3px 1px rgba(60, 64, 67, 0.15);\n",
              "      fill: #174EA6;\n",
              "    }\n",
              "\n",
              "    .colab-df-buttons div {\n",
              "      margin-bottom: 4px;\n",
              "    }\n",
              "\n",
              "    [theme=dark] .colab-df-convert {\n",
              "      background-color: #3B4455;\n",
              "      fill: #D2E3FC;\n",
              "    }\n",
              "\n",
              "    [theme=dark] .colab-df-convert:hover {\n",
              "      background-color: #434B5C;\n",
              "      box-shadow: 0px 1px 3px 1px rgba(0, 0, 0, 0.15);\n",
              "      filter: drop-shadow(0px 1px 2px rgba(0, 0, 0, 0.3));\n",
              "      fill: #FFFFFF;\n",
              "    }\n",
              "  </style>\n",
              "\n",
              "    <script>\n",
              "      const buttonEl =\n",
              "        document.querySelector('#df-ee09ac39-50f2-46cc-aab5-1f9020e3bbf0 button.colab-df-convert');\n",
              "      buttonEl.style.display =\n",
              "        google.colab.kernel.accessAllowed ? 'block' : 'none';\n",
              "\n",
              "      async function convertToInteractive(key) {\n",
              "        const element = document.querySelector('#df-ee09ac39-50f2-46cc-aab5-1f9020e3bbf0');\n",
              "        const dataTable =\n",
              "          await google.colab.kernel.invokeFunction('convertToInteractive',\n",
              "                                                    [key], {});\n",
              "        if (!dataTable) return;\n",
              "\n",
              "        const docLinkHtml = 'Like what you see? Visit the ' +\n",
              "          '<a target=\"_blank\" href=https://colab.research.google.com/notebooks/data_table.ipynb>data table notebook</a>'\n",
              "          + ' to learn more about interactive tables.';\n",
              "        element.innerHTML = '';\n",
              "        dataTable['output_type'] = 'display_data';\n",
              "        await google.colab.output.renderOutput(dataTable, element);\n",
              "        const docLink = document.createElement('div');\n",
              "        docLink.innerHTML = docLinkHtml;\n",
              "        element.appendChild(docLink);\n",
              "      }\n",
              "    </script>\n",
              "  </div>\n",
              "\n",
              "\n",
              "<div id=\"df-5b5d9bef-aae2-4504-bda2-a0e7a7be00a6\">\n",
              "  <button class=\"colab-df-quickchart\" onclick=\"quickchart('df-5b5d9bef-aae2-4504-bda2-a0e7a7be00a6')\"\n",
              "            title=\"Suggest charts\"\n",
              "            style=\"display:none;\">\n",
              "\n",
              "<svg xmlns=\"http://www.w3.org/2000/svg\" height=\"24px\"viewBox=\"0 0 24 24\"\n",
              "     width=\"24px\">\n",
              "    <g>\n",
              "        <path d=\"M19 3H5c-1.1 0-2 .9-2 2v14c0 1.1.9 2 2 2h14c1.1 0 2-.9 2-2V5c0-1.1-.9-2-2-2zM9 17H7v-7h2v7zm4 0h-2V7h2v10zm4 0h-2v-4h2v4z\"/>\n",
              "    </g>\n",
              "</svg>\n",
              "  </button>\n",
              "\n",
              "<style>\n",
              "  .colab-df-quickchart {\n",
              "      --bg-color: #E8F0FE;\n",
              "      --fill-color: #1967D2;\n",
              "      --hover-bg-color: #E2EBFA;\n",
              "      --hover-fill-color: #174EA6;\n",
              "      --disabled-fill-color: #AAA;\n",
              "      --disabled-bg-color: #DDD;\n",
              "  }\n",
              "\n",
              "  [theme=dark] .colab-df-quickchart {\n",
              "      --bg-color: #3B4455;\n",
              "      --fill-color: #D2E3FC;\n",
              "      --hover-bg-color: #434B5C;\n",
              "      --hover-fill-color: #FFFFFF;\n",
              "      --disabled-bg-color: #3B4455;\n",
              "      --disabled-fill-color: #666;\n",
              "  }\n",
              "\n",
              "  .colab-df-quickchart {\n",
              "    background-color: var(--bg-color);\n",
              "    border: none;\n",
              "    border-radius: 50%;\n",
              "    cursor: pointer;\n",
              "    display: none;\n",
              "    fill: var(--fill-color);\n",
              "    height: 32px;\n",
              "    padding: 0;\n",
              "    width: 32px;\n",
              "  }\n",
              "\n",
              "  .colab-df-quickchart:hover {\n",
              "    background-color: var(--hover-bg-color);\n",
              "    box-shadow: 0 1px 2px rgba(60, 64, 67, 0.3), 0 1px 3px 1px rgba(60, 64, 67, 0.15);\n",
              "    fill: var(--button-hover-fill-color);\n",
              "  }\n",
              "\n",
              "  .colab-df-quickchart-complete:disabled,\n",
              "  .colab-df-quickchart-complete:disabled:hover {\n",
              "    background-color: var(--disabled-bg-color);\n",
              "    fill: var(--disabled-fill-color);\n",
              "    box-shadow: none;\n",
              "  }\n",
              "\n",
              "  .colab-df-spinner {\n",
              "    border: 2px solid var(--fill-color);\n",
              "    border-color: transparent;\n",
              "    border-bottom-color: var(--fill-color);\n",
              "    animation:\n",
              "      spin 1s steps(1) infinite;\n",
              "  }\n",
              "\n",
              "  @keyframes spin {\n",
              "    0% {\n",
              "      border-color: transparent;\n",
              "      border-bottom-color: var(--fill-color);\n",
              "      border-left-color: var(--fill-color);\n",
              "    }\n",
              "    20% {\n",
              "      border-color: transparent;\n",
              "      border-left-color: var(--fill-color);\n",
              "      border-top-color: var(--fill-color);\n",
              "    }\n",
              "    30% {\n",
              "      border-color: transparent;\n",
              "      border-left-color: var(--fill-color);\n",
              "      border-top-color: var(--fill-color);\n",
              "      border-right-color: var(--fill-color);\n",
              "    }\n",
              "    40% {\n",
              "      border-color: transparent;\n",
              "      border-right-color: var(--fill-color);\n",
              "      border-top-color: var(--fill-color);\n",
              "    }\n",
              "    60% {\n",
              "      border-color: transparent;\n",
              "      border-right-color: var(--fill-color);\n",
              "    }\n",
              "    80% {\n",
              "      border-color: transparent;\n",
              "      border-right-color: var(--fill-color);\n",
              "      border-bottom-color: var(--fill-color);\n",
              "    }\n",
              "    90% {\n",
              "      border-color: transparent;\n",
              "      border-bottom-color: var(--fill-color);\n",
              "    }\n",
              "  }\n",
              "</style>\n",
              "\n",
              "  <script>\n",
              "    async function quickchart(key) {\n",
              "      const quickchartButtonEl =\n",
              "        document.querySelector('#' + key + ' button');\n",
              "      quickchartButtonEl.disabled = true;  // To prevent multiple clicks.\n",
              "      quickchartButtonEl.classList.add('colab-df-spinner');\n",
              "      try {\n",
              "        const charts = await google.colab.kernel.invokeFunction(\n",
              "            'suggestCharts', [key], {});\n",
              "      } catch (error) {\n",
              "        console.error('Error during call to suggestCharts:', error);\n",
              "      }\n",
              "      quickchartButtonEl.classList.remove('colab-df-spinner');\n",
              "      quickchartButtonEl.classList.add('colab-df-quickchart-complete');\n",
              "    }\n",
              "    (() => {\n",
              "      let quickchartButtonEl =\n",
              "        document.querySelector('#df-5b5d9bef-aae2-4504-bda2-a0e7a7be00a6 button');\n",
              "      quickchartButtonEl.style.display =\n",
              "        google.colab.kernel.accessAllowed ? 'block' : 'none';\n",
              "    })();\n",
              "  </script>\n",
              "</div>\n",
              "\n",
              "    </div>\n",
              "  </div>\n"
            ],
            "application/vnd.google.colaboratory.intrinsic+json": {
              "type": "dataframe",
              "variable_name": "data",
              "summary": "{\n  \"name\": \"data\",\n  \"rows\": 1700,\n  \"fields\": [\n    {\n      \"column\": \"\\uc81c\\ubaa9\",\n      \"properties\": {\n        \"dtype\": \"string\",\n        \"num_unique_values\": 1669,\n        \"samples\": [\n          \"\\uc774\\ube48\\ud6c4\\uacfc \\uce58\\ub8cc\\ub85c \\uadc0\\uad6d\\uacb0\\uc815\\ud55c \\ub178\\ub3d9\\uc790 \\uc9c4\\ub8cc \\uc9c0\\uc6d0\",\n          \"\\uc18c\\uc561\\uccb4\\ub2f9\\uae08 \\uc2e0\\uccad \\uc9c0\\uc6d0\",\n          \"\\ud3c9\\uc18c \\uae30\\uc800\\uc9c8\\ud658\\uc774 \\uc788\\ub294 \\uacb0\\ud63c\\uc774\\uc8fc\\uc5ec\\uc131\\uc758 \\ucf54\\ub85c\\ub098 \\uaca9\\ub9ac\\uc0dd\\ud65c \\uc9c0\\uc6d0\"\n        ],\n        \"semantic_type\": \"\",\n        \"description\": \"\"\n      }\n    },\n    {\n      \"column\": \"\\uc791\\uc131\\uc77c\",\n      \"properties\": {\n        \"dtype\": \"object\",\n        \"num_unique_values\": 134,\n        \"samples\": [\n          \"16-05-02\",\n          \"20-07-01\",\n          \"17-08-28\"\n        ],\n        \"semantic_type\": \"\",\n        \"description\": \"\"\n      }\n    },\n    {\n      \"column\": \"\\uc0c1\\ub2f4\\uc720\\ud615\",\n      \"properties\": {\n        \"dtype\": \"category\",\n        \"num_unique_values\": 13,\n        \"samples\": [\n          \"\\ucc28\\ubcc4\\ud589\\uc704\",\n          \"\\ubbfc\\uc0ac\",\n          \"\\uccb4\\ub958\\uc790\\uaca9\"\n        ],\n        \"semantic_type\": \"\",\n        \"description\": \"\"\n      }\n    },\n    {\n      \"column\": \"\\uac70\\uc8fc\\uc9c0\\uc5ed\",\n      \"properties\": {\n        \"dtype\": \"category\",\n        \"num_unique_values\": 119,\n        \"samples\": [\n          \"\\uc758\\uc815\\ubd80\\uc2dc\",\n          \"\\ucda9\\ub0a8 \\ub17c\\uc0b0\\uc2dc\",\n          \"\\ubd80\\ucc9c\\uc2dc\"\n        ],\n        \"semantic_type\": \"\",\n        \"description\": \"\"\n      }\n    },\n    {\n      \"column\": \"\\uad6d\\uc801\",\n      \"properties\": {\n        \"dtype\": \"category\",\n        \"num_unique_values\": 15,\n        \"samples\": [\n          \"\\ubc29\\uae00\\ub77c\\ub370\\uc2dc\",\n          \"\",\n          \"\\uc6b0\\uc988\\ubca0\\ud0a4\\uc2a4\\ud0c4\"\n        ],\n        \"semantic_type\": \"\",\n        \"description\": \"\"\n      }\n    },\n    {\n      \"column\": \"\\uccb4\\ub958\\uc790\\uaca9\",\n      \"properties\": {\n        \"dtype\": \"category\",\n        \"num_unique_values\": 12,\n        \"samples\": [\n          \"\",\n          \"F-2\",\n          \"E-9\"\n        ],\n        \"semantic_type\": \"\",\n        \"description\": \"\"\n      }\n    },\n    {\n      \"column\": \"\\uc0c1\\ub2f4\\ub0b4\\uc6a9\",\n      \"properties\": {\n        \"dtype\": \"string\",\n        \"num_unique_values\": 1699,\n        \"samples\": [\n          \"\\ubc29\\uae00\\ub77c\\ub370\\uc2dc \\uad6d\\uc801\\uc758 \\ubbf8\\ub4f1\\ub85d\\uccb4\\ub958 \\uc774\\uc8fc\\ub178\\ub3d9\\uc790\\ub85c \\ub9c8\\uc11d\\uac00\\uad6c \\uacf5\\ub2e8\\uc5d0\\uc11c \\uac70\\uc8fc\\ud558\\uace0 \\uc788\\uc74c. 7\\uc6d4 4\\uc77c \\uc67c\\ucabd \\uac08\\ube44\\ubf08 \\ubd80\\ubd84\\uc5d0 \\ud1b5\\uc99d\\uc774 \\ub290\\uaef4\\uc838 \\uc778\\uadfc\\ubcd1\\uc6d0\\uc5d0 \\ubc29\\ubb38\\ud558\\uc600\\uc73c\\ub098 X-ray\\ucd2c\\uc601 \\uacb0\\uacfc \\ubcc4\\ub2e4\\ub978 \\uc774\\uc0c1\\uc774 \\uc5c6\\uc5c8\\uc74c.\\n\\ud1b5\\uc99d\\uc744 \\ucc38\\uace0 \\uadfc\\ub85c\\ub97c \\uacc4\\uc18d\\ud558\\uc600\\uc73c\\ub098, \\ud1b5\\uc99d\\uc774 \\uc2ec\\ud574\\uc838 \\uc67c\\ucabd \\ud314\\uc744 \\ub4e4 \\uc218 \\uc5c6\\ub294 \\uc0c1\\ud0dc\\uc784. \\ubcd1\\uc6d0 \\uc9c4\\ub8cc\\uc9c0\\uc6d0 \\uc694\\uccad.\",\n          \"\\ub124\\ud314 \\uad6d\\uc801\\uc758 \\uc774\\uc8fc \\ub0a8\\uc131\\uc73c\\ub85c \\ub0a8\\uc591\\uc8fc\\uc2dc \\uc81c\\uc870\\uc5c5 \\uacf5\\uc7a5\\uc5d0\\uc11c \\ube44\\uc804\\ubb38\\ucde8\\uc5c5(E-9)\\uc73c\\ub85c \\uccb4\\ub958\\ud558\\uace0 \\uc788\\uc74c. \\ub178\\ub3d9\\uc790\\ub294 \\ubbf8\\ub4f1\\ub85d \\uccb4\\ub958\\ud558\\ub294 \\uc790\\uc2e0\\uc758 \\uce5c\\uad6c\\uc5d0\\uac8c \\uc0ac\\uc6a9 \\ud560 \\uc218 \\uc788\\ub3c4\\ub85d \\ubcf8\\uc778 \\uba85\\uc758\\uc758 \\ud1b5\\uc7a5\\uc744 \\ube4c\\ub824\\uc8fc\\uc5c8\\uc73c\\uba70, \\uc774\\ub7ec\\ud55c \\uacfc\\uc815\\uc5d0\\uc11c \\uce5c\\uad6c\\uac00 \\uacbd\\ucc30\\uc5d0 \\uc801\\ubc1c\\ub418\\uba74\\uc11c \\uacbd\\ucc30 \\uc870\\uc0ac\\ub97c \\ubc1b\\uac8c \\ub418\\uc5c8\\ub2e4\\uace0 \\ud568. \\uc870\\uc0ac\\uc5d0 \\uc55e\\uc11c \\ucd9c\\uc785\\uad6d\\uc0ac\\uc2e4\\uc99d\\uba85\\uc11c\\ub97c \\ubc1c\\uae09\\ud574 \\uc62c \\uac83\\uc744 \\uc548\\ub0b4 \\ubc1b\\uc74c. \\ubcf8\\uc778\\uc774 \\uc5b4\\ub5a0\\ud55c \\ucc98\\ubc8c\\uc744 \\ubc1b\\uc744 \\uac83\\uc77c\\uc9c0\\uc5d0 \\ub300\\ud55c \\ub450\\ub824\\uc6c0\\uacfc \\ud568\\uaed8, \\uc758\\uc0ac\\uc18c\\ud1b5 \\ubb38\\uc81c\\ub85c \\ub3d9\\ud589 \\uc9c0\\uc6d0\\uc744 \\uc694\\uccad\\ud568.\",\n          \"2023\\ub144 2\\uc6d4 \\uc785\\uad6d\\ud558\\uc5ec \\ub18d\\uc7a5\\uc5d0\\uc11c \\uc77c\\uc744 \\ud558\\uace0 \\uc788\\uc74c. \\ud5c8\\ub9ac \\ud1b5\\uc99d \\ubc0f \\uc544\\ub7ab\\ubc30\\uac00 \\uc544\\ud504\\uace0 \\uc0dd\\ub9ac\\ud1b5\\uc774 \\uc2ec\\ud574\\uc11c \\ubcd1\\uc6d0\\ub3d9\\ud589 \\uc694\\uccad\\ud558\\uc5ec \\uc0c1\\ub2f4\\uc9c0\\uc6d0\"\n        ],\n        \"semantic_type\": \"\",\n        \"description\": \"\"\n      }\n    },\n    {\n      \"column\": \"\\uc9c4\\ud589 \\uacfc\\uc815 \\ubc0f \\uacb0\\uacfc\",\n      \"properties\": {\n        \"dtype\": \"string\",\n        \"num_unique_values\": 1688,\n        \"samples\": [\n          \"5\\uc6d4  15\\uc77c\\n\\ubcd1\\uc6d0 \\uc6d0\\ubb34\\uacfc\\uc640 \\ud611\\uc758, \\uae34\\uae09\\uc9c0\\uc6d0 \\uc694\\uccad(\\uc9c0\\uc6d0\\uc2e0\\uccad\\uc11c \\ub4f1 \\uc11c\\ub958\\uc804\\ub2ec)\\n\\n5\\uc6d4  16\\uc77c \\n\\ubcd1\\uc6d0 \\ubc29\\ubb38\\ud574 \\uc6d0\\ubb34\\uacfc \\ub2f4\\ub2f9\\uc790\\uc640 \\uba74\\ub2f4\\n\\n5\\uc6d4  18\\uc77c  \\n\\uc218\\uc220\\ube44 \\uc77c\\ubd80\\uc640 \\uc218\\uc220 \\uc774\\ud6c4 2\\ub2ec\\uc5ec\\uac04\\uc758 \\uce58\\ub8cc, \\uc7ac\\ud65c\\ube44\\uc6a9 \\uc9c0\\uc6d0\\ud558\\uae30\\ub85c \\ud568\",\n          \"22\\ub144 3\\uc6d4 25\\uc77c\\n- \\ucde8\\uc5c5\\uc2dc \\uad00\\ud560 \\uc8fc\\uc18c\\uc9c0 \\ubcc0\\uacbd\\uc774 \\ud544\\uc694\\ud55c \\uc0c1\\ud669\\uc774\\ub77c\\uc11c \\uc774\\uc0ac\\ud558\\uae30 \\uc804\\uc774\\uc9c0\\ub9cc \\uc804\\uc785\\uc2e0\\uace0\\uac00 \\ud558\\uace0 \\uc2f6\\ub2e4\\uace0 \\uc4f0\\uc778 \\ucabd\\uc9c0\\ub97c \\ub4e4\\uace0 \\ucc3e\\uc544\\uc624\\uc168\\uc74c.\\n- \\uc804\\uc785\\uc2e0\\uace0\\ub294 \\uac00\\uc871 \\uc911\\uc5d0 \\ud55c\\uad6d\\uc778\\uc774 \\uc788\\uc744 \\ub54c \\ub3d9\\uc0ac\\ubb34\\uc18c\\uc5d0\\uc11c \\uc8fc\\uc18c\\uc9c0 \\uc774\\uc804\\uc744 \\ud558\\uba74 \\uc804\\uc785\\uc2e0\\uace0\\uac00 \\ub418\\ub294 \\uac83\\uc778\\ub370 \\uacb0\\ud63c\\uc774\\ubbfc\\uc790\\uac00 \\uc544\\ub2cc \\uc678\\uad6d\\uc778 \\ubd80\\ubd80\\uc774\\uae30 \\ub54c\\ubb38\\uc5d0 \\ubcc4\\ub3c4 \\uc804\\uc785\\uc2e0\\uace0\\ub77c\\uae30\\ubcf4\\ub2e4\\ub294 \\ucd9c\\uc785\\uad6d \\uc0ac\\ubb34\\uc18c\\uc5d0 \\uccb4\\ub958\\uc9c0 \\ubcc0\\uacbd\\uc744 \\ud574\\uc57c \\ud568\\uc744 \\uc548\\ub0b4\\ud574\\ub4dc\\ub838\\uc74c.\\n- \\ud55c\\uad6d\\ub9d0\\uc744 \\uc798 \\ud558\\uc9c0 \\ubabb\\ud558\\uc154\\uc11c \\ucd9c\\uc785\\uad6d \\uc0ac\\ubb34\\uc18c\\uc5d0 \\ud568\\uaed8 \\uac00\\ub2ec\\ub77c\\uace0 \\uc694\\uccad\\ud558\\uc154\\uc11c \\ub3d9\\ud589\\ud560 \\uc218 \\uc788\\ub294 \\uc608\\uc57d \\uac00\\ub2a5\\ud55c \\uc77c\\uc815\\uc744 \\ud655\\uc778\\ud558\\ub2c8 3\\uc6d4\\uc5d0\\ub294 \\ubd88\\uac00\\ud558\\uace0 4\\uc6d4 \\ucd08\\uc5d0 \\uac00\\ub2a5\\ud558\\ub2e4\\uace0 \\uc804\\ub2ec\\ub4dc\\ub9ac\\uace0 \\ucd9c\\uc785\\uad6d \\ubc29\\ubb38\\uc608\\uc57d\\uc744 \\uc2e0\\uccad\\ud568. \\n- \\uc678\\uad6d\\uc778\\ub4f1\\ub85d\\uc99d\\uc740 \\ubd84\\uc2e4\\ud558\\uc5ec \\uc0ac\\uc9c4\\uc73c\\ub85c\\ub9cc \\uac16\\uace0 \\uacc4\\uc2dc\\ub2e4\\uace0 \\ud558\\uc2dc\\uc5b4, \\ud589\\uc815\\ubcf5\\uc9c0\\uc13c\\ud130\\uc5d0 \\ub3d9\\ud589\\ud558\\uc5ec \\uc678\\uad6d\\uc778\\ub4f1\\ub85d\\uc0ac\\uc2e4\\uc99d\\uba85\\uc11c\\ub97c \\ubc1c\\uae09\\ubc1b\\ub3c4\\ub85d \\ub3c4\\uc640\\ub4dc\\ub9ac\\uace0 \\uc7ac\\ubc1c\\uae09 \\uc2e0\\uccad\\ud558\\uae30 \\uc804\\uae4c\\uc9c0\\ub294 \\ud544\\uc694\\uc2dc \\uc678\\uad6d\\uc778\\ub4f1\\ub85d\\uc0ac\\uc2e4\\uc99d\\uba85\\uc11c\\ub97c \\uac16\\uace0 \\ub2e4\\ub2c8\\uc2dc\\ub77c\\uace0 \\ub9d0\\uc500\\ub4dc\\ub9bc.\\n\\n22\\ub144 4\\uc6d4 2\\uc77c\\n- \\uc13c\\ud130\\uc5d0 \\ub2e4\\uc2dc \\ucc3e\\uc544\\uc624\\uc154\\uc11c \\uc8fc\\uc18c\\uc9c0 \\ubcc0\\uacbd\\uc744 \\ub354 \\ube68\\ub9ac \\uc644\\ub8cc\\ud574\\uc57c \\ud55c\\ub2e4\\uace0 \\ud558\\uc2dc\\uc5b4, \\ucd9c\\uc785\\uad6d \\uc0ac\\ubb34\\uc18c\\uc5d0 \\uc804\\ud654\\ud574\\uc11c \\uc0c1\\ud669\\uc744 \\uc124\\uba85\\ud558\\ub2c8 \\uc608\\uc57d\\uc5c6\\uc774 \\uc640\\uc11c \\ubcc0\\uacbd \\uc2e0\\uccad \\ud558\\ub3c4\\ub85d \\uc548\\ub0b4\\ubc1b\\uc558\\uc74c.\\n- \\uae30\\uc874 \\ucd9c\\uc785\\uad6d \\uc608\\uc57d\\uc740 \\uc77c\\ub2e8 \\ucde8\\uc18c\\ud558\\uc9c0 \\uc54a\\uace0 \\ub2e4\\uc74c\\ub0a0 \\ucd9c\\uc785\\uad6d\\uc0ac\\ubb34\\uc18c\\uc5d0 \\ud568\\uaed8 \\uac00\\uae30\\ub85c \\ud558\\uace0 \\uadc0\\uac00\\ud558\\uc2ec.\\n\\n22\\ub144 4\\uc6d4 3\\uc77c\\n- \\uc13c\\ud130\\uc5d0 \\uc624\\uc154\\uc11c \\ucd9c\\uc785\\uad6d \\uc0ac\\ubb34\\uc18c\\uc5d0 \\uc548\\uac00\\uaca0\\ub2e4\\uace0 \\ud558\\uc2dc\\uc5b4 \\uc804\\ud654 \\ud1b5\\uc5ed\\uc744 \\ud1b5\\ud574\\uc11c \\ud655\\uc778\\ud574\\ubcf4\\ub2c8, \\ub2e4\\ub978 \\ud68c\\uc0ac\\ub97c \\uac00\\uac8c \\ub3fc\\uc11c \\uc774\\uc0ac\\ub3c4 \\ud558\\uc9c0 \\uc54a\\uace0 \\uccb4\\ub958\\uc9c0 \\ubcc0\\uacbd \\uc2e0\\uccad\\ub3c4 \\ud558\\uc9c0 \\uc54a\\uc744 \\uc608\\uc815\\uc774\\uae30 \\ub54c\\ubb38\\uc5d0 \\ucd9c\\uc785\\uad6d \\uc0ac\\ubb34\\uc18c\\uc5d0 \\uac00\\uc9c0 \\uc54a\\uc544\\ub3c4 \\ub420 \\uac83 \\uac19\\ub2e4\\uace0 \\ud558\\uc2ec.\\n- \\uc678\\uad6d\\uc778\\ub4f1\\ub85d\\uc99d \\uc7ac\\ubc1c\\uae09\\uc740 \\uc5b4\\ub5bb\\uac8c \\ud560 \\uac74\\uc9c0 \\ubb3c\\uc5b4\\ubcf4\\ub2c8 \\ub4f1\\ub85d\\uc99d \\uc7ac\\ubc1c\\uae09\\uc740 \\ud574\\ubcf8 \\uc801\\uc774 \\uc788\\uc5b4\\uc11c \\ucd9c\\uc785\\uad6d \\uc608\\uc57d\\ub41c \\ub0a0\\uc5d0 \\ud63c\\uc790 \\uac08 \\uc218 \\uc788\\ub2e4\\uace0 \\ud568. \\ud639\\uc2dc \\uc9c4\\ud589\\uc5d0\\uc11c \\uc5b4\\ub824\\uc6b4 \\uc810 \\uc788\\uc73c\\uba74 \\uc13c\\ud130\\ub85c \\uc804\\ud654\\ud558\\ub77c\\uace0 \\ub9d0\\uc500\\ub4dc\\ub9ac\\uace0 \\uc0c1\\ub2f4\\uc744 \\uc885\\ub8cc\\ud568.\\n\\n22\\ub144 4\\uc6d4 5\\uc77c\\n- \\ucd9c\\uc785\\uad6d \\uad00\\ub9ac\\uc0ac\\ubb34\\uc18c\\uc5d0 \\uac00\\uc11c \\uc678\\uad6d\\uc778\\ub4f1\\ub85d\\uc99d \\uc7ac\\ubc1c\\uae09 \\uc2e0\\uccad \\uc798 \\ud55c \\ud6c4, \\ud0dd\\ubc30\\ub85c \\ubc1b\\ub294 \\uac83\\uc73c\\ub85c \\uc2e0\\uccad \\uc644\\ub8cc\\ud558\\uace0 \\uc624\\uc168\\ub2e4\\uace0 \\uc804\\ud654 \\ud1b5\\ud654\\ud568.\",\n          \"2\\uc6d4 14\\uc77c\\n\\uad6c\\ub9ac \\uad6d\\ubbfc\\uc5f0\\uae08\\uacf5\\ub2e8\\uc5d0 \\ub3d9\\ud589 \\ubc0f \\ud1b5\\uc5ed\\ud588\\uc2b5\\ub2c8\\ub2e4. \\ub2f4\\ub2f9 \\uc120\\uc0dd\\ub2d8\\uc774 \\uc2e0\\uccad \\uc2dc \\ud544\\uc694\\ud55c \\uc11c\\ub958\\ub97c \\uc54c\\ub824\\uc92c\\uc2b5\\ub2c8\\ub2e4. \\ud544\\uc694\\ud55c \\uc11c\\ub958\\ub294 \\ub2e4\\uc74c\\uacfc \\uac19\\uc2b5\\ub2c8\\ub2e4. \\uc0ac\\uace0 \\uc0ac\\uc2e4\\ud655\\uc778\\uc11c, \\uc7a5\\ub840\\ud655\\uc778\\uc11c, \\ubd80\\ubd80\\uac00 \\ud568\\uaed8 \\ucc0d\\uc740 \\uc0ac\\uc9c4, \\uc804\\uc138\\uacc4\\uc57d\\uc11c, \\ud1b5\\ud654&\\uce74\\ud1a1 \\ub0b4\\uc6a9. \\n\\n2\\uc6d4 21\\uc77c\\n\\uc2dc\\ubd80\\ubaa8\\ub2d8\\uc774 \\ub450 \\uc0ac\\ub78c \\uac04\\uc758 \\uacb0\\ud63c\\uc744 \\uc778\\uc815\\ud558\\uc9c0 \\uc54a\\uc544\\uc11c, \\uacf5\\ub2e8 \\uce21\\uc5d0\\uc11c \\uc704\\uc7a5 \\uacb0\\ud63c\\uc744 \\uc758\\uc2ec\\ud588\\uc2b5\\ub2c8\\ub2e4. \\uc704\\uc7a5 \\uacb0\\ud63c\\uc774 \\uc544\\ub2d8\\uc744 \\uc785\\uc99d\\ud574 \\uc904 \\ub0a8\\ud3b8\\uc758 \\ud578\\ub4dc\\ud3f0\\uc774 \\ud0dc\\uad6d\\uc5d0 \\uc788\\ub294 \\uc0c1\\ud669\\uc774\\ub77c, \\ud0dc\\uad6d\\uc5d0 \\uc788\\ub294 \\uac00\\uc871\\uc5d0\\uac8c \\ud0dd\\ubc30\\ub85c \\ubcf4\\ub0b4\\ub2ec\\ub77c\\uace0 \\ubd80\\ud0c1\\ud588\\uc2b5\\ub2c8\\ub2e4. \\ud578\\ub4dc\\ud3f0\\uc774 \\ub3c4\\ucc29\\ud558\\uba74 \\uacf5\\ub2e8\\uc5d0 \\ub2e4\\uc2dc \\ubc29\\ubb38\\ud560 \\uc608\\uc815\\uc785\\ub2c8\\ub2e4.\\n\\n3\\uc6d4 6\\uc77c\\n\\ud544\\uc694\\ud55c \\uc11c\\ub958\\uc640 \\ud0dc\\uad6d\\uc5d0\\uc11c \\uc628 \\ud578\\ub4dc\\ud3f0\\uc744 \\uc9c0\\ucc38\\ud574 \\uacf5\\ub2e8\\uc5d0 \\ubc29\\ubb38\\ud574\\uc11c \\uc2e0\\uccad\\ud588\\uc2b5\\ub2c8\\ub2e4. \\uacf5\\ub2e8\\uc5d0\\uc11c\\ub294 \\uc2ec\\uc0ac\\uc5d0 4~5\\uac1c\\uc6d4\\uc774 \\uac78\\ub9b0\\ub2e4\\uace0 \\ud588\\uc2b5\\ub2c8\\ub2e4.\\n\\n3\\uc6d4 14\\uc77c\\n\\uc790\\uc0b4\\ud55c \\ub0a8\\ud3b8 \\ubaab\\uc758 \\uad6d\\ubbfc\\uc5f0\\uae08 \\uc218\\ub839 \\uc5ec\\ubd80\\ub294 4~5\\uac1c\\uc6d4 \\uc815\\ub3c4 \\uac78\\ub9ac\\ub294 \\uacf5\\ub2e8\\uc758 \\uc2ec\\uc0ac \\ud6c4 \\uc54c \\uc218 \\uc788\\uc2b5\\ub2c8\\ub2e4.\"\n        ],\n        \"semantic_type\": \"\",\n        \"description\": \"\"\n      }\n    },\n    {\n      \"column\": \"\\uad00\\ub828\\ubc95\\ub839 \\ubc0f \\uc815\\ubcf4\",\n      \"properties\": {\n        \"dtype\": \"category\",\n        \"num_unique_values\": 129,\n        \"samples\": [\n          \"\\uc678\\uad6d\\uc778\\uadfc\\ub85c\\uc790\\uc758 \\uace0\\uc6a9\\ub4f1\\uc5d0 \\uad00\\ud55c \\ubc95\\ub960 \\uc81c25\\uc870(\\uc0ac\\uc5c5 \\ub610\\ub294 \\uc0ac\\uc5c5\\uc7a5 \\ubcc0\\uacbd\\uc758 \\ud5c8\\uc6a9) \\u2462 \\uc81c1\\ud56d\\uc5d0 \\ub530\\ub978 \\ub2e4\\ub978 \\uc0ac\\uc5c5 \\ub610\\ub294 \\uc0ac\\uc5c5\\uc7a5\\uc73c\\ub85c\\uc758 \\ubcc0\\uacbd\\uc744 \\uc2e0\\uccad\\ud55c \\ub0a0\\ubd80\\ud130 3\\uac1c\\uc6d4 \\uc774\\ub0b4\\uc5d0 \\u300c\\ucd9c\\uc785\\uad6d\\uad00\\ub9ac\\ubc95\\u300d \\uc81c21\\uc870\\uc5d0 \\ub530\\ub978 \\uadfc\\ubb34\\ucc98 \\ubcc0\\uacbd\\ud5c8\\uac00\\ub97c \\ubc1b\\uc9c0 \\ubabb\\ud558\\uac70\\ub098 \\uc0ac\\uc6a9\\uc790\\uc640 \\uadfc\\ub85c\\uacc4\\uc57d\\uc774 \\uc885\\ub8cc\\ub41c \\ub0a0\\ubd80\\ud130 1\\uac1c\\uc6d4 \\uc774\\ub0b4\\uc5d0 \\ub2e4\\ub978 \\uc0ac\\uc5c5 \\ub610\\ub294 \\uc0ac\\uc5c5\\uc7a5\\uc73c\\ub85c\\uc758 \\ubcc0\\uacbd\\uc744 \\uc2e0\\uccad\\ud558\\uc9c0 \\uc544\\ub2c8\\ud55c \\uc678\\uad6d\\uc778\\uadfc\\ub85c\\uc790\\ub294 \\ucd9c\\uad6d\\ud558\\uc5ec\\uc57c \\ud55c\\ub2e4. \\ub2e4\\ub9cc, \\uc5c5\\ubb34\\uc0c1 \\uc7ac\\ud574, \\uc9c8\\ubcd1, \\uc784\\uc2e0, \\ucd9c\\uc0b0 \\ub4f1\\uc758 \\uc0ac\\uc720\\ub85c \\uadfc\\ubb34\\ucc98 \\ubcc0\\uacbd\\ud5c8\\uac00\\ub97c \\ubc1b\\uc744 \\uc218 \\uc5c6\\uac70\\ub098 \\uadfc\\ubb34\\ucc98 \\ubcc0\\uacbd\\uc2e0\\uccad\\uc744 \\ud560 \\uc218 \\uc5c6\\ub294 \\uacbd\\uc6b0\\uc5d0\\ub294 \\uadf8 \\uc0ac\\uc720\\uac00 \\uc5c6\\uc5b4\\uc9c4 \\ub0a0\\ubd80\\ud130 \\uac01\\uac01 \\uadf8 \\uae30\\uac04\\uc744 \\uacc4\\uc0b0\\ud55c\\ub2e4.\\n\\n\\uadfc\\ub85c\\uae30\\uc900\\ubc95 \\uc81c23\\uc870(\\ud574\\uace0 \\ub4f1\\uc758 \\uc81c\\ud55c) \\u2460 \\uc0ac\\uc6a9\\uc790\\ub294 \\uadfc\\ub85c\\uc790\\uc5d0\\uac8c \\uc815\\ub2f9\\ud55c \\uc774\\uc720 \\uc5c6\\uc774 \\ud574\\uace0, \\ud734\\uc9c1, \\uc815\\uc9c1, \\uc804\\uc9c1, \\uac10\\ubd09, \\uadf8 \\ubc16\\uc758 \\uc9d5\\ubc8c(\\u61f2\\u7f70)(\\uc774\\ud558 \\\"\\ubd80\\ub2f9\\ud574\\uace0\\ub4f1\\\"\\uc774\\ub77c \\ud55c\\ub2e4)\\uc744 \\ud558\\uc9c0 \\ubabb\\ud55c\\ub2e4.\\n  \\u2461 \\uc0ac\\uc6a9\\uc790\\ub294 \\uadfc\\ub85c\\uc790\\uac00 \\uc5c5\\ubb34\\uc0c1 \\ubd80\\uc0c1 \\ub610\\ub294 \\uc9c8\\ubcd1\\uc758 \\uc694\\uc591\\uc744 \\uc704\\ud558\\uc5ec \\ud734\\uc5c5\\ud55c \\uae30\\uac04\\uacfc \\uadf8 \\ud6c4 30\\uc77c \\ub3d9\\uc548 \\ub610\\ub294 \\uc0b0\\uc804(\\u7523\\u524d)\\u318d\\uc0b0\\ud6c4(\\u7523\\u5f8c)\\uc758 \\uc5ec\\uc131\\uc774 \\uc774 \\ubc95\\uc5d0 \\ub530\\ub77c \\ud734\\uc5c5\\ud55c \\uae30\\uac04\\uacfc \\uadf8 \\ud6c4 30\\uc77c \\ub3d9\\uc548\\uc740 \\ud574\\uace0\\ud558\\uc9c0 \\ubabb\\ud55c\\ub2e4. \\ub2e4\\ub9cc, \\uc0ac\\uc6a9\\uc790\\uac00 \\uc81c84\\uc870\\uc5d0 \\ub530\\ub77c \\uc77c\\uc2dc\\ubcf4\\uc0c1\\uc744 \\ud558\\uc600\\uc744 \\uacbd\\uc6b0 \\ub610\\ub294 \\uc0ac\\uc5c5\\uc744 \\uacc4\\uc18d\\ud560 \\uc218 \\uc5c6\\uac8c \\ub41c \\uacbd\\uc6b0\\uc5d0\\ub294 \\uadf8\\ub7ec\\ud558\\uc9c0 \\uc544\\ub2c8\\ud558\\ub2e4.\",\n          \"\\uc678\\uad6d\\uc778\\uadfc\\ub85c\\uc790 \\uace0\\uc6a9 \\ub4f1\\uc5d0 \\uad00\\ud55c \\ubc95\\ub960 \\uc2dc\\ud589\\uaddc\\uce59 \\uc81c14\\uc870(\\uace0\\uc6a9\\ubcc0\\ub3d9 \\ub4f1\\uc758 \\uc2e0\\uace0) \\uc0ac\\uc6a9\\uc790\\ub294 \\ubc95 \\uc81c17\\uc870\\uc81c1\\ud56d\\uc5d0 \\ud574\\ub2f9\\ud558\\ub294 \\uc0ac\\uc720\\uac00 \\ubc1c\\uc0dd\\ud558\\uac70\\ub098 \\ubc1c\\uc0dd\\ud55c \\uc0ac\\uc2e4\\uc744 \\uc548 \\ub0a0\\ubd80\\ud130 15\\uc77c \\uc774\\ub0b4\\uc5d0 \\ubcc4\\uc9c0 \\uc81c12\\ud638\\uc11c\\uc2dd\\uc758 \\uc678\\uad6d\\uc778\\uadfc\\ub85c\\uc790 \\uace0\\uc6a9\\ubcc0\\ub3d9 \\ub4f1 \\uc2e0\\uace0\\uc11c \\ub610\\ub294 \\ubcc4\\uc9c0 \\uc81c12\\ud638\\uc7582\\uc11c\\uc2dd\\uc758 \\uc678\\uad6d\\uc778\\uadfc\\ub85c\\uc790 \\uace0\\uc6a9\\uc0ac\\uc5c5\\uc7a5 \\uc815\\ubcf4\\ubcc0\\ub3d9 \\uc2e0\\uace0\\uc11c\\uc5d0 \\uadf8 \\uc0ac\\uc2e4\\uc744 \\uc801\\uc5b4 \\uc18c\\uc7ac\\uc9c0\\uad00\\ud560 \\uc9c1\\uc5c5\\uc548\\uc815\\uae30\\uad00\\uc758 \\uc7a5\\uc5d0\\uac8c \\uc81c\\ucd9c\\ud558\\uc5ec\\uc57c \\ud55c\\ub2e4.\\n\\uad6d\\ubbfc\\uac74\\uac15\\ubcf4\\ud5d8\\ubc95 \\uc81c87\\uc870(\\uc774\\uc758\\uc2e0\\uccad) \\u2460 \\uac00\\uc785\\uc790 \\ubc0f \\ud53c\\ubd80\\uc591\\uc790\\uc758 \\uc790\\uaca9, \\ubcf4\\ud5d8\\ub8cc\\ub4f1, \\ubcf4\\ud5d8\\uae09\\uc5ec, \\ubcf4\\ud5d8\\uae09\\uc5ec \\ube44\\uc6a9\\uc5d0 \\uad00\\ud55c \\uacf5\\ub2e8\\uc758 \\ucc98\\ubd84\\uc5d0 \\uc774\\uc758\\uac00 \\uc788\\ub294 \\uc790\\ub294 \\uacf5\\ub2e8\\uc5d0 \\uc774\\uc758\\uc2e0\\uccad\\uc744 \\ud560 \\uc218 \\uc788\\ub2e4.\\n \\u2461 \\uc694\\uc591\\uae09\\uc5ec\\ube44\\uc6a9 \\ubc0f \\uc694\\uc591\\uae09\\uc5ec\\uc758 \\uc801\\uc815\\uc131 \\ud3c9\\uac00 \\ub4f1\\uc5d0 \\uad00\\ud55c \\uc2ec\\uc0ac\\ud3c9\\uac00\\uc6d0\\uc758 \\ucc98\\ubd84\\uc5d0 \\uc774\\uc758\\uac00 \\uc788\\ub294 \\uacf5\\ub2e8, \\uc694\\uc591\\uae30\\uad00 \\ub610\\ub294 \\uadf8 \\ubc16\\uc758 \\uc790\\ub294 \\uc2ec\\uc0ac\\ud3c9\\uac00\\uc6d0\\uc5d0 \\uc774\\uc758\\uc2e0\\uccad\\uc744 \\ud560 \\uc218 \\uc788\\ub2e4.\\n \\u2462 \\uc81c1\\ud56d \\ubc0f \\uc81c2\\ud56d\\uc5d0 \\ub530\\ub978 \\uc774\\uc758\\uc2e0\\uccad(\\uc774\\ud558 \\\"\\uc774\\uc758\\uc2e0\\uccad\\\"\\uc774\\ub77c \\ud55c\\ub2e4)\\uc740 \\ucc98\\ubd84\\uc774 \\uc788\\uc74c\\uc744 \\uc548 \\ub0a0\\ubd80\\ud130 90\\uc77c \\uc774\\ub0b4\\uc5d0 \\ubb38\\uc11c(\\uc804\\uc790\\ubb38\\uc11c\\ub97c \\ud3ec\\ud568\\ud55c\\ub2e4)\\ub85c \\ud558\\uc5ec\\uc57c \\ud558\\uba70 \\ucc98\\ubd84\\uc774 \\uc788\\uc740 \\ub0a0\\ubd80\\ud130 180\\uc77c\\uc744 \\uc9c0\\ub098\\uba74 \\uc81c\\uae30\\ud558\\uc9c0 \\ubabb\\ud55c\\ub2e4. \\ub2e4\\ub9cc, \\uc815\\ub2f9\\ud55c \\uc0ac\\uc720\\ub85c \\uadf8 \\uae30\\uac04\\uc5d0 \\uc774\\uc758\\uc2e0\\uccad\\uc744 \\ud560 \\uc218 \\uc5c6\\uc5c8\\uc74c\\uc744 \\uc18c\\uba85\\ud55c \\uacbd\\uc6b0\\uc5d0\\ub294 \\uadf8\\ub7ec\\ud558\\uc9c0 \\uc544\\ub2c8\\ud558\\ub2e4.\\n \\u2463 \\uc81c3\\ud56d \\ubcf8\\ubb38\\uc5d0\\ub3c4 \\ubd88\\uad6c\\ud558\\uace0 \\uc694\\uc591\\uae30\\uad00\\uc774 \\uc81c48\\uc870\\uc5d0 \\ub530\\ub978 \\uc2ec\\uc0ac\\ud3c9\\uac00\\uc6d0\\uc758 \\ud655\\uc778\\uc5d0 \\ub300\\ud558\\uc5ec \\uc774\\uc758\\uc2e0\\uccad\\uc744 \\ud558\\ub824\\uba74 \\uac19\\uc740 \\uc870 \\uc81c2\\ud56d\\uc5d0 \\ub530\\ub77c \\ud1b5\\ubcf4\\ubc1b\\uc740 \\ub0a0\\ubd80\\ud130 30\\uc77c \\uc774\\ub0b4\\uc5d0 \\ud558\\uc5ec\\uc57c \\ud55c\\ub2e4.\\n \\u2464 \\uc81c1\\ud56d\\ubd80\\ud130 \\uc81c4\\ud56d\\uae4c\\uc9c0\\uc5d0\\uc11c \\uaddc\\uc815\\ud55c \\uc0ac\\ud56d \\uc678\\uc5d0 \\uc774\\uc758\\uc2e0\\uccad\\uc758 \\ubc29\\ubc95\\u318d\\uacb0\\uc815 \\ubc0f \\uadf8 \\uacb0\\uc815\\uc758 \\ud1b5\\uc9c0 \\ub4f1\\uc5d0 \\ud544\\uc694\\ud55c \\uc0ac\\ud56d\\uc740 \\ub300\\ud1b5\\ub839\\ub839\\uc73c\\ub85c \\uc815\\ud55c\\ub2e4.\",\n          \"\\uad6d\\ub0b4 \\uc7a5\\uae30\\uccb4\\ub958 \\uc544\\ub3d9 \\uad50\\uc721\\uad8c \\ubcf4\\uc7a5\\uc744 \\uc704\\ud55c \\uccb4\\ub958\\uc790\\uaca9 \\ubd80\\uc5ec \\ubc29\\uc548(\\ucd9c\\ucc98: \\ubc95\\ubb34\\ubd80)\\n\\n 1 \\uc2e0\\uccad \\uae30\\uac04\\n\\n \\u2750 \\u201922. 2. 1.\\ubd80\\ud130 \\u201925. 3. 31.\\uae4c\\uc9c0\\n\\n     < \\uc2e0\\uccad\\uae30\\uac04\\uc5d0 \\uc81c\\ud55c\\uc744 \\ub450\\ub294 \\uc774\\uc720 >\\n\\n\\n\\u25b5 \\uad6d\\ub0b4 \\uccb4\\ub958 \\uc544\\ub3d9 \\ubaa8\\ub450\\ub97c \\ub300\\uc0c1, \\uc81c\\ub3c4 \\uc0c1\\uc2dc \\uc2dc\\ud589\\uc758 \\uacbd\\uc6b0 \\uc544\\ub3d9\\uc744 \\uc218\\ub2e8\\uc73c\\ub85c \\ud55c \\ubd88\\ubc95\\uc774\\ubbfc \\ub4f1 \\ubd80\\uc791\\uc6a9 \\uc6b0\\ub824\\uac00 \\ucee4 \\uc774\\ub97c \\ubc29\\uc9c0\\ud558\\uae30 \\uc704\\ud574 \\uc2dc\\ud589 \\uae30\\uac04\\uc744 \\ud55c\\uc2dc\\uc801\\uc73c\\ub85c \\uc6b4\\uc6a9\\n\\n\\n\\uff12 \\uad6c\\uc81c \\ub300\\uc0c1 \\ubc0f \\uc870\\uce58\\uc0ac\\ud56d\\n\\n \\u2750 \\uad6c\\uc81c \\ub300\\uc0c1 \\uc544\\ub3d9\\n\\n  \\u274d \\uc2e0\\uccad \\ub2f9\\uc2dc \\uc544\\ub798 \\uc694\\uac74\\uc744 \\ubaa8\\ub450 \\ucda9\\uc871\\ud558\\ub294 \\uc790\\n\\n    \\u2460 \\uad6d\\ub0b4\\uc5d0\\uc11c \\ucd9c\\uc0dd \\ub610\\ub294 \\uc601\\u2024\\uc720\\uc544\\uae30*(6\\uc138 \\ubbf8\\ub9cc)\\uc5d0 \\uc785\\uad6d\\n\\n    \\u2461 6\\ub144 \\uc774\\uc0c1 \\uad6d\\ub0b4\\uc5d0\\uc11c \\uccb4\\ub958\\n\\n    \\u2462 \\uc2e0\\uccad\\uc77c \\uae30\\uc900 \\uad6d\\ub0b4 \\ucd08\\u2024\\uc911\\u2027\\uace0\\uad50 \\uc7ac\\ud559 \\ub610\\ub294 \\uace0\\uad50 \\uc878\\uc5c5\\n\\n     * \\u201c\\uc601\\u2024\\uc720\\uc544\\u201d\\ub780 6\\uc138 \\ubbf8\\ub9cc\\uc758 \\ucde8\\ud559 \\uc804 \\uc544\\ub3d9\\uc744 \\ub9d0\\ud568(\\uc601\\uc720\\uc544\\ubcf4\\uc721\\ubc95\\uc81c2\\uc870\\uc81c1\\ud638)\\n\\n  \\u274d \\uc2e0\\uccad \\ub2f9\\uc2dc \\uc544\\ub798 \\uc694\\uac74\\uc744 \\ubaa8\\ub450 \\ucda9\\uc871\\ud558\\ub294 \\uc790\\n\\n    \\u2460 \\uc601\\u2024\\uc720\\uc544\\uae30\\uac00 \\uc9c0\\ub098\\uc11c \\uad6d\\ub0b4 \\uc785\\uad6d\\n\\n    \\u2461 7\\ub144 \\uc774\\uc0c1 \\uad6d\\ub0b4\\uc5d0\\uc11c \\uccb4\\ub958\\n\\n    \\u2462 \\uc2e0\\uccad\\uc77c \\uae30\\uc900 \\uad6d\\ub0b4 \\ucd08\\u2024\\uc911\\u2027\\uace0\\uad50 \\uc7ac\\ud559 \\ub610\\ub294 \\uace0\\uad50 \\uc878\\uc5c5\\n\\n     \\u203b \\uc81c\\ub3c4\\uc2dc\\ud589\\uc77c \\ub2f9\\uc2dc \\uc790\\uaca9\\uc694\\uac74\\uc744 \\ucda9\\uc871\\ud558\\uc9c0 \\ubabb\\ud558\\uc600\\ub354\\ub77c\\ub3c4 \\uc2dc\\ud589 \\uae30\\uac04\\uc778 `25. 3. 31.\\uae4c\\uc9c0 \\uc0c1\\uae30 \\uc694\\uac74\\uc744 \\ubaa8\\ub450 \\ucda9\\uc871\\ud558\\uac8c \\ub41c \\uc790\\ub3c4 \\uc2e0\\uccad \\uac00\\ub2a5\\n\\n\\n\\n \\u2750 \\uc544\\ub3d9\\uc5d0 \\ub300\\ud55c \\uc870\\uce58\\n\\n  \\u274d \\uc870\\uce58\\uc0ac\\ud56d\\n\\n    - \\ucd9c\\uc785\\uad6d\\uff65\\uc678\\uad6d\\uc778\\uccad(\\uc0ac\\ubb34\\uc18c)\\ub294 \\uc2e0\\uccad \\uc811\\uc218 \\ud6c4 \\uc2e4\\ud0dc\\uc870\\uc0ac \\ub4f1\\uc744 \\uac70\\uccd0 \\uc544\\ub3d9\\uc5d0\\uac8c \\uc900\\uc218 \\uc870\\uac74*\\uc744 \\ub2ec\\uace0 \\uccb4\\ub958\\uc790\\uaca9 \\ubd80\\uc5ec\\n\\n      * \\ubc95\\uc9c8\\uc11c \\uc900\\uc218, \\uc131\\uc2e4\\ud55c \\ud559\\uc5c5\\uc0dd\\ud65c \\uc720\\uc9c0 \\ub4f1\\n\\n\\n    \\uac00. \\uc2e0\\uccad\\uc77c \\ud604\\uc7ac \\uc911\\u2027\\uace0\\uad50\\uc5d0 \\uc7ac\\ud559 \\uc911\\uc778 \\uacbd\\uc6b0\\n\\n    - \\uace0\\uad50 \\uc878\\uc5c5 \\uc2dc\\uae4c\\uc9c0 \\ud559\\uc5c5\\uc744 \\uc704\\ud55c \\uccb4\\ub958\\uc790\\uaca9(D-4) \\ubd80\\uc5ec\\n\\n   \\ub098. \\uc2e0\\uccad\\uc77c \\ud604\\uc7ac \\uace0\\uad50\\ub97c \\uc878\\uc5c5\\ud55c \\uacbd\\uc6b0\\n\\n    - \\uc720\\ud559 \\ub610\\ub294 \\ucde8\\uc5c5 \\uc790\\uaca9\\uc694\\uac74\\uc744 \\uac16\\ucd94\\ub294 \\uacbd\\uc6b0 \\ud574\\ub2f9 \\uccb4\\ub958\\uc790\\uaca9\\uc73c\\ub85c \\ubcc0\\uacbd\\n\\n    - \\uc720\\ud559\\uc774\\ub098 \\ucde8\\uc5c5 \\uccb4\\ub958\\uc790\\uaca9 \\ubcc0\\uacbd \\uc694\\uac74\\uc744 \\uac16\\ucd94\\uc9c0 \\ubabb\\ud558\\ub294 \\uacbd\\uc6b0 1\\ub144\\uac04 \\uc784\\uc2dc\\uccb4\\ub958\\uc790\\uaca9(G-1)\\uc73c\\ub85c \\uccb4\\ub958\\uc790\\uaca9 \\ubd80\\uc5ec \\ub610\\ub294 \\ubcc0\\uacbd\\n\\n   \\ub2e4. \\ud1f4\\ud559 \\uc870\\uce58\\ub098 \\ubc94\\ubc95\\ud589\\uc704 \\ub4f1 \\uc870\\uac74\\uc744 \\ubbf8\\uc900\\uc218\\ud55c \\uacbd\\uc6b0\\n\\n    - \\ucd9c\\uc785\\uad6d\\uad00\\ub9ac\\ubc95\\uc5d0 \\ub530\\ub77c \\uccb4\\ub958\\uc790\\uaca9\\uc744 \\ucde8\\uc18c\\ud558\\uac70\\ub098 \\uccb4\\ub958 \\uae30\\uac04 \\uc5f0\\uc7a5 \\ubd88\\ud5c8\\n\\n\\n\\n\\u25a2 \\uc544\\ub3d9\\uc758 \\ubd80\\ubaa8\\uc5d0 \\ub300\\ud55c \\uc870\\uce58\\n\\n  \\u274d \\uc870\\uce58\\uc0ac\\ud56d\\n\\n    - \\ucd9c\\uad6d \\uc870\\uce58\\uac00 \\uc6d0\\uce59\\uc774\\ub098, \\ubbf8\\uc131\\ub144 \\uc544\\ub3d9\\uc758 \\uc591\\uc721\\uc744 \\uc704\\ud574 \\uc790\\ub140\\uac00 \\uace0\\uad50\\ub97c \\uc878\\uc5c5\\ud558\\uac70\\ub098 \\uc131\\uc778\\uc774 \\ub420 \\ub54c\\uae4c\\uc9c0\\ub294 \\ud55c\\uc2dc\\uc801\\uc73c\\ub85c \\uad6d\\ub0b4 \\uccb4\\ub958\\ub97c \\ud5c8\\uc6a9\\n\\n   \\uac00. \\ubd80\\ubaa8\\uc758 \\ubc95 \\uc704\\ubc18\\uc5d0 \\ub300\\ud55c \\ubc94\\uce59\\uae08 \\ubd80\\uacfc\\n\\n    - \\uc544\\ub3d9\\uc758 \\uccb4\\ub958\\ud5c8\\uac00 \\uc2e0\\uccad \\uc2dc \\uc544\\ub3d9\\uc758 \\ubd80\\ubaa8\\uc5d0\\uac8c \\ubd80\\ubaa8 \\ubcf8\\uc778\\uc758 \\ubd88\\ubc95\\uccb4\\ub958\\uc5d0 \\ub300\\ud55c \\ubc94\\uce59\\uae08 \\ubd80\\uacfc* \\ub4f1\\uc744 \\uc548\\ub0b4\\n\\n      * \\uc6d0 \\ubc94\\uce59\\uae08\\uc561\\uc758 30% \\ubd80\\uacfc, \\ub2e4\\ub9cc, \\uc544\\ub3d9\\uc758 \\uccb4\\ub958 \\ud5c8\\uac00 \\uc2e0\\uccad \\uad00\\ub828 \\uc2e4\\ud0dc\\uc870\\uc0ac\\uc5d0\\uc11c \\ubc94\\uce59\\uae08 \\ub0a9\\ubd80 \\ub2a5\\ub825\\uc774 \\ubd80\\uc871\\ud558\\uac70\\ub098, \\uc5c6\\ub294 \\uc0ac\\uc720\\uac00 \\uc788\\ub294 \\uacbd\\uc6b0 \\ubc94\\uce59\\uae08 \\uac10\\uba74 \\uc801\\uadf9 \\uc2dc\\ud589\\n\\n      - \\ubd80\\ubaa8\\uac00 \\ubc94\\uce59\\uae08\\uc744 \\ub0a9\\ubd80\\ud558\\uba74 \\uc544\\ub3d9\\uc774 \\uace0\\uad50 \\uc878\\uc5c5\\ud560 \\ub54c\\uae4c\\uc9c0 \\uc784\\uc2dc\\uccb4\\ub958\\uc790\\uaca9(G-1) \\ubd80\\uc5ec \\ubc0f \\uc544\\ub3d9\\uc758 \\uc591\\uc721\\uc744 \\uc704\\ud55c \\uccb4\\ub958\\uc790\\uaca9\\uc678\\ud65c\\ub3d9\\ud5c8\\uac00 \\ub4f1 \\uc870\\uce58\\n\\n   \\ub098. \\ud55c\\uc2dc\\uc801 \\uccb4\\ub958 \\ud5c8\\uc6a9 \\ubc0f \\ucd9c\\uad6d \\uc870\\uce58\\n\\n    - \\uc544\\ub3d9\\uc774 \\uace0\\uad50\\ub97c \\uc878\\uc5c5\\ud558\\uac70\\ub098 \\uc131\\ub144\\uc774 \\ub418\\uba74 \\uc2a4\\uc2a4\\ub85c \\ucd9c\\uad6d\\ud558\\uc5ec\\uc57c \\ud558\\uba70, \\ucd9c\\uad6d\\ud558\\uc9c0 \\uc54a\\uace0 \\ubd88\\ubc95\\uccb4\\ub958\\ud558\\ub294 \\uacbd\\uc6b0\\uc5d0\\ub294 \\ucd9c\\uad6d \\uc870\\uce58 \\ubc0f \\uc7ac\\uc785\\uad6d \\uc81c\\ud55c\\n\\n\\uff13  \\uc2e0\\uccad\\uc11c\\ub958 \\uc548\\ub0b4 \\ubc0f \\ubb38\\uc758\\n\\n  \\u274d \\uc2e0\\uccad\\uc11c \\ubc0f \\uc81c\\ucd9c\\uc11c\\ub958 \\uc548\\ub0b4 : \\ubc95\\ubb34\\ubd80 \\ucd9c\\uc785\\uad6d\\uc678\\uad6d\\uc778\\uc815\\ucc45\\ubcf8\\ubd80 \\ud648\\ud398\\uc774\\uc9c0(www.immigration.go.kr)\\ub098 \\ud558\\uc774\\ucf54\\ub9ac\\uc544 \\ud648\\ud398\\uc774\\uc9c0(www.hikorea.go.kr) \\ucc38\\uc870\\n\\n  \\u274d \\uc2e0\\uccad\\ubb38\\uc758 : \\uccb4\\ub958\\uc9c0 \\uad00\\ud560 \\uac01 \\ucd9c\\uc785\\uad6d\\uc678\\uad6d\\uc778\\uccad(\\uc0ac\\ubb34\\uc18c) \\uccb4\\ub958 \\uc811\\uc218\\ucc3d\\uad6c\"\n        ],\n        \"semantic_type\": \"\",\n        \"description\": \"\"\n      }\n    },\n    {\n      \"column\": \"\\ud3c9\\uac00 \\ubc0f \\uc758\\uc758\",\n      \"properties\": {\n        \"dtype\": \"category\",\n        \"num_unique_values\": 198,\n        \"samples\": [\n          \"\\ub0b4\\ub2f4\\uc790\\ub294 \\ud55c\\uc871\\uc73c\\ub85c\\uc11c \\uadc0\\ud654\\ub294 \\ud558\\uc600\\uc9c0\\ub9cc \\ud55c\\uad6d\\uc5b4\\uac00 \\uc11c\\ud234\\ub7ec\\uc11c \\uc790\\uae30\\uc758\\uc0ac\\ub97c \\ucda9\\ubd84\\ud788 \\ud45c\\ud604\\ud558\\uc9c0 \\ubabb\\ud558\\uace0, \\uacfc\\uac70\\uc758 \\uc0ac\\uac74\\ub4e4\\uc744 \\uae30\\uc5b5\\ud558\\uc9c0 \\ubabb\\ud558\\ub294 \\uac83\\uc740 \\ubb3c\\ub860 \\uc870\\ub9ac \\uc788\\uac8c \\uc815\\ub9ac\\ub3c4 \\ubabb\\ud558\\ub294 \\uacbd\\ud5a5\\uc774 \\uc788\\uc5b4\\uc11c \\uc8fc\\ubcc0\\uc778\\ub4e4\\uc758 \\uc801\\uadf9\\uc801\\uc778 \\ub3c4\\uc6c0\\uc774 \\uc788\\uc5b4\\uc57c \\uc7ac\\ud310\\uc744 \\uc81c\\ub300\\ub85c \\ubc1b\\uc744 \\uc218 \\uc788\\uc744 \\uac83\\uc73c\\ub85c \\ubcf4\\uc784\",\n          \"- \\ub0b4\\ub2f4\\uc790\\ub294 \\uc911\\uad6d \\ud55c\\uc871\\uc73c\\ub85c\\uc11c \\uadf8 \\ub3d9\\uc548 \\ud55c\\uad6d\\uc5b4\\ub3c4 \\uc81c\\ub300\\ub85c \\ubc30\\uc6b0\\uc9c0 \\ubabb\\ud558\\uace0 \\uc624\\uc9c1 \\uc77c\\ud130\\uc5d0\\uc11c\\ub9cc \\uc0b4\\ub2e4\\ubcf4\\ub2c8 \\uc5b8\\uc5b4\\ub85c \\uc778\\ud558\\uc5ec \\uc8fc\\ubcc0\\uc778\\ub4e4\\uacfc\\uc758 \\uc18c\\ud1b5\\uc774 \\uc798 \\uc548\\ub418\\uc5b4 \\uc0dd\\ud65c\\uc5d0 \\ub9ce\\uc740 \\uc5b4\\ub824\\uc6c0\\uc744 \\uacaa\\uc5c8\\uc744 \\uac83\\uc73c\\ub85c \\ubcf4\\uc784.\\n- \\ub610\\ud55c \\ub0a8\\ud3b8\\uc758 \\uc544\\ub4e4\\ub85c\\ubd80\\ud130 \\ud3ed\\ud589\\uc744 \\ub2f9\\ud588\\ub2e4\\ub294 \\uc218\\uce58\\uc2ec\\uc73c\\ub85c \\uc53b\\uc744 \\uc218 \\uc5c6\\ub294 \\ub9c8\\uc74c\\uc5d0 \\uc0c1\\ucc98\\ub97c \\uc785\\ud78c \\uac83\\uc73c\\ub85c \\ubcf4\\uc600\\uc74c\\n- \\uc9c0\\uae08\\ubd80\\ud130\\ub77c\\ub3c4 \\ubaa8\\ub4e0 \\uac00\\uc871\\uad00\\uacc4\\ub97c \\uc815\\ub9ac\\ud558\\uace0 \\uc911\\uad6d\\uc5d0 \\ub450\\uace0 \\uc628 \\uc7a5\\uc131\\ud55c \\uce5c \\uc790\\ub140\\ub4e4\\uacfc \\ud568\\uaed8 \\ud589\\ubcf5\\ud55c \\uc0dd\\ud65c\\uc744 \\ud558\\uae30\\ub97c \\uae30\\ub300\\ud568\\n- \\uc544\\ud508 \\ub9c8\\uc74c \\ubd80\\uc5ec\\uc7a1\\uace0 \\uc628 \\ub0b4\\ub2f4\\uc790\\uc5d0\\uac8c \\uc0c8\\ub85c\\uc6b4 \\ud76c\\ub9dd\\uacfc \\uc18c\\ub9dd\\uc744 \\uc2ec\\uc5b4\\uc8fc\\uc5b4 \\uc544\\ub984\\ub2e4\\uc6b4 \\uc0c8 \\ucd9c\\ubc1c\\uc5d0 \\ub3c4\\uc6c0\\uc744 \\uc900 \\uac83\\uc774 \\ud06c\\uace0 \\ubcf4\\ub78c\\ub41c \\uc77c\\uc784.\",\n          \"\\ubcf8 \\uc0c1\\ub2f4\\uc0ac\\ub840\\uc758 \\uc7c1\\uc810\\uc740 \\u2460 \\ud68c\\uc0ac\\uac00 \\uc791\\uc131\\ud55c \\ud569\\uc758\\uc11c(\\ub300\\ub9ac\\uc11c\\uba85)\\uc758 \\ud6a8\\ub825\\uc5ec\\ubd80 \\u2461 S\\uac00 \\uc791\\uc131\\ud55c \\ubb38\\uc790\\uba54\\uc2dc\\uc9c0\\uc758 \\uc804\\uc790\\uc11c\\uba85 \\ud6a8\\ub825\\uc5ec\\ubd80 \\u2462 \\ud1f4\\uc0ac \\ud6c4 \\ubc1c\\uc0dd\\ud55c \\ubd80\\uc81c\\uc18c\\ud2b9\\uc57d\\uc758 \\ud6a8\\ub825\\uc5ec\\ubd80 \\ub4f1\\uc774\\ub2e4. \\uc13c\\ud130\\ub294 \\uc0ac\\uce21\\uc774 \\uc8fc\\uc7a5\\ud558\\ub294 500\\ub9cc\\uc6d0\\uc5d0 \\ub300\\ud55c \\ud569\\uc758\\uc11c\\uc758 \\ubc95\\uc801 \\ud6a8\\ub825\\uc740 \\ubcc4\\ub860\\uc73c\\ub85c \\ud558\\uace0 \\ub2f9\\uc2dc\\uc5d0 \\uc774\\ubbf8 S\\uac00 \\uadf8 \\uc0ac\\uc2e4\\uc744 \\uc778\\uc815\\ud55c \\uac83\\uc73c\\ub85c \\ubcf4\\uace0 \\uc788\\ub2e4. \\ub2e4\\ub9cc \\ub098\\uc911\\uc5d0 \\uadf8 \\uc561\\uc218\\uac00 \\ubc95\\uc815\\ud1f4\\uc9c1\\uae08\\uc5d0 \\ube44\\ud574 \\ud131\\uc5c6\\uc774 \\ubd80\\uc871\\ud568\\uc744 \\uc54c\\uace0 S\\uac00 \\ud574\\ub2f9 \\ud569\\uc758\\ub97c \\uac70\\uc808\\ud558\\uace0 \\ucd94\\uac00\\uae08\\ud488\\uc744 \\uc694\\uccad\\ud558\\uace0 \\uc788\\ub294 \\uac83\\uc73c\\ub85c \\ubcf8\\ub2e4. \\uadf8\\ub7fc\\uc5d0\\ub3c4 \\uc13c\\ud130\\uac00 \\ub3d9 \\uac74\\uc5d0 \\ub300\\ud574 \\uc0ac\\uce21\\uacfc \\uc7ac\\ud569\\uc758\\ub97c \\uc2dc\\ub3c4\\ud558\\ub294 \\uc774\\uc720\\ub294 \\ud68c\\uc0ac\\uc5d0\\uc11c \\uc791\\uc131\\ud55c \\ub300\\ub9ac\\uc11c\\uba85 \\ud569\\uc758\\uc11c\\uc640 S\\uac00 \\ubcf4\\ub0b8 \\uc804\\uc790\\uc11c\\uba85\\uc758 \\ud6a8\\ub825\\uc774 \\ubc95\\uc801\\uc73c\\ub85c \\uc778\\uc815\\ubc1b\\uc744 \\uc5ec\\uc9c0\\uac00 \\ub9ce\\uc9c0 \\uc54a\\uc740 \\uac83\\uc73c\\ub85c \\ubcf4\\uc558\\uace0, \\ub610\\ud55c S\\ub294 \\ubc95\\uc815\\ud1f4\\uc9c1\\uae08\\uc758 \\uc561\\uc218\\ub97c \\uc54c\\uc9c0 \\ubabb\\ud588\\uc73c\\uba70, \\ub098\\uc911\\uc5d0 S\\uac00 \\ubb38\\uc790\\uba54\\uc2dc\\uc9c0\\ub85c 200\\ub9cc\\uc6d0\\uc744 \\ucd94\\uac00\\ub85c \\uc694\\uad6c\\ud55c \\uc810 \\ub4f1\\uc744 \\uc885\\ud569\\ud558\\uc5ec \\ud310\\ub2e8\\ud55c \\uacb0\\uacfc\\uc774\\ub2e4. \\uc989 \\uc13c\\ud130\\ub294 \\uc0ac\\uce21\\uc774 \\uc678\\uad6d\\uc778\\ub178\\ub3d9\\uc790\\uc758 \\ubb34\\uc9c0\\ub97c \\uc774\\uc6a9\\ud558\\uc5ec \\ud604\\uc800\\ud788 \\uc801\\uc740 \\uae08\\uc561\\uc73c\\ub85c \\ud1f4\\uc9c1\\uae08 \\ucc45\\uc784\\uc744 \\ubaa8\\uba74\\ud558\\ub824\\ub294 \\uc758\\ub3c4\\uac00 \\uc788\\uc5c8\\ub358 \\uac83\\uc73c\\ub85c \\ud310\\ub2e8\\ud558\\uc5ec \\uc7ac\\ud569\\uc758 \\uc808\\ucc28\\ub97c \\uc9c4\\ud589\\ud55c \\uac83\\uc774\\ub2e4.\\n  \\ud55c\\ud3b8, \\ud1f4\\uc9c1\\uae08\\uacfc \\uad00\\ub828\\ud558\\uc5ec \\uae09\\uc5ec\\uc5d0 \\ud1f4\\uc9c1\\uae08\\uc744 \\ud3ec\\ud568\\ud558\\uc5ec \\uc9c0\\uae09\\ud558\\uae30\\ub85c \\uc57d\\uc815\\ud558\\uac70\\ub098, \\ud1f4\\uc9c1\\uae08 \\uccad\\uad6c\\uad8c\\uc744 \\uc7ac\\uc9c1\\uc911\\uc5d0 \\ud3ec\\uae30\\ud558\\uae30\\ub85c \\uc57d\\uc815\\ud55c \\uacbd\\uc6b0, \\uadf8 \\uc57d\\uc815\\uc774 \\ud1f4\\uc9c1\\uae08 \\uc911\\uac04\\uc815\\uc0b0\\uc73c\\ub85c \\uc778\\uc815\\ub418\\ub294 \\uacbd\\uc6b0\\uac00 \\uc544\\ub2cc \\ud55c \\uac15\\ud589\\ubc95\\uaddc\\uc778 \\uadfc\\ub85c\\uae30\\uc900\\ubc95 \\uc704\\ubc18\\uc73c\\ub85c \\ubb34\\ud6a8\\uc774\\ub2e4. \\ub2e4\\ub9cc \\ud1f4\\uc9c1\\uae08 \\uaddc\\uc815\\uc774 \\uac15\\ud589\\ubc95\\uaddc\\uc774\\uc9c0\\ub9cc \\uc774\\ub294 \\ud1f4\\uc9c1\\uae08 \\uccad\\uad6c\\uad8c\\uc774 \\ubc1c\\uc0dd\\ud558\\uae30 \\uc774\\uc804\\uc5d0 \\uc801\\uc6a9\\ub418\\ub294 \\uac83\\uc774\\uc9c0 \\uccad\\uad6c\\uad8c\\uc774 \\ubc1c\\ud589\\ud55c \\uc774\\ud6c4\\uc5d0 \\ud1f4\\uc9c1\\uae08\\uacfc \\uad00\\ub828\\ud558\\uc5ec \\ubd80\\uc81c\\uc18c\\ud2b9\\uc57d\\uc744 \\ub9fa\\uc5c8\\ub2e4\\uba74 \\uc774\\ub294 \\ud1f4\\uc9c1\\uae08 \\uccad\\uad6c\\uad8c\\uc744 \\ubbf8\\ub9ac \\ud3ec\\uae30\\ud55c \\uac83\\uc774 \\uc544\\ub2c8\\ub77c \\uc0ac\\ud6c4\\uc5d0 \\ud3ec\\uae30\\ud55c \\uac83\\uc774\\ubbc0\\ub85c \\uc720\\ud6a8\\ud558\\ub2e4\\uace0 \\ubcf4\\ub294 \\uac83\\uc774 \\ud310\\ub840\\uc758 \\uc785\\uc7a5\\uc774\\ub2e4. S\\uc758 \\uacbd\\uc6b0, \\uba54\\uc2dc\\uc9c0\\ub85c \\ubcf4\\ub0b8 \\uc804\\uc790\\uc11c\\uba85\\uc758 \\uc9c4\\uc758\\uac00 \\uc778\\uc815\\ub420 \\uc2dc \\ub354 \\uc774\\uc0c1 \\ucd94\\uac00 \\uae08\\ud488\\uc744 \\uc694\\uad6c\\ud558\\ub294 \\uac83\\uc740 \\ubb34\\ub9ac\\uac00 \\uc788\\ub294 \\uac83\\uc73c\\ub85c\\uc11c \\uc801\\uc808\\ud55c \\uc7ac\\ud569\\uc758\\ub97c \\ud1b5\\ud574 \\uc2e4\\ub9ac\\ub97c \\ucd94\\uad6c\\ud558\\ub294 \\uac83\\uc774 \\ubc14\\ub78c\\uc9c1\\ud558\\ub2e4\\uace0 \\ud558\\uaca0\\ub2e4.\"\n        ],\n        \"semantic_type\": \"\",\n        \"description\": \"\"\n      }\n    },\n    {\n      \"column\": \"\\uc0c1\\ub2f4\\uc9c0\\uc6d0\\ub2e8\\uccb4\",\n      \"properties\": {\n        \"dtype\": \"category\",\n        \"num_unique_values\": 64,\n        \"samples\": [\n          \"\\uc758\\uc815\\ubd80\\uc678\\uad6d\\uc778\\ub825\\uc9c0\\uc6d0\\uc13c\\ud130\",\n          \"\\ud3c9\\ud0dd\\uc678\\uad6d\\uc778\\ubcf5\\uc9c0\\uc13c\\ud130\",\n          \"\\uc5ec\\uc8fc\\uc2dc\\uc678\\uad6d\\uc778\\ubcf5\\uc9c0\\uc13c\\ud130\"\n        ],\n        \"semantic_type\": \"\",\n        \"description\": \"\"\n      }\n    },\n    {\n      \"column\": \"\\uc791\\uc131\\uc790\",\n      \"properties\": {\n        \"dtype\": \"category\",\n        \"num_unique_values\": 74,\n        \"samples\": [\n          \"\\uae40\\ub3c4\\uc804\",\n          \"\\ud3b8\\uc138\\uc815\",\n          \"\\uc774\\uc815\\ud601\"\n        ],\n        \"semantic_type\": \"\",\n        \"description\": \"\"\n      }\n    },\n    {\n      \"column\": \"url\",\n      \"properties\": {\n        \"dtype\": \"string\",\n        \"num_unique_values\": 1700,\n        \"samples\": [\n          \"https://gmhr.or.kr/case/211?page=100\",\n          \"https://gmhr.or.kr/case/1588?page=8\",\n          \"https://gmhr.or.kr/case/1568?page=10\"\n        ],\n        \"semantic_type\": \"\",\n        \"description\": \"\"\n      }\n    }\n  ]\n}"
            }
          },
          "metadata": {},
          "execution_count": 5
        }
      ]
    },
    {
      "cell_type": "code",
      "source": [
        "data[data['상담유형'] == '체류자격' ].head()"
      ],
      "metadata": {
        "colab": {
          "base_uri": "https://localhost:8080/",
          "height": 1000
        },
        "id": "iwvD5m48C8Bs",
        "outputId": "c62655e9-5e5d-424e-e5a5-b482ecfa588a"
      },
      "execution_count": 6,
      "outputs": [
        {
          "output_type": "execute_result",
          "data": {
            "text/plain": [
              "                                               제목       작성일  상담유형  거주지역  \\\n",
              "0           중도 퇴사 후 근로소득 신고되지 않아 고용허가연장 안된 노동자 지원  23-11-27  체류자격   여주시   \n",
              "2   외국인아동 교육권 보장을 위한 체류자격 부여자(G-1-85) 외국인등록 절차 지원  23-11-27  체류자격  남양주시   \n",
              "13                   폭행피해 미등록이주노동자의 민형사 절차 및 체류지원  23-11-27  체류자격  남양주시   \n",
              "20         미등록이주아동 교육권 보장을 위한 체류자격 부여자의 추가 인터뷰 지원  23-10-25  체류자격  남양주시   \n",
              "24            사업주가 고용허가서를 발급받지 않아 미등록신분이 될 뻔한 노동자  23-10-25  체류자격   철원군   \n",
              "\n",
              "        국적 체류자격                                               상담내용  \\\n",
              "0   우즈베키스탄  E-9                        중도 퇴직하는 외국인 근로자의 추가 납부세액 사례   \n",
              "2      필리핀  미등록  법무부 장기 미등록체류 이주아동 구제대책으로 23년 4월에 접수한 필리핀 국적의 아...   \n",
              "13     베트남  미등록  2019년부터 국내 체류중인 미등록이주노동자. 7월1일 한국인 청소년 4명으로부터 ...   \n",
              "20     필리핀  미등록  법무부 장기 미등록체류 이주아동 구제대책으로 23년 4월에 접수한 필리핀 국적의 아...   \n",
              "24      네팔  E-9  노동자는 4월 28일 사업장 변경 신청 후 철원 소재의 사업장을 알선 받아 근무 중...   \n",
              "\n",
              "                                           진행 과정 및 결과 관련법령 및 정보 평가 및 의의  \\\n",
              "0   2023-09-18\\n- 고용노동부에서 외국인근로자의 2020년 종합소득세 체납을 ...                     \n",
              "2   11월 1일\\n1. 양주출입국 사범과 방문.\\n2. 담당자로부터 유전자 검사 결과 ...                     \n",
              "13  10.10\\n양주출입국사무소 사범과 전화상담. 10월14일이 보호일시해제 3개월 만...                     \n",
              "20  10월 12일\\n1. 양주출입국 사범과 방문.\\n2. 담당자와 간단하게 현재 상황에...                     \n",
              "24  8월 30일\\n- 센터 방문. 사업주 확인 결과, 사업주는 노동자를 채용하고자 6월...                     \n",
              "\n",
              "           상담지원단체  작성자                                  url  \n",
              "0      여주시외국인복지센터  이수현  https://gmhr.or.kr/case/1703?page=1  \n",
              "2     남양주시외국인복지센터  김성수  https://gmhr.or.kr/case/1701?page=1  \n",
              "13        남양주샬롬의집  윤진규  https://gmhr.or.kr/case/1690?page=1  \n",
              "20    남양주시외국인복지센터  김성수  https://gmhr.or.kr/case/1683?page=2  \n",
              "24  의정부외국인노동자지원센터  김도전  https://gmhr.or.kr/case/1679?page=2  "
            ],
            "text/html": [
              "\n",
              "  <div id=\"df-0be3278b-901c-4cd0-b1e9-ad59b7a6f2fc\" class=\"colab-df-container\">\n",
              "    <div>\n",
              "<style scoped>\n",
              "    .dataframe tbody tr th:only-of-type {\n",
              "        vertical-align: middle;\n",
              "    }\n",
              "\n",
              "    .dataframe tbody tr th {\n",
              "        vertical-align: top;\n",
              "    }\n",
              "\n",
              "    .dataframe thead th {\n",
              "        text-align: right;\n",
              "    }\n",
              "</style>\n",
              "<table border=\"1\" class=\"dataframe\">\n",
              "  <thead>\n",
              "    <tr style=\"text-align: right;\">\n",
              "      <th></th>\n",
              "      <th>제목</th>\n",
              "      <th>작성일</th>\n",
              "      <th>상담유형</th>\n",
              "      <th>거주지역</th>\n",
              "      <th>국적</th>\n",
              "      <th>체류자격</th>\n",
              "      <th>상담내용</th>\n",
              "      <th>진행 과정 및 결과</th>\n",
              "      <th>관련법령 및 정보</th>\n",
              "      <th>평가 및 의의</th>\n",
              "      <th>상담지원단체</th>\n",
              "      <th>작성자</th>\n",
              "      <th>url</th>\n",
              "    </tr>\n",
              "  </thead>\n",
              "  <tbody>\n",
              "    <tr>\n",
              "      <th>0</th>\n",
              "      <td>중도 퇴사 후 근로소득 신고되지 않아 고용허가연장 안된 노동자 지원</td>\n",
              "      <td>23-11-27</td>\n",
              "      <td>체류자격</td>\n",
              "      <td>여주시</td>\n",
              "      <td>우즈베키스탄</td>\n",
              "      <td>E-9</td>\n",
              "      <td>중도 퇴직하는 외국인 근로자의 추가 납부세액 사례</td>\n",
              "      <td>2023-09-18\\n- 고용노동부에서 외국인근로자의 2020년 종합소득세 체납을 ...</td>\n",
              "      <td></td>\n",
              "      <td></td>\n",
              "      <td>여주시외국인복지센터</td>\n",
              "      <td>이수현</td>\n",
              "      <td>https://gmhr.or.kr/case/1703?page=1</td>\n",
              "    </tr>\n",
              "    <tr>\n",
              "      <th>2</th>\n",
              "      <td>외국인아동 교육권 보장을 위한 체류자격 부여자(G-1-85) 외국인등록 절차 지원</td>\n",
              "      <td>23-11-27</td>\n",
              "      <td>체류자격</td>\n",
              "      <td>남양주시</td>\n",
              "      <td>필리핀</td>\n",
              "      <td>미등록</td>\n",
              "      <td>법무부 장기 미등록체류 이주아동 구제대책으로 23년 4월에 접수한 필리핀 국적의 아...</td>\n",
              "      <td>11월 1일\\n1. 양주출입국 사범과 방문.\\n2. 담당자로부터 유전자 검사 결과 ...</td>\n",
              "      <td></td>\n",
              "      <td></td>\n",
              "      <td>남양주시외국인복지센터</td>\n",
              "      <td>김성수</td>\n",
              "      <td>https://gmhr.or.kr/case/1701?page=1</td>\n",
              "    </tr>\n",
              "    <tr>\n",
              "      <th>13</th>\n",
              "      <td>폭행피해 미등록이주노동자의 민형사 절차 및 체류지원</td>\n",
              "      <td>23-11-27</td>\n",
              "      <td>체류자격</td>\n",
              "      <td>남양주시</td>\n",
              "      <td>베트남</td>\n",
              "      <td>미등록</td>\n",
              "      <td>2019년부터 국내 체류중인 미등록이주노동자. 7월1일 한국인 청소년 4명으로부터 ...</td>\n",
              "      <td>10.10\\n양주출입국사무소 사범과 전화상담. 10월14일이 보호일시해제 3개월 만...</td>\n",
              "      <td></td>\n",
              "      <td></td>\n",
              "      <td>남양주샬롬의집</td>\n",
              "      <td>윤진규</td>\n",
              "      <td>https://gmhr.or.kr/case/1690?page=1</td>\n",
              "    </tr>\n",
              "    <tr>\n",
              "      <th>20</th>\n",
              "      <td>미등록이주아동 교육권 보장을 위한 체류자격 부여자의 추가 인터뷰 지원</td>\n",
              "      <td>23-10-25</td>\n",
              "      <td>체류자격</td>\n",
              "      <td>남양주시</td>\n",
              "      <td>필리핀</td>\n",
              "      <td>미등록</td>\n",
              "      <td>법무부 장기 미등록체류 이주아동 구제대책으로 23년 4월에 접수한 필리핀 국적의 아...</td>\n",
              "      <td>10월 12일\\n1. 양주출입국 사범과 방문.\\n2. 담당자와 간단하게 현재 상황에...</td>\n",
              "      <td></td>\n",
              "      <td></td>\n",
              "      <td>남양주시외국인복지센터</td>\n",
              "      <td>김성수</td>\n",
              "      <td>https://gmhr.or.kr/case/1683?page=2</td>\n",
              "    </tr>\n",
              "    <tr>\n",
              "      <th>24</th>\n",
              "      <td>사업주가 고용허가서를 발급받지 않아 미등록신분이 될 뻔한 노동자</td>\n",
              "      <td>23-10-25</td>\n",
              "      <td>체류자격</td>\n",
              "      <td>철원군</td>\n",
              "      <td>네팔</td>\n",
              "      <td>E-9</td>\n",
              "      <td>노동자는 4월 28일 사업장 변경 신청 후 철원 소재의 사업장을 알선 받아 근무 중...</td>\n",
              "      <td>8월 30일\\n- 센터 방문. 사업주 확인 결과, 사업주는 노동자를 채용하고자 6월...</td>\n",
              "      <td></td>\n",
              "      <td></td>\n",
              "      <td>의정부외국인노동자지원센터</td>\n",
              "      <td>김도전</td>\n",
              "      <td>https://gmhr.or.kr/case/1679?page=2</td>\n",
              "    </tr>\n",
              "  </tbody>\n",
              "</table>\n",
              "</div>\n",
              "    <div class=\"colab-df-buttons\">\n",
              "\n",
              "  <div class=\"colab-df-container\">\n",
              "    <button class=\"colab-df-convert\" onclick=\"convertToInteractive('df-0be3278b-901c-4cd0-b1e9-ad59b7a6f2fc')\"\n",
              "            title=\"Convert this dataframe to an interactive table.\"\n",
              "            style=\"display:none;\">\n",
              "\n",
              "  <svg xmlns=\"http://www.w3.org/2000/svg\" height=\"24px\" viewBox=\"0 -960 960 960\">\n",
              "    <path d=\"M120-120v-720h720v720H120Zm60-500h600v-160H180v160Zm220 220h160v-160H400v160Zm0 220h160v-160H400v160ZM180-400h160v-160H180v160Zm440 0h160v-160H620v160ZM180-180h160v-160H180v160Zm440 0h160v-160H620v160Z\"/>\n",
              "  </svg>\n",
              "    </button>\n",
              "\n",
              "  <style>\n",
              "    .colab-df-container {\n",
              "      display:flex;\n",
              "      gap: 12px;\n",
              "    }\n",
              "\n",
              "    .colab-df-convert {\n",
              "      background-color: #E8F0FE;\n",
              "      border: none;\n",
              "      border-radius: 50%;\n",
              "      cursor: pointer;\n",
              "      display: none;\n",
              "      fill: #1967D2;\n",
              "      height: 32px;\n",
              "      padding: 0 0 0 0;\n",
              "      width: 32px;\n",
              "    }\n",
              "\n",
              "    .colab-df-convert:hover {\n",
              "      background-color: #E2EBFA;\n",
              "      box-shadow: 0px 1px 2px rgba(60, 64, 67, 0.3), 0px 1px 3px 1px rgba(60, 64, 67, 0.15);\n",
              "      fill: #174EA6;\n",
              "    }\n",
              "\n",
              "    .colab-df-buttons div {\n",
              "      margin-bottom: 4px;\n",
              "    }\n",
              "\n",
              "    [theme=dark] .colab-df-convert {\n",
              "      background-color: #3B4455;\n",
              "      fill: #D2E3FC;\n",
              "    }\n",
              "\n",
              "    [theme=dark] .colab-df-convert:hover {\n",
              "      background-color: #434B5C;\n",
              "      box-shadow: 0px 1px 3px 1px rgba(0, 0, 0, 0.15);\n",
              "      filter: drop-shadow(0px 1px 2px rgba(0, 0, 0, 0.3));\n",
              "      fill: #FFFFFF;\n",
              "    }\n",
              "  </style>\n",
              "\n",
              "    <script>\n",
              "      const buttonEl =\n",
              "        document.querySelector('#df-0be3278b-901c-4cd0-b1e9-ad59b7a6f2fc button.colab-df-convert');\n",
              "      buttonEl.style.display =\n",
              "        google.colab.kernel.accessAllowed ? 'block' : 'none';\n",
              "\n",
              "      async function convertToInteractive(key) {\n",
              "        const element = document.querySelector('#df-0be3278b-901c-4cd0-b1e9-ad59b7a6f2fc');\n",
              "        const dataTable =\n",
              "          await google.colab.kernel.invokeFunction('convertToInteractive',\n",
              "                                                    [key], {});\n",
              "        if (!dataTable) return;\n",
              "\n",
              "        const docLinkHtml = 'Like what you see? Visit the ' +\n",
              "          '<a target=\"_blank\" href=https://colab.research.google.com/notebooks/data_table.ipynb>data table notebook</a>'\n",
              "          + ' to learn more about interactive tables.';\n",
              "        element.innerHTML = '';\n",
              "        dataTable['output_type'] = 'display_data';\n",
              "        await google.colab.output.renderOutput(dataTable, element);\n",
              "        const docLink = document.createElement('div');\n",
              "        docLink.innerHTML = docLinkHtml;\n",
              "        element.appendChild(docLink);\n",
              "      }\n",
              "    </script>\n",
              "  </div>\n",
              "\n",
              "\n",
              "<div id=\"df-30181302-b955-4a8e-aca2-d8144e22170e\">\n",
              "  <button class=\"colab-df-quickchart\" onclick=\"quickchart('df-30181302-b955-4a8e-aca2-d8144e22170e')\"\n",
              "            title=\"Suggest charts\"\n",
              "            style=\"display:none;\">\n",
              "\n",
              "<svg xmlns=\"http://www.w3.org/2000/svg\" height=\"24px\"viewBox=\"0 0 24 24\"\n",
              "     width=\"24px\">\n",
              "    <g>\n",
              "        <path d=\"M19 3H5c-1.1 0-2 .9-2 2v14c0 1.1.9 2 2 2h14c1.1 0 2-.9 2-2V5c0-1.1-.9-2-2-2zM9 17H7v-7h2v7zm4 0h-2V7h2v10zm4 0h-2v-4h2v4z\"/>\n",
              "    </g>\n",
              "</svg>\n",
              "  </button>\n",
              "\n",
              "<style>\n",
              "  .colab-df-quickchart {\n",
              "      --bg-color: #E8F0FE;\n",
              "      --fill-color: #1967D2;\n",
              "      --hover-bg-color: #E2EBFA;\n",
              "      --hover-fill-color: #174EA6;\n",
              "      --disabled-fill-color: #AAA;\n",
              "      --disabled-bg-color: #DDD;\n",
              "  }\n",
              "\n",
              "  [theme=dark] .colab-df-quickchart {\n",
              "      --bg-color: #3B4455;\n",
              "      --fill-color: #D2E3FC;\n",
              "      --hover-bg-color: #434B5C;\n",
              "      --hover-fill-color: #FFFFFF;\n",
              "      --disabled-bg-color: #3B4455;\n",
              "      --disabled-fill-color: #666;\n",
              "  }\n",
              "\n",
              "  .colab-df-quickchart {\n",
              "    background-color: var(--bg-color);\n",
              "    border: none;\n",
              "    border-radius: 50%;\n",
              "    cursor: pointer;\n",
              "    display: none;\n",
              "    fill: var(--fill-color);\n",
              "    height: 32px;\n",
              "    padding: 0;\n",
              "    width: 32px;\n",
              "  }\n",
              "\n",
              "  .colab-df-quickchart:hover {\n",
              "    background-color: var(--hover-bg-color);\n",
              "    box-shadow: 0 1px 2px rgba(60, 64, 67, 0.3), 0 1px 3px 1px rgba(60, 64, 67, 0.15);\n",
              "    fill: var(--button-hover-fill-color);\n",
              "  }\n",
              "\n",
              "  .colab-df-quickchart-complete:disabled,\n",
              "  .colab-df-quickchart-complete:disabled:hover {\n",
              "    background-color: var(--disabled-bg-color);\n",
              "    fill: var(--disabled-fill-color);\n",
              "    box-shadow: none;\n",
              "  }\n",
              "\n",
              "  .colab-df-spinner {\n",
              "    border: 2px solid var(--fill-color);\n",
              "    border-color: transparent;\n",
              "    border-bottom-color: var(--fill-color);\n",
              "    animation:\n",
              "      spin 1s steps(1) infinite;\n",
              "  }\n",
              "\n",
              "  @keyframes spin {\n",
              "    0% {\n",
              "      border-color: transparent;\n",
              "      border-bottom-color: var(--fill-color);\n",
              "      border-left-color: var(--fill-color);\n",
              "    }\n",
              "    20% {\n",
              "      border-color: transparent;\n",
              "      border-left-color: var(--fill-color);\n",
              "      border-top-color: var(--fill-color);\n",
              "    }\n",
              "    30% {\n",
              "      border-color: transparent;\n",
              "      border-left-color: var(--fill-color);\n",
              "      border-top-color: var(--fill-color);\n",
              "      border-right-color: var(--fill-color);\n",
              "    }\n",
              "    40% {\n",
              "      border-color: transparent;\n",
              "      border-right-color: var(--fill-color);\n",
              "      border-top-color: var(--fill-color);\n",
              "    }\n",
              "    60% {\n",
              "      border-color: transparent;\n",
              "      border-right-color: var(--fill-color);\n",
              "    }\n",
              "    80% {\n",
              "      border-color: transparent;\n",
              "      border-right-color: var(--fill-color);\n",
              "      border-bottom-color: var(--fill-color);\n",
              "    }\n",
              "    90% {\n",
              "      border-color: transparent;\n",
              "      border-bottom-color: var(--fill-color);\n",
              "    }\n",
              "  }\n",
              "</style>\n",
              "\n",
              "  <script>\n",
              "    async function quickchart(key) {\n",
              "      const quickchartButtonEl =\n",
              "        document.querySelector('#' + key + ' button');\n",
              "      quickchartButtonEl.disabled = true;  // To prevent multiple clicks.\n",
              "      quickchartButtonEl.classList.add('colab-df-spinner');\n",
              "      try {\n",
              "        const charts = await google.colab.kernel.invokeFunction(\n",
              "            'suggestCharts', [key], {});\n",
              "      } catch (error) {\n",
              "        console.error('Error during call to suggestCharts:', error);\n",
              "      }\n",
              "      quickchartButtonEl.classList.remove('colab-df-spinner');\n",
              "      quickchartButtonEl.classList.add('colab-df-quickchart-complete');\n",
              "    }\n",
              "    (() => {\n",
              "      let quickchartButtonEl =\n",
              "        document.querySelector('#df-30181302-b955-4a8e-aca2-d8144e22170e button');\n",
              "      quickchartButtonEl.style.display =\n",
              "        google.colab.kernel.accessAllowed ? 'block' : 'none';\n",
              "    })();\n",
              "  </script>\n",
              "</div>\n",
              "\n",
              "    </div>\n",
              "  </div>\n"
            ],
            "application/vnd.google.colaboratory.intrinsic+json": {
              "type": "dataframe",
              "summary": "{\n  \"name\": \"data[data['\\uc0c1\\ub2f4\\uc720\\ud615'] == '\\uccb4\\ub958\\uc790\\uaca9' ]\",\n  \"rows\": 5,\n  \"fields\": [\n    {\n      \"column\": \"\\uc81c\\ubaa9\",\n      \"properties\": {\n        \"dtype\": \"string\",\n        \"num_unique_values\": 5,\n        \"samples\": [\n          \"\\uc678\\uad6d\\uc778\\uc544\\ub3d9 \\uad50\\uc721\\uad8c \\ubcf4\\uc7a5\\uc744 \\uc704\\ud55c \\uccb4\\ub958\\uc790\\uaca9 \\ubd80\\uc5ec\\uc790(G-1-85) \\uc678\\uad6d\\uc778\\ub4f1\\ub85d \\uc808\\ucc28 \\uc9c0\\uc6d0\",\n          \"\\uc0ac\\uc5c5\\uc8fc\\uac00 \\uace0\\uc6a9\\ud5c8\\uac00\\uc11c\\ub97c \\ubc1c\\uae09\\ubc1b\\uc9c0 \\uc54a\\uc544 \\ubbf8\\ub4f1\\ub85d\\uc2e0\\ubd84\\uc774 \\ub420 \\ubed4\\ud55c \\ub178\\ub3d9\\uc790\",\n          \"\\ud3ed\\ud589\\ud53c\\ud574 \\ubbf8\\ub4f1\\ub85d\\uc774\\uc8fc\\ub178\\ub3d9\\uc790\\uc758 \\ubbfc\\ud615\\uc0ac \\uc808\\ucc28 \\ubc0f \\uccb4\\ub958\\uc9c0\\uc6d0\"\n        ],\n        \"semantic_type\": \"\",\n        \"description\": \"\"\n      }\n    },\n    {\n      \"column\": \"\\uc791\\uc131\\uc77c\",\n      \"properties\": {\n        \"dtype\": \"object\",\n        \"num_unique_values\": 2,\n        \"samples\": [\n          \"23-10-25\",\n          \"23-11-27\"\n        ],\n        \"semantic_type\": \"\",\n        \"description\": \"\"\n      }\n    },\n    {\n      \"column\": \"\\uc0c1\\ub2f4\\uc720\\ud615\",\n      \"properties\": {\n        \"dtype\": \"category\",\n        \"num_unique_values\": 1,\n        \"samples\": [\n          \"\\uccb4\\ub958\\uc790\\uaca9\"\n        ],\n        \"semantic_type\": \"\",\n        \"description\": \"\"\n      }\n    },\n    {\n      \"column\": \"\\uac70\\uc8fc\\uc9c0\\uc5ed\",\n      \"properties\": {\n        \"dtype\": \"string\",\n        \"num_unique_values\": 3,\n        \"samples\": [\n          \"\\uc5ec\\uc8fc\\uc2dc\"\n        ],\n        \"semantic_type\": \"\",\n        \"description\": \"\"\n      }\n    },\n    {\n      \"column\": \"\\uad6d\\uc801\",\n      \"properties\": {\n        \"dtype\": \"string\",\n        \"num_unique_values\": 4,\n        \"samples\": [\n          \"\\ud544\\ub9ac\\ud540\"\n        ],\n        \"semantic_type\": \"\",\n        \"description\": \"\"\n      }\n    },\n    {\n      \"column\": \"\\uccb4\\ub958\\uc790\\uaca9\",\n      \"properties\": {\n        \"dtype\": \"category\",\n        \"num_unique_values\": 2,\n        \"samples\": [\n          \"\\ubbf8\\ub4f1\\ub85d\"\n        ],\n        \"semantic_type\": \"\",\n        \"description\": \"\"\n      }\n    },\n    {\n      \"column\": \"\\uc0c1\\ub2f4\\ub0b4\\uc6a9\",\n      \"properties\": {\n        \"dtype\": \"string\",\n        \"num_unique_values\": 5,\n        \"samples\": [\n          \"\\ubc95\\ubb34\\ubd80 \\uc7a5\\uae30 \\ubbf8\\ub4f1\\ub85d\\uccb4\\ub958 \\uc774\\uc8fc\\uc544\\ub3d9 \\uad6c\\uc81c\\ub300\\ucc45\\uc73c\\ub85c 23\\ub144 4\\uc6d4\\uc5d0 \\uc811\\uc218\\ud55c \\ud544\\ub9ac\\ud540 \\uad6d\\uc801\\uc758 \\uc544\\ub3d9. \\ubd80\\ubaa8\\ub2d8\\uc758 \\uc720\\uc804\\uc790 \\uac80\\uc0ac\\ub97c \\uc9c4\\ud589\\ud558\\uc600\\uc73c\\uba70, \\uce5c\\ubd80, \\uce5c\\ubaa8\\ub85c \\ud655\\uc778\\ub418\\uc5b4 \\ubc8c\\uae08 \\ub0a9\\ubd80 \\ud6c4 \\uc678\\uad6d\\uc778\\ub4f1\\ub85d \\uc808\\ucc28\\ub97c \\uc9c4\\ud589\\ud574\\uc57c \\ud558\\ub294 \\uc0c1\\ud669. \\uae08\\uc77c \\uc0ac\\ubc94\\uacfc \\ubc29\\ubb38 \\uc608\\uc815\\uc774\\uba70, \\ub3d9\\ud589 \\uc9c0\\uc6d0\\uc744 \\uc694\\uccad.\"\n        ],\n        \"semantic_type\": \"\",\n        \"description\": \"\"\n      }\n    },\n    {\n      \"column\": \"\\uc9c4\\ud589 \\uacfc\\uc815 \\ubc0f \\uacb0\\uacfc\",\n      \"properties\": {\n        \"dtype\": \"string\",\n        \"num_unique_values\": 5,\n        \"samples\": [\n          \"11\\uc6d4 1\\uc77c\\n1. \\uc591\\uc8fc\\ucd9c\\uc785\\uad6d \\uc0ac\\ubc94\\uacfc \\ubc29\\ubb38.\\n2. \\ub2f4\\ub2f9\\uc790\\ub85c\\ubd80\\ud130 \\uc720\\uc804\\uc790 \\uac80\\uc0ac \\uacb0\\uacfc \\ud655\\uc778 \\ubc1b\\uc558\\uc73c\\uba70, \\ubc8c\\uae08 \\ub0a9\\ubd80 \\uc808\\ucc28\\ub97c \\uc9c4\\ud589.\\n3. 1\\uce35 \\uc6b0\\ub9ac\\uc740\\ud589 \\ucc3d\\uad6c\\uc5d0\\uc11c \\ubc8c\\uae08 1800\\ub9cc\\uc6d0 \\ub0a9\\ubd80 \\ud6c4 \\uc601\\uc218\\uc99d\\uc744 \\uc81c\\ucd9c \\ud558\\uc600\\uc74c.\\n4. 1\\uce35 \\uc811\\uc218\\uacfc\\uc5d0 \\ubc29\\ubb38\\ud558\\uc5ec \\ucd5c\\uc885\\uc801\\uc73c\\ub85c \\uad00\\ub828\\uc11c\\ub958\\ub97c \\uc81c\\ucd9c\\ud558\\uace0 \\uc678\\uad6d\\uc778\\ub4f1\\ub85d\\uc5d0 \\ub300\\ud55c \\uc548\\ub0b4\\ub97c \\ubc1b\\uc558\\uc74c. \\uc5b4\\uba38\\ub2c8\\uc758 \\uc678\\uad6d\\uc778\\ub4f1\\ub85d\\uc99d \\uc0ac\\uc9c4\\ubcc0\\uacbd \\ubc0f \\uc544\\ubc84\\uc9c0 \\uc774\\ud63c\\uc11c\\ub958 \\uc6d0\\ubcf8 \\ud68c\\uc218\\ub97c \\uc694\\uccad.\\n5. \\uc811\\uc218\\uacfc \\ub2f4\\ub2f9\\uc790, \\uc11c\\ub958\\uc811\\uc218 \\uc644\\ub8cc\\ub428\\uc744 \\ud655\\uc778. 1\\uc8fc\\uc77c \\ub4a4\\uc5d0 \\ub2e4\\uc2dc \\uc5b4\\uba38\\ub2c8\\ub9cc \\uc7ac\\ubc29\\ubb38 \\ud560 \\uac83\\uc744 \\uc548\\ub0b4. 11\\uc6d4 8\\uc77c \\uc624\\ud6c4 3\\uc2dc\\uc5d0 \\ubc29\\ubb38\\ud558\\uae30\\ub85c \\ud568. \\n\\n11\\uc6d4 8\\uc77c\\n1. \\uc591\\uc8fc\\ucd9c\\uc785\\uad6d \\uc811\\uc218\\uacfc \\ubc29\\ubb38.\\n2. \\ub2f4\\ub2f9\\uc790\\ub85c\\ubd80\\ud130 \\uc678\\uad6d\\uc778\\ub4f1\\ub85d \\uc808\\ucc28\\ub97c \\uc9c4\\ud589.\\n3. \\uc720\\uc758\\uc0ac\\ud56d\\uc5d0 \\ub300\\ud574 \\uc548\\ub0b4 \\ubc1b\\uc558\\uc73c\\uba70, \\uba54\\uc2dc\\uc9c0 \\ubc1c\\uc1a1\\uc744 \\uc704\\ud574 \\ucd94\\ud6c4 \\uc544\\ubc84\\uc9c0\\uc640 \\ud568\\uaed8 \\ucd9c\\uc785\\uad6d\\uc5d0 \\ub2e4\\uc2dc \\ubc29\\ubb38\\ud560 \\uac83\\uc744 \\uc548\\ub0b4 \\ubc1b\\uc74c.\\n4. \\uc678\\uad6d\\uc778\\ub4f1\\ub85d\\uc99d \\uc218\\ub839\\uc740 \\uc6b0\\ud3b8\\uc73c\\ub85c \\uc811\\uc218.\\n5. \\uae30\\uc874\\uc5d0 \\uc9c4\\ud589\\ud558\\uc600\\ub358 \\uc0ac\\ub840\\ub294 \\uc678\\uad6d\\uc778\\ub4f1\\ub85d\\uc744 \\ud55c \\ubc88\\uc5d0 \\uc9c4\\ud589\\ud558\\uc600\\uc73c\\ub098, \\ubcc0\\uacbd\\ub41c \\ub2f4\\ub2f9\\uc790\\ub294 2\\ud68c~3\\ud68c\\uc5d0 \\uac78\\uccd0 \\uc7ac\\ubc29\\ubb38 \\uc548\\ub0b4\\ub97c \\ud558\\ub294 \\uc0c1\\ud669\\uc774\\ub77c  \\uc0c1\\ub2f9\\ud788 \\ubd88\\ud3b8\\ud55c \\uc0c1\\ud669. \\ubb34\\uc5c7\\ubcf4\\ub2e4\\ub3c4 \\ube44\\uc790 \\ud68d\\ub4dd\\uc774 \\ub418\\uc9c0 \\uc54a\\ub294 \\uac83\\uc778\\uc9c0 \\uc5b4\\uba38\\ub2c8\\uac00 \\ubd88\\uc548\\ud568\\uc744 \\ud638\\uc18c.\\n6. \\ub2f4\\ub2f9 \\uc9c1\\uc6d0\\uc5d0\\uac8c \\ud56d\\uc758\\ub97c \\ud558\\ub824 \\ud558\\uc600\\uc73c\\ub098, \\uc774\\uc8fc\\uc544\\ub3d9 \\uc5b4\\uba38\\ub2c8\\uc758 \\ub9cc\\ub958\\ub85c \\ud558\\uc9c0 \\uc54a\\uae30\\ub85c \\ud568.\\n7. \\uacb0\\uad6d 3\\uc77c \\uc548\\uc5d0 \\uba54\\uc2dc\\uc9c0\\ub97c \\ubc1b\\uace0 \\ub098\\uc11c \\uc544\\ubc84\\uc9c0\\uc640 \\ud568\\uaed8 \\uc9c0\\ubb38\\ub4f1\\ub85d\\uc744 \\uc704\\ud574 \\uc7ac\\ubc29\\ubb38 \\ud558\\uae30\\ub85c \\ud568.\\n\\n11\\uc6d4 10\\uc77c\\n1. \\uc591\\uc8fc\\ucd9c\\uc785\\uad6d\\uc73c\\ub85c\\ubd80\\ud130 \\uba54\\uc2dc\\uc9c0\\ub97c \\uc218\\ub839.\\n2. \\uc7ac\\ubc29\\ubb38\\ud558\\uc5ec \\uc9c0\\ubb38\\ub4f1\\ub85d\\uc744 \\uc9c4\\ud589\\ud558\\uc600\\uc74c.\\n3. \\uc774\\uc8fc\\uac00\\uc815 \\uc678\\uad6d\\uc778\\ub4f1\\ub85d \\uc9c0\\uc6d0 \\uc644\\ub8cc.\"\n        ],\n        \"semantic_type\": \"\",\n        \"description\": \"\"\n      }\n    },\n    {\n      \"column\": \"\\uad00\\ub828\\ubc95\\ub839 \\ubc0f \\uc815\\ubcf4\",\n      \"properties\": {\n        \"dtype\": \"object\",\n        \"num_unique_values\": 1,\n        \"samples\": [\n          \"\"\n        ],\n        \"semantic_type\": \"\",\n        \"description\": \"\"\n      }\n    },\n    {\n      \"column\": \"\\ud3c9\\uac00 \\ubc0f \\uc758\\uc758\",\n      \"properties\": {\n        \"dtype\": \"object\",\n        \"num_unique_values\": 1,\n        \"samples\": [\n          \"\"\n        ],\n        \"semantic_type\": \"\",\n        \"description\": \"\"\n      }\n    },\n    {\n      \"column\": \"\\uc0c1\\ub2f4\\uc9c0\\uc6d0\\ub2e8\\uccb4\",\n      \"properties\": {\n        \"dtype\": \"string\",\n        \"num_unique_values\": 4,\n        \"samples\": [\n          \"\\ub0a8\\uc591\\uc8fc\\uc2dc\\uc678\\uad6d\\uc778\\ubcf5\\uc9c0\\uc13c\\ud130\"\n        ],\n        \"semantic_type\": \"\",\n        \"description\": \"\"\n      }\n    },\n    {\n      \"column\": \"\\uc791\\uc131\\uc790\",\n      \"properties\": {\n        \"dtype\": \"string\",\n        \"num_unique_values\": 4,\n        \"samples\": [\n          \"\\uae40\\uc131\\uc218\"\n        ],\n        \"semantic_type\": \"\",\n        \"description\": \"\"\n      }\n    },\n    {\n      \"column\": \"url\",\n      \"properties\": {\n        \"dtype\": \"string\",\n        \"num_unique_values\": 5,\n        \"samples\": [\n          \"https://gmhr.or.kr/case/1701?page=1\"\n        ],\n        \"semantic_type\": \"\",\n        \"description\": \"\"\n      }\n    }\n  ]\n}"
            }
          },
          "metadata": {},
          "execution_count": 6
        }
      ]
    },
    {
      "cell_type": "code",
      "source": [
        "# 작성일 열을 datetime으로 변환\n",
        "data['작성일'] = pd.to_datetime(data['작성일'], format='%y-%m-%d')"
      ],
      "metadata": {
        "id": "o2-BqKEAG5pS"
      },
      "execution_count": 7,
      "outputs": []
    },
    {
      "cell_type": "code",
      "source": [
        "from datetime import datetime\n",
        "\n",
        "# 2023년 1월 1일 이후의 데이터만 필터링\n",
        "cutoff_date = datetime(2023, 1, 1)\n",
        "filtered_data = data[data['작성일'] >= cutoff_date]"
      ],
      "metadata": {
        "id": "qcS1b9HsG7rh"
      },
      "execution_count": 8,
      "outputs": []
    },
    {
      "cell_type": "code",
      "source": [
        "# 문자열 길이 계산\n",
        "df = filtered_data[filtered_data['상담유형'] == '체류자격']['상담내용']\n",
        "df['text_length'] = df.str.len()\n",
        "\n",
        "# 통계 계산\n",
        "stats = df['text_length'].agg(['mean', 'median', 'min', 'max'])\n",
        "\n",
        "print(stats)\n",
        "\n",
        "# 결과를 더 읽기 쉽게 출력\n",
        "print(f\"평균 길이: {stats['mean']:.2f}\")\n",
        "print(f\"중앙값 길이: {stats['median']:.2f}\")\n",
        "print(f\"최소 길이: {stats['min']}\")\n",
        "print(f\"최대 길이: {stats['max']}\")"
      ],
      "metadata": {
        "colab": {
          "base_uri": "https://localhost:8080/"
        },
        "id": "udW5KHU_HOB-",
        "outputId": "672d7b86-22ca-4229-8bcd-0956a91cc972"
      },
      "execution_count": 9,
      "outputs": [
        {
          "output_type": "stream",
          "name": "stdout",
          "text": [
            "mean      173.804878\n",
            "median    160.000000\n",
            "min        27.000000\n",
            "max       366.000000\n",
            "Name: 상담내용, dtype: float64\n",
            "평균 길이: 173.80\n",
            "중앙값 길이: 160.00\n",
            "최소 길이: 27.0\n",
            "최대 길이: 366.0\n"
          ]
        },
        {
          "output_type": "stream",
          "name": "stderr",
          "text": [
            "<ipython-input-9-53a567ac0cca>:3: SettingWithCopyWarning: \n",
            "A value is trying to be set on a copy of a slice from a DataFrame\n",
            "\n",
            "See the caveats in the documentation: https://pandas.pydata.org/pandas-docs/stable/user_guide/indexing.html#returning-a-view-versus-a-copy\n",
            "  df['text_length'] = df.str.len()\n"
          ]
        }
      ]
    },
    {
      "cell_type": "code",
      "source": [
        "text_list = filtered_data[filtered_data['상담유형'] == '체류자격']['진행 과정 및 결과'].to_list()\n",
        "len(text_list)"
      ],
      "metadata": {
        "colab": {
          "base_uri": "https://localhost:8080/"
        },
        "id": "QxwdJOBlEVXW",
        "outputId": "c734b7fd-bafa-4f07-bcc6-6839bdf7e3e8"
      },
      "execution_count": 10,
      "outputs": [
        {
          "output_type": "execute_result",
          "data": {
            "text/plain": [
              "41"
            ]
          },
          "metadata": {},
          "execution_count": 10
        }
      ]
    },
    {
      "cell_type": "markdown",
      "source": [
        "'제목', '상담내용' ,'상담 진행과정 및 결과' 결합"
      ],
      "metadata": {
        "id": "txhewfTToHAb"
      }
    },
    {
      "cell_type": "code",
      "source": [
        "def combine_text_fields(row):\n",
        "    \"\"\"각 행의 '제목', '상담내용', '진행 과정 및 결과'를 결합합니다.\"\"\"\n",
        "    title = row['제목'] if pd.notnull(row['제목']) else ''\n",
        "    content = row['상담내용'] if pd.notnull(row['상담내용']) else ''\n",
        "    process = row['진행 과정 및 결과'] if pd.notnull(row['진행 과정 및 결과']) else ''\n",
        "\n",
        "    combined = f\"제목: {title}\\n\\n전체상담내용: {content}\\n\\n상담기록: {process}\"\n",
        "    return combined.strip()\n",
        "\n",
        "# '체류자격' 관련 상담 내용만 필터링하고 텍스트 필드를 결합합니다\n",
        "text_list = filtered_data[filtered_data['상담유형'] == '체류자격'].apply(combine_text_fields, axis=1).tolist()"
      ],
      "metadata": {
        "id": "HmJgEopmnX8u"
      },
      "execution_count": 11,
      "outputs": []
    },
    {
      "cell_type": "code",
      "source": [
        "text_list[0]"
      ],
      "metadata": {
        "colab": {
          "base_uri": "https://localhost:8080/",
          "height": 278
        },
        "id": "vDGI6SV7nYo-",
        "outputId": "4a349942-f101-4aee-f099-c517ce183bf0"
      },
      "execution_count": 12,
      "outputs": [
        {
          "output_type": "execute_result",
          "data": {
            "text/plain": [
              "'제목: 중도 퇴사 후 근로소득 신고되지 않아 고용허가연장 안된 노동자 지원\\n\\n전체상담내용: 중도 퇴직하는 외국인 근로자의 추가 납부세액 사례\\n\\n상담기록: 2023-09-18\\n- 고용노동부에서 외국인근로자의 2020년 종합소득세 체납을   확인하여 고용허가제 연장 불가능 안내받았음 \\n 회사 담당자하고 여주세무서에 방문 및 체납된 세금의 원인 상담 내용을 통역 요청으로 전화 상담 \\n타행송금; 자동차세-7.360원, 2021년 주민세-11,330원, 2022년 주민세-11,330원, 2022년 지방세 44,630원, 2022년 소득세 – 476,590원, 2021년 지방세 173,140원, \\n공과금 2020년 1,808,950원 안내 통역함\\n\\n2020-09-20\\n- 2021년에 연말정산 신청하여 469,520원 환급받았음 \\n- 체류자격 연장을 위해서 합계 2,533,330원을 납부함 \\n공과금 납부 내용을 상담하러 이천세무서에 동시 통역 가능한지 문의로 전화 상담 \\n10월 21일 오전 10시에 이천세무서에 방문 예정 안내함\\n\\n2023-09-21\\n- 이천세무서 3층 소득세과에 방문 상담 내용 통번역 함\\n- 1,808,000원 2020년도의 체납 안내: \\n외국인근로자의 2020년에 중도에 퇴직후에 근로소득 신고하지 않아서 추가 체납 확인 \\n* 근로자가 중도에 퇴직하는 경우 원천징수의무자(회사)는 퇴직하는 달의 근로소득을 지급하는 때에 근로소득 세액을 징수함.\\n * 따라서, 중도 퇴직하는 근로자의 경우 퇴직하는 달의 급여를 받기 전 회사에 근로소득자의 소득·세액공제신고서와 증빙서류를 제출하여야 함  \\n* 관련 법령: 소득세법 제137조 내용 안내 통역 \\n\\n2023-09-27\\n - 체류지원 문의로 전화 상담 \\n- 고용허가제 연장 확인함 \\n- 11월 22일에 출입국사무소 방문예약함 \\n- 외국인등록증은 10월 16일 만료 예정 \\n- 회사 담당자가 바쁘셔서 출입국사무소에 방문 예약 기간에 갈 수 있다고 함 \\n- 출입국사무소에 10월 16일 이후에 방문하면 문제가 생기지 않는지 문의로 전화\\n*문의에 대한 답\\n- 외국인노동자는 고용허가 받은 후에 출입국사무소에서도 인정함 안내\\n- 고용허가 발급 후에 고용주 없이 외국인노동자는 출입국사무소에 방문 가능 안내\\n민원실에서 내담자가 신청 중임 확인 안내 통번역 완료 \\n\\n2023-10-11\\n - 타 기관 의뢰: 통번역 요청으로 A 회사에 이동 상담 \\n외국인노동자는 10월 11일까지 체류자격 연장이 되지 않아서 고용주와 외국인노동자 간의 대화 내용 통번역: \\n- 고용허가는 2025년 8월까지 연장 확인 \\n- 23.09.13 출입국사무소에 체류자격 연장 신청함 \\n- 종합소득 신고를 안 해서 체납 납부했음 \\n- 23.10.15 체류자격 만료 예정이지만 법무부에서 결과를 기다려야 함 \\n- 만약 법무부에서 체류자격 연장 불가능한다면 소송 진행 가능함 안내를 통번역함\\n\\n2023.11.02\\n -  외국인노동자부터 전화 상담 \\n - 외국인 체류자격 연장 완료 확인 \\n - 사회통합프로그램 사전평가 신청 요청 \\n - 사회통합프로그램 사전평가 신청 도왔음 \\n - 사전평가 시험 기간 안내하여 상담을 종료함'"
            ],
            "application/vnd.google.colaboratory.intrinsic+json": {
              "type": "string"
            }
          },
          "metadata": {},
          "execution_count": 12
        }
      ]
    },
    {
      "cell_type": "code",
      "source": [
        "import openai\n",
        "import pandas as pd\n",
        "import numpy as np\n",
        "import pickle\n",
        "\n",
        "# OpenAI 클라이언트 설정\n",
        "client = openai.OpenAI(api_key='sk-d6fAT3_olWR30GuaT6OS68w0QZuKAYWfx1WyarH66ET3BlbkFJB6e7aWsPA86bEXEHhQQ6zk851L5oY961ebHBU4JxIA')\n",
        "\n",
        "def extract_data(text,gpt):\n",
        "    response = client.chat.completions.create(\n",
        "        model=gpt,\n",
        "        messages=[\n",
        "            {\"role\": \"system\", \"content\": \"당신은 한국에 있는 외국인 노동자 지원센터의 상담원입니다. 주어진 지시사항에 따르시오.\"},\n",
        "            {\"role\": \"user\", \"content\": f\"\"\"\n",
        "\n",
        "            ## 지시사항\n",
        "            한국의 외국인 노동자와 <상담내용>의 [input]이 주어지면, **내담자정보**, **해결방안**으로 나누어 [output]을 출력해주세요.\n",
        "            1. **내담자정보**는 사용자가 처해있는 상황을 중심으로 읽고 추출합니다. (e.g. 안산시 직장에서 근무중, 이주노동자 전체가 보이콧에 동참)\n",
        "            2. **해결방안**은 <상담기록>를 참고하여, 내담자가 겪고 있는 문제 상황을 어떤 방식으로 해결했고, 해결을 위해서는 어떤 것들이 필요했는지 알아냅니다.\n",
        "            3. 1, 2번에서 추출한 **내담자정보**, **해결방안**을 예시와 같은 형식으로 작성하여 [output]을 출력합니다.\n",
        "            4. 날짜/기간 정보는 아래와 같이 일반화 하여 표기합니다.\n",
        "             예시 변환:\n",
        "            - \"2024년 1월 15일 입국\" → \"최근 입국\"\n",
        "            - \"3월 말까지 체류 예정\" → \"단기 체류 예정\"\n",
        "            - \"2020년 3월부터 현재까지 거주\" → \"약 4년간 거주\"\n",
        "            - \"9월 6일까지 소명하지 않을 경우 불법체류자 신분이 될 위기\" -> \"근시일 내에 소명하지 않을 경우 불법체류자 신분이 될 위기\"\n",
        "            - \"2022년 12월과 2023년 3월 임금 체불 경험\" -> \"두 번의 임금 체불 경험\"\n",
        "            - \"2019년부터 국내 체류 중인 미등록이주노동자\" -> \"국내 체류 중인 미등록 이주 노동자\"\n",
        "\n",
        "            지시사항과 예시를 참조하여, **예시와 동일한 형식으로 [output]을 출력**하세요.\n",
        "\n",
        "            ## 예시\n",
        "            [input]\n",
        "            <제목>단체행동을 통해 체불임금 해결한 사례</제목>\n",
        "            <전체상담내용>사례자 안산시 한 직장에서 근무하는데, 회사에서 잔업수당 등을 상습적으로 속이고 있다고 생각하여 노동부 소송 가능한지 의뢰해옴, 그 과정에서 임금 체불로 사내 이주노동자 전체가 보이코트를 하기로 함에 동참하여 회장님과의 단체협상을 통해 급여를 받기도 함. 건강 관련해서는 치아에 문제가 있어서 병원 동반하여 진료 통역하여 치료를 진행함.</전체상담내용>\n",
        "            <상담기록>\n",
        "            8월 14일\n",
        "            (전화상담) 회사에서 급여계산을 잘못해서 주고 야간 수당을 안주고 있어서 급여 계산 도움을 요청해옴. 급여도 매월 몇일 씩 밀려서 주고 있음. 해결방법 문의해옴.\n",
        "\n",
        "            8월 16일\n",
        "            (전화상담) 근로자가 제공하여준 일별 근로시간을 토대로 7월 급여 계산 내용 통보함, 계산해 보니 약간의 차이가 있긴하나 실제적으로 회사 급여 계산에는 큰 이상이 없음을 인지시킴.\n",
        "\n",
        "            9월 19일\n",
        "            (내방 상담) 회사에서 급여가 지체되고 있어서 고민됨, 한국인들은 이미 지급하고는 외국인근로자들에게만 지급을 안함. 외국인근로자들 끼리 협의하여서 단체로 내일 보이콧하기로 한 사항 참여 해야할 지 상담 문의해옴.\n",
        "\n",
        "            9월 20일\n",
        "            (전화 상담) 오늘 이주노동자들 오전에 단체 보이콧 단행, 회장과의 대화 25일까지 급여 지급하기로 하고 업무 재개함.\n",
        "\n",
        "            11월 20일\n",
        "            회사에서는 급여를 제때 주려고 노력하고 있고, 치과진료 11월18일까지 추가로 진료하여 건강에 안정을 찾아서 잘 일하고 있음.\n",
        "            </상담기록>\n",
        "\n",
        "            [output]\n",
        "            <내담자정보>\n",
        "            안산시 직장에서 근무중\n",
        "            이주노동자 전체가 보이콧에 동참\n",
        "            치아 문제로 진료\n",
        "            급여 계산 실수로 야간 수당 받지 못함\n",
        "            계속되는 급여 지체로 고민\n",
        "            </내담자정보>\n",
        "            <해결방안>\n",
        "            회사에서 외국인근로자들에게만 급여 지급이 지체되어서, 이주노동자들의 단체 보이콧을 단행하였습니다. 이후 사업주와의 대화가 진행되었고, 25일까지 급여를 지급하기로 약속받으며 업무를 재개하였습니다.\n",
        "            </해결방안>\n",
        "\n",
        "            [input]\n",
        "            {text}\n",
        "\n",
        "            [output]\n",
        "             \"\"\"}\n",
        "        ]\n",
        "    )\n",
        "    return response.choices[0].message.content.strip()"
      ],
      "metadata": {
        "id": "AElLZLZgyfcd"
      },
      "execution_count": 40,
      "outputs": []
    },
    {
      "cell_type": "code",
      "source": [
        "text_list[2]"
      ],
      "metadata": {
        "colab": {
          "base_uri": "https://localhost:8080/",
          "height": 315
        },
        "id": "0PbOiy8Oyhr9",
        "outputId": "3217774b-918d-4955-a705-c31978883492"
      },
      "execution_count": 14,
      "outputs": [
        {
          "output_type": "execute_result",
          "data": {
            "text/plain": [
              "'제목: 폭행피해 미등록이주노동자의 민형사 절차 및 체류지원\\n\\n전체상담내용: 2019년부터 국내 체류중인 미등록이주노동자. 7월1일 한국인 청소년 4명으로부터 폭행당한 사건 이후 출입국사무소 감금 중 보호일시해제하여 심신 치료 및 이후 민형사 절차 지원중임. 3개월의 보호일시해제 기간은 끝나고 체류자격부여 신청절차 도움이 필요해 상담 접수\\n\\n상담기록: 10.10\\n양주출입국사무소 사범과 전화상담. 10월14일이 보호일시해제 3개월 만료일, 체류자격부여 신청을 위해 법원의 공소장 사본을 추가 첨부하여 제출해달라고 하나, 아직 공소장 열람에 대한 법원의 응답이 없어 보호일시해제를 10월말까지 연장하고 도중 서류 확보되면 접수하기로 함. \\n\\n10.31\\n보호일시해제 연장 마지막 날이지만 의정부지방법원에 요청한 공소장열람복사 허가가 아직 나지 않아 우선 체류자격신청 기본서류 지참하여 양주출입국 동행. 사범과에 출국명령 취소요청 처리 후 1층 민원실 난민과에 서류 접수. 지문날인 및 체류허가 신청확인서 받고, 10일내 결핵검진서 및 법원 공소장 보완접수하기로 함. \\n남양주풍양보건소 방문하여 결핵검진 요청. \\n보건복지부 보건소 시스템 변경으로, 외국인등록번호가 없는 여권만으로는 결핵검진 및 검진서 발급 접수가 되지 않으니 인근 법무부 지정병원으로 가야 한다고 안내받음. 협력병원인 현대병원 건강검진실에서 결핵검진 받고, 2~3일내 문자로 완료 통보시 본인내방 수령하기로 함. \\n\\n11. 9\\n결핵검진서 수령후 의정부 지방법원으로 동행. 민원실 복사열람실에 문의했으나 아직 해당 공소장 열람복사 허가가 나지 않았다고 함. 변호사 통해 재판부에 항의하고, 대기후 공소장 사본 교부받음. \\n양주출입국 민원실 방문하여, 결핵검진서와 공소장 사본 제출. 외국인등록증 등기우편 수령으로 접수. 약 1달 정도 걸린다고 함. \\n\\n11.20\\n해당 형사사건 피의자중 일부의 국선변호인으로부터 합의요청 연락옴. 일부 처벌불원 제출 및 합의진행. 1심 선고일은 11월 24일이며, 이후 형사사건 및 피해구제를 위한 민사 소송과, 외국인등록증 발급 이후의 체류자격외활동허가(취업허가) 등 제반 절차 지속 지원예정.  상담 종료.'"
            ],
            "application/vnd.google.colaboratory.intrinsic+json": {
              "type": "string"
            }
          },
          "metadata": {},
          "execution_count": 14
        }
      ]
    },
    {
      "cell_type": "markdown",
      "source": [
        "# GPT3.5 turbo"
      ],
      "metadata": {
        "id": "NohD8r09lgPu"
      }
    },
    {
      "cell_type": "code",
      "source": [
        "response = extract_data(text_list[2],\"gpt-3.5-turbo\")\n",
        "response"
      ],
      "metadata": {
        "id": "VKZBZwVZgHc1",
        "colab": {
          "base_uri": "https://localhost:8080/",
          "height": 72
        },
        "outputId": "f0dbfe44-5748-472c-a4c2-1498dabd060c"
      },
      "execution_count": null,
      "outputs": [
        {
          "output_type": "execute_result",
          "data": {
            "text/plain": [
              "'<내담자정보>\\n2019년부터 국내 체류중인 미등록 이주노동자\\n한국인 청소년 4명에게 폭행 당한 후 출입국사무소 감금\\n심신 치료 및 민형사 절차 지원 중\\n보호일시해제 기간 연장 후 체류자격부여 신청 필요\\n결핵검진 서류 접수와 법원 공소장 보완 준비\\n\\n</내담자정보>\\n<해결방안>\\n보호일시해제 연장 요청 후 법원 공소장 열람 복사 방법 확인\\n건강검진 및 체류허가 서류 완료를 위해 현지 법무부 지정병원 방문\\n법원 공소장 사본 확인 후 체류자격 신청 서류 제출 계획 수립\\n민사 및 형사 소송 진행을 위한 변호사와 협의하고 체류자격 관련 절차 수행 예정\\n\\n</해결방안>'"
            ],
            "application/vnd.google.colaboratory.intrinsic+json": {
              "type": "string"
            }
          },
          "metadata": {},
          "execution_count": 31
        }
      ]
    },
    {
      "cell_type": "markdown",
      "source": [
        "# GPT4\n",
        "\n"
      ],
      "metadata": {
        "id": "p6RIRvzTldsV"
      }
    },
    {
      "cell_type": "code",
      "source": [
        "response = extract_data(text_list[1],\"gpt-4o\")\n",
        "response"
      ],
      "metadata": {
        "colab": {
          "base_uri": "https://localhost:8080/",
          "height": 72
        },
        "id": "TN0ETPMrlYDa",
        "outputId": "ce4254b5-2f5a-462d-b087-c7070b871fe7"
      },
      "execution_count": null,
      "outputs": [
        {
          "output_type": "execute_result",
          "data": {
            "text/plain": [
              "'[output]  \\n<내담자정보>  \\n필리핀 국적 이주아동, 장기 미등록체류  \\n부모 유전자 검사로 친부모 확인  \\n벌금 납부 후 외국인등록 절차 진행 중  \\n양주출입국 방문  \\n</내담자정보>  \\n<해결방안>  \\n법무부에서 장기 미등록체류 이주아동 구제대책의 일환으로 필리핀 국적 아동의 외국인등록을 지원하였습니다. 부모의 유전자 검사 결과를 바탕으로 벌금을 납부하고 외국인등록 절차를 진행하였습니다. 초기 서류 제출 후 담당자의 변경으로 인해 절차가 2~3회 방문으로 늘어났으나, 완료하여 외국인등록을 지원받았습니다. 이후 추가 방문을 통해 지문등록을 완료하고 외국인등록증 수령 절차를 안내받았습니다.  \\n</해결방안>'"
            ],
            "application/vnd.google.colaboratory.intrinsic+json": {
              "type": "string"
            }
          },
          "metadata": {},
          "execution_count": 35
        }
      ]
    },
    {
      "cell_type": "code",
      "source": [
        "response = extract_data(text_list[2],\"gpt-4o\")\n",
        "response"
      ],
      "metadata": {
        "colab": {
          "base_uri": "https://localhost:8080/",
          "height": 90
        },
        "id": "fnrkQi7BvvSC",
        "outputId": "2734e7fa-2b50-41ed-c22e-e55981893102"
      },
      "execution_count": null,
      "outputs": [
        {
          "output_type": "execute_result",
          "data": {
            "text/plain": [
              "'<내담자정보>\\n2019년부터 국내 체류 중\\n미등록이주노동자로서 폭행 피해 경험\\n출입국사무소 보호일시해제 상태\\n체류자격부여 신청 필요\\n결핵검진 및 체류허가 관련 서류 준비\\n외국인등록번호 미보유로 인한 검진서 발급 어려움\\n</내담자정보>\\n<해결방안>\\n보호일시해제 기간 만료를 앞두고 체류자격부여 신청을 위해 법원의 공소장 사본을 요청하였으나 지연되어 보호일시해제를 연장. 체류자격신청을 위한 기본서류를 준비하여 양주출입국 사범과에 동행, 출국명령 취소 요청 후 난민과에 서류 접수. 결핵검진을 위해 법무부 지정병원 방문하여 검진 수행. 이후 양주출입국 민원실에 결핵검진서와 공소장 사본 제출하여 외국인등록증 우편 수령 신청, 약 1달 소요 예정. 형사사건 관련 일부 합의 진행하였으며, 이후 민사 소송 및 취업허가 등 절차 지속 지원 예정.\\n</해결방안>'"
            ],
            "application/vnd.google.colaboratory.intrinsic+json": {
              "type": "string"
            }
          },
          "metadata": {},
          "execution_count": 36
        }
      ]
    },
    {
      "cell_type": "code",
      "source": [
        "response = extract_data(text_list[3],\"gpt-4o\")\n",
        "response"
      ],
      "metadata": {
        "id": "vydIlrZvwOYl",
        "colab": {
          "base_uri": "https://localhost:8080/",
          "height": 110
        },
        "outputId": "ae23392a-f9a1-446b-c9a0-2d9b622386e5"
      },
      "execution_count": 15,
      "outputs": [
        {
          "output_type": "execute_result",
          "data": {
            "text/plain": [
              "'[output]\\n            <내담자정보>\\n            필리핀 국적의 아동, 장기 미등록 체류\\n            사범과 추가 인터뷰 요청\\n            부모: 혼인신고 미완료, 아버지 필리핀에 가정 있었음\\n            가족 DNA 유전자 검사 요구\\n            </내담자정보>\\n            <해결방안>\\n            최근 유사 사례와 관련된 부정행위의 의혹으로 사범과 소명 절차를 진행했습니다. 가족 모두가 DNA 유전자 검사를 통해 정확한 판별을 받으려 동의하여 수용하였고, 사범과 담당자가 대검찰청에 유전자 분석을 요청하여 결과를 기다리고 있는 상황입니다.\\n            </해결방안>'"
            ],
            "application/vnd.google.colaboratory.intrinsic+json": {
              "type": "string"
            }
          },
          "metadata": {},
          "execution_count": 15
        }
      ]
    },
    {
      "cell_type": "code",
      "source": [
        "response = extract_data(text_list[4],\"gpt-4o\")\n",
        "response"
      ],
      "metadata": {
        "colab": {
          "base_uri": "https://localhost:8080/",
          "height": 129
        },
        "id": "7SWWkokaxqPR",
        "outputId": "1fac6101-403b-4f17-81b0-735908c4cf8a"
      },
      "execution_count": 20,
      "outputs": [
        {
          "output_type": "execute_result",
          "data": {
            "text/plain": [
              "'<내담자정보>\\n철원 소재의 사업장에서 근무 중\\n양주출입국외국인사무소로부터 최근 체류 허가를 받음\\n근시일 내에 소명하지 않을 경우 불법체류자 신분이 될 위기\\n고용허가서 발급 절차 누락으로 인한 문제 발생\\n</내담자정보>\\n<해결방안>\\n노동자는 소명을 위해 센터와 함께 양주출입국외국인사무소를 방문하여 사유서를 제출하고 관련 자료를 제출하였습니다. 의정부고용센터에 사업주와 출입국외국인사무소의 귀책에 따른 고용허가 신청 요청 진정서를 접수하여 문제를 해결하고자 하였습니다. 이후 노동자의 사업장 변경 신청 기간이 연장되어 새로 구직 알선을 받을 수 있게 되었으며, 출입국외국인사무소에 사실 확인 공문을 제출할 예정입니다.\\n</해결방안>'"
            ],
            "application/vnd.google.colaboratory.intrinsic+json": {
              "type": "string"
            }
          },
          "metadata": {},
          "execution_count": 20
        }
      ]
    },
    {
      "cell_type": "code",
      "source": [
        "response = extract_data(text_list[5],\"gpt-4o\")\n",
        "response"
      ],
      "metadata": {
        "colab": {
          "base_uri": "https://localhost:8080/",
          "height": 110
        },
        "id": "WS4Q7jtVxuDN",
        "outputId": "499c2060-0bd3-4b75-fc87-54cc69b575ee"
      },
      "execution_count": 21,
      "outputs": [
        {
          "output_type": "execute_result",
          "data": {
            "text/plain": [
              "'[output]\\n<내담자정보>\\n가나 국적 고등학교 3학년 여학생\\n5년간 방과 후 학습프로그램 참여\\n만 19세가 되어 체류 연장 불가, 출국 유예 상태\\n고등학교 졸업 후 출국 예정\\n가족 모두 한국 거주\\n초등학교 3학년부터 한국에서 학업 진행\\n</내담자정보>\\n<해결방안>\\n이전의 유사한 사례를 토대로, 상담활동가는 출입국 사무소를 방문하여 내담자와 같은 상황에서 체류 연장을 받은 선례를 제시하고, 인적 사항을 설명하였습니다. 이를 통해 내담자는 고등학교 졸업 때까지 체류 기간 연장을 다시 받게 되었고, 가족과 함께 생활하며 학업을 지속할 수 있게 되었습니다.\\n</해결방안>'"
            ],
            "application/vnd.google.colaboratory.intrinsic+json": {
              "type": "string"
            }
          },
          "metadata": {},
          "execution_count": 21
        }
      ]
    },
    {
      "cell_type": "code",
      "source": [
        "response = extract_data(text_list[6],\"gpt-4o\")\n",
        "response"
      ],
      "metadata": {
        "colab": {
          "base_uri": "https://localhost:8080/",
          "height": 129
        },
        "id": "kzHfnWQRxuAS",
        "outputId": "ae87d669-d256-4c21-d589-4d6c61e3104f"
      },
      "execution_count": 22,
      "outputs": [
        {
          "output_type": "execute_result",
          "data": {
            "text/plain": [
              "'[output]\\n<내담자정보>\\n구직활동 중 00회사에서 이틀간 근무\\n근로 중단 후 최근 재직 중인 회사 대표이사 변경\\n고용변동신고를 위해 출입국 방문\\n벌금 100만 원 통보 받음\\nE-7-4 체류자격 변경 예정\\n</내담자정보>\\n<해결방안>\\n내담자는 벌금 문제로 인해 E-7-4 체류 자격변경 신청자격이 무산될 위험에 처해 있었습니다. 상담활동가는 관할출입국을 방문하여 내담자의 사정을 설명하고 벌금을 경감해 줄 것을 간절히 요청하였습니다. 관할출입국은 내담자의 사정을 긍정적으로 검토한 결과, 벌금을 경감해주는 방향으로 검토하겠다고 답변하였습니다. 그러나 최종적으로 벌금이 200만 원으로 더욱 커지며 E-7-4 체류자격을 상실하게 되었습니다.'"
            ],
            "application/vnd.google.colaboratory.intrinsic+json": {
              "type": "string"
            }
          },
          "metadata": {},
          "execution_count": 22
        }
      ]
    },
    {
      "cell_type": "code",
      "source": [
        "text_list[7]"
      ],
      "metadata": {
        "colab": {
          "base_uri": "https://localhost:8080/",
          "height": 296
        },
        "id": "Pl6riHUuy2Gk",
        "outputId": "138b419d-9aee-4f97-d839-e8b62473c497"
      },
      "execution_count": 25,
      "outputs": [
        {
          "output_type": "execute_result",
          "data": {
            "text/plain": [
              "'제목: 허위 세무신고로 E-7비자 신청 좌절된 노동자\\n\\n전체상담내용: 상기 사례자는 필리핀국적 노동자로 한국에서 11년을 근무하며 회사의 적극적인 도움으로 E-7근로자 신청을 진행하다가 우연히 자신이 다른 회사에서 세무서로 잘못 신고된 급여로 인해 이중 취업으로 E-7비자 신청이 좌절되고 귀국을 하게되어 귀국 준비를 도와주게 됨.\\n\\n상담기록: 8월 9일\\n(전화상담) 오늘 E7비자 신청 결과 65점으로 다소 높은 점수임에도 탈락됨에 따라 사유를 살펴보니, 자신이 일한 적도 없는 회사에서 세무서로 73,350원을 급여 신고한 것이 출입국 사무소에서 확인되어 이를 불법 이중 취업으로 보고 E7비자 심사에서 탈락시킴. 자신은 그런 곳에서 일한 적도 없고, 급여 받을 일도 없는데 그 회사는 연락이 안되고 현재 부도 처리된 곳이어서 이를 증명할 길이 없음. 이런 경우 어떻게 해야할지 상담해옴.\\n\\n8월 10일\\n(방문, 동반상담) 오전 9시에 안산 기업은행 방문하여 세무서에 신고된 외부 급여 입금 여부 확인 했으나, 입금 된 사실이 없음. 그럼에도 불구하고 출입국에서는 현찰로 급여를 받은 것으로 보고 인정해 주지 않음. 이를 해결하기 위해 회사 관계자와 통화 해서 협조 요청 진행함. 두가지 방안으로 접근 가능, 첫 번째는 세무서에 방문하여 자신이 일한 사실이 없는 곳에서 입금된 세무신고 삭제 요청, 두 번째는 출입국 사무소에 벌금 200만원을 내고 다시 E-7비자를 신청하는 방안임. \\n\\n9월 1일\\n(전화 상담) 회사 관계자와 세무서에 확인 결과, 기록 삭제가 불가함. 출입국 사무소에 벌금을 내고 E-7비자를 신청하려고 하였으나, 이미 9월 23일에 비자 만료여서 그전에 E7비자 신청이 어려운 상황임을 인지하고 9월 18일 전격 귀국하기로 결정함. 귀국 비행기표 구매 사이트 안내함. \\n\\n9월 6일\\n(방문 동반 상담) 오전 8시반에 병원 앞에서 만나서 병원 진료 도와주고, 노동부, 국민연금공단(국민연금), 삼성화재(출국 만기보험) 동반해서 귀국 관련 수속 진행함.\\n\\n9월 18일\\n(방문 동반 상담) 인천 공항까지 동반하여 귀국 절차 안내하고 귀국 시킴.\\n\\n9월 20일\\n9월 18일 공항에서 국민연금과, 출국만기보험 수령하고 출국하여 필리핀에 재정착 중임.'"
            ],
            "application/vnd.google.colaboratory.intrinsic+json": {
              "type": "string"
            }
          },
          "metadata": {},
          "execution_count": 25
        }
      ]
    },
    {
      "cell_type": "code",
      "source": [
        "response = extract_data(text_list[7],\"gpt-4o\")\n",
        "response"
      ],
      "metadata": {
        "colab": {
          "base_uri": "https://localhost:8080/",
          "height": 110
        },
        "id": "9Q1Xz98kyyUl",
        "outputId": "33f06f68-610a-4dcc-c51c-7211f37f5d2d"
      },
      "execution_count": 24,
      "outputs": [
        {
          "output_type": "execute_result",
          "data": {
            "text/plain": [
              "'<내담자정보>\\n필리핀 국적 노동자로 약 11년간 한국에서 근무\\n회사의 도움으로 E-7비자 신청 진행 중\\n잘못된 세무신고로 E-7비자 신청이 좌절됨\\n근시일 내에 귀국을 준비하게 됨\\n</내담자정보>\\n<해결방안>\\n이중 취업으로 인한 E-7비자 신청이 탈락되어, 회사와 함께 문제를 해결하려 했지만 실패하였습니다. 출입국 사무소에 벌금을 내고 비자를 재신청할 계획이었으나, 비자 만료까지 시간이 부족하여 9월 18일 귀국하기로 결정하였습니다. 병원, 노동부, 국민연금공단 등의 도움을 받아 귀국 절차를 완료하고, 인천 공항에서 출국하였습니다.\\n</해결방안>'"
            ],
            "application/vnd.google.colaboratory.intrinsic+json": {
              "type": "string"
            }
          },
          "metadata": {},
          "execution_count": 24
        }
      ]
    },
    {
      "cell_type": "code",
      "source": [
        "text_list[8]"
      ],
      "metadata": {
        "colab": {
          "base_uri": "https://localhost:8080/",
          "height": 296
        },
        "id": "y6mKy0zHyziL",
        "outputId": "0899441f-1249-4f32-9455-577cc9c4ee8e"
      },
      "execution_count": 29,
      "outputs": [
        {
          "output_type": "execute_result",
          "data": {
            "text/plain": [
              "'제목: 산재치료 중에 사업주가 허위로 이탈신고한 노동자 지원\\n\\n전체상담내용: 양주소재 지관 제조 공장에서 2022년 12월 12부터 재직 중임. 근무 중, 왼손의 검지부터 약지까지의 세 손가락이 프레스기에 같이 빨려 들어가 다쳐서 상담을 위해 센터 방문함\\n\\n상담기록: 4월 4일\\n- 센터 방문. 상담 과정에서 3월 29일, 재해 발생에 따라 요양 및 휴업급여 청구서 작성 후 경기도의료원 의정부병원으로 안내함. 노동자 손가락 골절 진단을 받아 사업장에 연락하여 건강 상태에 대해 안내했으나 사측에서는 손가락이 부러질 정도로 아프지 않았다고 하여, 회사 복귀 후 사업주에게 진단서를 보여주고 연락 요청함.\\n- 16시 20분경, 회사에 복귀하자 사측에서는 노동자를 무단 주거침입으로 신고하여 경찰이 출동함. 노동자 짐을 싸서 기숙사에서 나오게 되어, 사측에서 노동자 무단이탈 신고 시 참고를 위해 의정부 고용센터에 해당 내용에 대한 안내문 발송함.\\n\\n4월 11일\\n- 사업주 확인 결과, 2022년 12월과 2023년 3월 임금 체불이 있는 상황에서 사측에서 산재접수까지 거부하여 의정부 고용노동지청에 체불임금 미지급 진정 접수함.\\n\\n4월 25일\\n- 근로복지공단에서 노동자 손가락 골절 산재요양 승인 됨.\\n※ 요양기간 : 4월 4일 – 5월 15일\\n\\n5월 16일\\n- 의정부 고용노동지청 사업주 대질 조사 출석 조사 동행 후, 당일 체불 진정 금액 3,581,120원 중, 3,001,920원을 사업주로부터 지급 받고, 휴업 급여도 접수함.\\n- 의정부 고용센터에 사업주의 체불임금 지급에 따라 ‘월 임금의 30 퍼센트 이상의 금액을 2개월이 지나도록 지급하지 않은 경우’로 사업장 변경 진정 접수함.\\n\\n5월 22일\\n- 고용센터에 사업장 변경 진정 진행 상황 확인 중, 주무관으로부터 사업주가 출입국외국인사무소에 노동자 소재지 불명 무단 이탈로 신고하여 5월 8일까지 출국해야한다는 내용을 답변 받음.\\n- 양주출입국외국인사무소 확인 결과, 무단 이탈 신고에 대한 소명 자료를 준비하여 방문해야함을 답변 받음. 고용센터, 노동지청, 근로복지공단 관련 자료 준비함.\\n\\n5월 24일\\n- 노동자와 함께 양주출입국외국인사무소 방문하여 소명자료 제출함. 조사과 담당자로부터 사업주가 4월 6일 무단 이탈 신고했으며, 기간이 1개월 이상 지났기 때문에 내부적으로 검토 후 소명 가능여부를 확인해야 함을 답변 받음.\\n\\n6월 8일\\n- 사업주의 노동자 무단이탈 신고 조사 소명을 위해 양주출입국외국인사무소 사범과 동행 방문함. 노동자의 요양기간 종료 이후에 자료를 제출했기 때문에 현재 미등록 신분에서 G-1 자격 비자 발급을 위해서는 산재 요양기간의 연장이 필요함을 안내 받음.\\n- 경기도의료원 의정부병원 진단 결과, 노동자의 요양기간 연장이 어렵다고 답변 받아 사범과 팀장에게 안내함. 이에, 체류자격 관련하여 추가적인 검토가 필요함을 답변 받음.\\n\\n6월 19일\\n- 양주출입국외국인사무소 사범과 팀장으로부터 노동자가 벌금이 부과되더라도 E-9 자격으로 계속 체류하기 위해서는 사업장 변경이 우선 처리되어야한다는 답변을 받음. 이에, 의정부고용센터에 해당 내용을 전달하고 자료를 제출함.\\n\\n6월 26일\\n- 의정부고용센터에 사업장변경 허가 진행 상황을 문의했으나 담당 주무관으로부터 출입국외국인사무소에서 노동자의 현재 불법체류자 체류 자격 문제가 먼저 해결되어야 한다는 답변을 받음. 이에, 출입국외국인사무소에서는 고용센터에서 사업장 변경 허가가 우선 처리되어야 한다고 답변하자 출입국외국인사무소에 확인하고 조율하겠으나 시간이 소요된다는 답변을 받음.\\n\\n6월 27일\\n- 국민권익위원회 고충민원 접수함.\\n\\n7월 4일\\n- 사범과, 조사과, 체류과 추가 확인 조사 동행 후, 무단이탈 신고 무혐의 결과 나옴.\\n\\n6월 27일\\n- 의정부고용센터에 무혐의 결과 사실에 대해 안내후, 사업장변경 진정 진행 상황 문의함. 담당 주무관으로부터 사측에서 체불임금 지급 사실 부인하여 8월 2일까지 체불임금 지급에 대한 사업주의 소명자료 미제출시 직권으로 고용변동신고처리 예정임을 답변 받음.\\n\\n8월 11일\\n- 사업주의 의견 제출기한 연장되었으나 자료 제출하지 않아 임금지급 지연 사유로 직권 고용변동신고처리되었음을 확인하고 노동자 사업장 변경 신청함.'"
            ],
            "application/vnd.google.colaboratory.intrinsic+json": {
              "type": "string"
            }
          },
          "metadata": {},
          "execution_count": 29
        }
      ]
    },
    {
      "cell_type": "code",
      "source": [
        "response = extract_data(text_list[8],\"gpt-4o\")\n",
        "response"
      ],
      "metadata": {
        "colab": {
          "base_uri": "https://localhost:8080/",
          "height": 129
        },
        "id": "IVGDWhMSyzfg",
        "outputId": "ed059941-4437-490f-c6d6-6da4f9a4bc7b"
      },
      "execution_count": 30,
      "outputs": [
        {
          "output_type": "execute_result",
          "data": {
            "text/plain": [
              "'<내담자정보>\\n양주소재 지관 제조 공장에서 근무 중\\n최근 왼손의 세 손가락 부상으로 산재 요양 중\\n2022년 12월부터 재직\\n두 번의 임금 체불 경험\\n근시일 내에 소명하지 않을 경우 불법체류자 신분이 될 위기\\n</내담자정보>\\n<해결방안>\\n노동자의 산재 요양 승인 이후, 사업주가 무단이탈 신고를 하여 불법체류 위기에 처했습니다. 고용센터 및 출입국외국인사무소를 통해 소명자료를 제출하고, 무단이탈 신고 무혐의 결과를 받았습니다. 이 과정에서 사업장 변경이 필요하여 관련 자료를 수집 제출하며, 체불임금 문제 해결을 위해 국민권익위원회에 고충민원 접수 및 사업주의 체불 임금 소명자료 미제출 시 직권으로 고용변동신고처리 예정임을 요구하였습니다.\\n</해결방안>'"
            ],
            "application/vnd.google.colaboratory.intrinsic+json": {
              "type": "string"
            }
          },
          "metadata": {},
          "execution_count": 30
        }
      ]
    },
    {
      "cell_type": "code",
      "source": [
        "text_list[9]"
      ],
      "metadata": {
        "colab": {
          "base_uri": "https://localhost:8080/",
          "height": 203
        },
        "id": "SMglNvusyzce",
        "outputId": "853567b2-39b4-4ed5-9462-1ff135e20fd8"
      },
      "execution_count": 31,
      "outputs": [
        {
          "output_type": "execute_result",
          "data": {
            "text/plain": [
              "'제목: 미등록아동교육권보장을 위한 체류자격 부여자의 체류연장 지원\\n\\n전체상담내용: 남양주시에서 거주하는 필리핀 국적의 이주가정으로 법무부 구제대책을 통해 2022년 9월 G-1체류비자를 획득 함. 다가오는 16일 체류기간 만료로 연장이 필요한 상황이나 구비해야 할 서류들을 알지 못해 지원을 요청.\\n\\n상담기록: 9월 10일\\n1. 이주가정 센터에 내방. 체류기간 연장 신청에 대한 상담을 진행.\\n2. 체류기간 연장에 대한 구비서류 안내\\n-통합신청서\\n-여권 및 외국인등록증 사본\\n-표준근로계약서 (*부모님)\\n-사업자등록증 사본 (*부모님)\\n-재직증명서 (*부모님)\\n-재학증명서 (*자녀)\\n-임대차계약서\\n3. 양주출입국관리사무소 방문예약 하였으며 현장 접수 지원하기로 함..\\n\\n9월 13일\\n1. 양주출입국관리사무소 방문.\\n2. 방문예약 창구 대기 후 접수 진행하였음.\\n3. 어머니와 자녀는 서류상 큰 문제는 없었으나, 사업장에서 발급해준 아버지의 표준근로계약서 기간이 앞으로 체류기간 연장 받을 기간과 맞지 않아 사업장에 확인이 필요.\\n4. 사업장 담당자 필요서류 잘못 인지하여 발급한 것으로 확인. 필요한 서류는 출입국 담당자에게 fax로 발송하기로 하였음.\\n5. 접수지원 완료.'"
            ],
            "application/vnd.google.colaboratory.intrinsic+json": {
              "type": "string"
            }
          },
          "metadata": {},
          "execution_count": 31
        }
      ]
    },
    {
      "cell_type": "code",
      "source": [
        "response = extract_data(text_list[9],\"gpt-4o\")\n",
        "response"
      ],
      "metadata": {
        "colab": {
          "base_uri": "https://localhost:8080/",
          "height": 110
        },
        "id": "xO4znJHUyzZq",
        "outputId": "f4d63b2e-6938-4a1c-8570-9666ca4d9a02"
      },
      "execution_count": 32,
      "outputs": [
        {
          "output_type": "execute_result",
          "data": {
            "text/plain": [
              "'<내담자정보>\\n남양주시에서 거주 중인 필리핀 국적의 이주가정\\n2022년 9월부터 G-1 체류비자 소지\\n체류기간 연장이 필요\\n구비해야 할 서류에 대한 정보 부족\\n</내담자정보>\\n<해결방안>\\n이주가정 센터에서 체류기간 연장에 필요한 구비서류 안내를 받았으며, 양주출입국관리사무소 방문 예약 후 접수 지원을 받았습니다. 어머니와 자녀의 서류는 문제가 없었으나, 아버지의 표준근로계약서에 기간 문제가 있어 사업장에 확인 후 필요한 서류를 출입국 담당자에게 fax로 발송하였습니다. 최종적으로 접수 지원을 완료하였습니다.\\n</해결방안>'"
            ],
            "application/vnd.google.colaboratory.intrinsic+json": {
              "type": "string"
            }
          },
          "metadata": {},
          "execution_count": 32
        }
      ]
    },
    {
      "cell_type": "code",
      "source": [
        "text_list[10]"
      ],
      "metadata": {
        "colab": {
          "base_uri": "https://localhost:8080/",
          "height": 185
        },
        "id": "7_SCFIiwznf4",
        "outputId": "fe9c966c-9f95-449e-9f75-c8036b7624de"
      },
      "execution_count": 33,
      "outputs": [
        {
          "output_type": "execute_result",
          "data": {
            "text/plain": [
              "'제목: 외국인등록증과 여권상의 이름이 일치하지 않아 어려움을 겪는 노동자 상담 및 지원\\n\\n전체상담내용: 남양주시에서 거주하는 필리핀 국적의 이주가정으로 법무부 구제대책을 통해 2022년 9월 G-1 체류비자를 획득 함.\\n체류자격 획득 이후 필리핀에 출국 후 복귀하는 과정에서 외국인등록증과 여권상의 이름이 일치하지 않아 필리핀 현지 공항 및 인천공항에서 조사를 받았음.\\n신원 조회되어 큰 문제는 없었지만, 불편함이 상당하여 출입국에 문제 원인 확인을 희망함.\\n\\n상담기록: 9월 13일\\n1. 양주출입국관리사무소 방문.\\n2. 출입국 담당자에게 체류기간 연장 및 구직활동허가 신청 후 외국인등록증과 여권 상 이름의 불일치로 공항에서 겪은 애로사항을 토로하였음. 기존에 외국인등록증 신청 과정 또는 발급 과정에서 문제가 있던 것인지 확인을 요청함.\\n3. 출입국 담당자 사실 확인 위해 전산 자료 확인.\\n4. 확인결과 외국인등록증 최초 접수 당시 통합신청서 상 기재된 이름 그대로 발급된 것으로 확인.\\n5. 내담자 본인 잘못임을 인지하고, 외국인등록증 새로 발급하기로 함.\\n6. 체류기간 연장 및 외국인등록증 재발급 신청 완료.'"
            ],
            "application/vnd.google.colaboratory.intrinsic+json": {
              "type": "string"
            }
          },
          "metadata": {},
          "execution_count": 33
        }
      ]
    },
    {
      "cell_type": "code",
      "source": [
        "response = extract_data(text_list[10],\"gpt-4o\")\n",
        "response"
      ],
      "metadata": {
        "colab": {
          "base_uri": "https://localhost:8080/",
          "height": 110
        },
        "id": "vwMeH6Vpzndh",
        "outputId": "6ff6e83e-46b9-4eb4-e263-846c8a178604"
      },
      "execution_count": 34,
      "outputs": [
        {
          "output_type": "execute_result",
          "data": {
            "text/plain": [
              "'<내담자정보>\\n남양주시에서 거주 중\\n필리핀 국적의 이주가정\\n법무부 구제대책을 통해 최근 G-1 체류비자 획득\\n외국인등록증과 여권상의 이름 불일치로 필리핀 출국 후 복귀 시 공항에서 조사 받음\\n</내담자정보>\\n<해결방안>\\n양주출입국관리사무소를 방문하여 출입국 담당자에게 외국인등록증과 여권 상 이름의 불일치를 해결하기 위해 상담하였습니다. 전산 자료를 확인한 결과 외국인등록증 접수 시 기재된 이름대로 발급된 것을 확인하였고, 내담자 본인의 잘못임을 인지한 후 외국인등록증 재발급을 신청하였습니다. 또한, 체류기간 연장 신청도 완료하였습니다.\\n</해결방안>'"
            ],
            "application/vnd.google.colaboratory.intrinsic+json": {
              "type": "string"
            }
          },
          "metadata": {},
          "execution_count": 34
        }
      ]
    },
    {
      "cell_type": "code",
      "source": [
        "text_list[11]"
      ],
      "metadata": {
        "colab": {
          "base_uri": "https://localhost:8080/",
          "height": 296
        },
        "id": "jyqEuVywzna2",
        "outputId": "97718061-5c80-4156-aa35-2dae89d6ea70"
      },
      "execution_count": 36,
      "outputs": [
        {
          "output_type": "execute_result",
          "data": {
            "text/plain": [
              "\"제목: 취업허가 및 건강보험 오가입 정정\\n\\n전체상담내용: 1995년부터 국내 체류중인 이주민으로서, '국내출생 불법체류 아동 조건부 구제대책‘에 의해 2023년 5월 G-1-81 비자 취득. 남편의 직장건강보험에 피부양자로 등록하도록 안내한 이력이 있음. 센터 방문 대담 과정에서, 본인이 아르바이트하던 회사에서 지난주부터 직장의료보험 가입되었다고 얘기함. 취업허가를 받지 않은 상태에서 정규직 채용 및 4대보험 가입으로 인한 불이익을 막기 위해 신속한 조처가 필요한 상황.\\n\\n상담기록: 8. 31\\n 회사 인사노무관리자 앞으로 보내는 소견서 작성 전달.\\n 해당 외국인은 체류자격외활동 허가를 받지 않은 상황이므로 정규직 취업 및 소득 발생시 추후 체류비자 연장 과정에서 회사와 본인 모두에게 과태료 등 불이익이 발생할 소지가 있으므로, 신속히 4대보험 자격득실에 대한 정정, 취소 처리하고 추후 취업허가 신청완료 후 재 등록하도록 안내. \\n\\n9. 1\\n 회사 관리자와 유선통화하여 재안내. \\n 기존 등록된 보험가입 기록은 오등록 사유로 신속히 취소하고, 근로계약서와 사업자 등록증을 교부하여 취업허가 신청할 수 있도록 신속한 협조요청.\\n 출입국방문 예약하려 했으나 9월 14일 이후에나 예약 가능한 상황이므로, 신속한 신청 위해 9월 4일 아침 출입국 방문접수 하기로 함. \\n\\n9. 4\\n 출입국방문 동행. 체류자격외활동허가 신청 접수완료. \\n 통합신청서, 신청일 이후 근로시작 날짜 기재된 근로계약서, 사업자등록증 사본 제출, 본인 외국인등록증 및 여권 제시. \\n체류자격외활동 허가 수수료 12만원, 취업허가 스티커 택배비 5,000원. \\n\\n9. 5\\n 신청접수 익일부터 근로 개시. \\n\\n9 12\\n 체류자격외활동허가 스티커 등기우편 받아 본인에게 전달, 여권에 부착.  \\n\\n9.19\\n 하이코리아에서 외국인의 취업허가 여부를 조회할 수 있으나, G-1 등 특정 비자의 경우 온라인 조회 불가능함. 사업주가 본인에게 취업해도 되느냐고 물어볼 수 밖에 없고, 본인이 ‘일해도 된다’라는 말만 믿고 정규직 계약에 준해 보험자격취득신고를 해버리는 경우 추후 불이익 발생 소지 있음.\\n 보다 명확하게 체류자격외활동 허가여부를 행정전산망 등에서 공유되게 하거나, 애초에 모든 G-1 비자 외국인에게 별도의 사전 신고없이 취업활동을 허가해야함. 또한 인도적체류허가 G1 비자의 경우 일정 연령(14세?) 이하 자녀 양육을 위한 취업시 수수료 12만원이 면제되지만, 정작 국내출생미등록아동구제대책에 의해 부여된 G-1-81 비자 부모들은 수수료 면제대상이 아님. \\n이 부분은 출입국 공무원들도 자주 혼동하는 경우로서, 미성년자녀를 양육하고 있는 G-1-*하위분류 모든 비자에 수수료를 면제하도록 개선하는 것이 합당함. 상담 종료.\""
            ],
            "application/vnd.google.colaboratory.intrinsic+json": {
              "type": "string"
            }
          },
          "metadata": {},
          "execution_count": 36
        }
      ]
    },
    {
      "cell_type": "code",
      "source": [
        "response = extract_data(text_list[11],\"gpt-4o\")\n",
        "response"
      ],
      "metadata": {
        "colab": {
          "base_uri": "https://localhost:8080/",
          "height": 129
        },
        "id": "lm9Hgl6AznYG",
        "outputId": "f1e444cf-e1d2-4290-ee44-ec31be50414b"
      },
      "execution_count": 37,
      "outputs": [
        {
          "output_type": "execute_result",
          "data": {
            "text/plain": [
              "'<내담자정보>\\n약 28년간 국내 체류\\n국내출생미등록아동구제대책에 의해 G-1-81 비자 취득\\n남편의 직장건강보험에 피부양자로 등록된 이력\\n아르바이트 회사에서 직장의료보험 가입됨\\n취업허가 없이 정규직 채용 및 4대보험 가입 상태\\n</내담자정보>\\n<해결방안>\\n체류자격외활동 허가를 받지 않은 상태에서 정규직 취업 및 소득 발생의 문제로, 회사 인사노무관리자에게 소견서를 전달하여 4대보험 가입 기록을 신속히 정정 및 취소하도록 요구하였습니다. 이후 체류자격외활동 허가를 신청하고 필요 서류를 준비하여 출입국 방문을 동행하여 신청 절차를 완료하였습니다. 추가적으로 G-1 비자의 고용여부 조회 문제와 수수료 면제 사안에 대한 행정적 개선 요구가 있었습니다.\\n</해결방안>'"
            ],
            "application/vnd.google.colaboratory.intrinsic+json": {
              "type": "string"
            }
          },
          "metadata": {},
          "execution_count": 37
        }
      ]
    },
    {
      "cell_type": "code",
      "source": [
        "text_list[12]"
      ],
      "metadata": {
        "colab": {
          "base_uri": "https://localhost:8080/",
          "height": 296
        },
        "id": "_mLVh_9h0ffD",
        "outputId": "c1905c40-e77e-46e5-d7a6-dcab69a32574"
      },
      "execution_count": 41,
      "outputs": [
        {
          "output_type": "execute_result",
          "data": {
            "text/plain": [
              "'제목: 출입국 단속 된 미등록 노동자 출국 등 지원\\n\\n전체상담내용: 2019년부터 국내 체류 중인 미등록이주노동자. 사업장에서 근무 중 단속 되어 양주출입국사무소에 구금 중이라고 친구를 통해 도움 요청.\\n\\n상담기록: 8. 9\\n8월 9일 사업장에서 근무 중 단속되어 양주출입국사무소에 구금됨. \\n동일 사업장 근무중인 베트남 여성 1, 캄보디아 여성 1명도 함께 단속, 구금되었다고 함. 양주출입국 사범과 유선확인 결과 곧 화성외국인보호소로 이송 예정. 거주지에서 여권과 짐을 확보해 면회시 전달할 수 있도록 준비.\\n\\n 8.10\\n양주출입국 사범과 유선 재확인. 익일(금요일) 이송될 수 있으나, 정확한 이송 여부는 당일 오전 확인 가능하다고 함. 본인으로부터 전화연락와서, 해당 내용 안내하고, 익일 오전 본인이 다시 연락주기로 함.\\n\\n 8.11\\n차주 이송 예정이라고 오전중 연락옴. \\n오후 1:30 면회 위해 통역 동행하여 양주출입국사무소 4층 사범과 면회실 방문. 현금 35만원, 여권, 개인짐 캐리어1 전달.\\n사업주 조사를 위해 출입국 방문한 사업주와 만나 함께 면회 진행. \\n건강상 문제 없으며, 빠른 시일내 본국 출국하기로 결정했다는 의사 확인. \\n퇴직금과 최종 월 급여 계좌송금예정임을 사업주와 대면 구두 확인함.\\n담당 사무관 면담하여, 향후 일정 재확인. 화성보호소 수용인원 과밀 등 사유로 정확한 이송일 확인은 어려우나. 최대한 빠른 시일 내 이송 및 출국 절차가 진행될 것임을 확인하여 사업주에게 상세 설명.\\n\\n 8.12\\n사업주 요청으로 사업장 방문하여 상담. 노동자 거주하던 숙소는 사업주가 무상 제공했으며, 보증금과 월세도 사업주가 알아서 정리할 예정이라고 함. 4년간 함께 일한 숙련노동자의 단속과 함께 사업주도 과태료 처분을 받았으며, 현행법과 노동환경상 서비스업 노동자 구인이 극히 어려워 부득이 미등록이주노동자를 채용할 수 밖에 없다는 등 애로사항 청취. \\n관련법과 정부기조 등을 상담 안내함. \\n\\n 8.18\\n8.14 화성외국인보호소 이송 후 귀국 항공권 준비하여 8.18 출국 및 도착했음을 유선확인. 사업주로부터 받을 잔여 임금과 퇴직금 모두 받았다고 함. \\n미등록이주민 단속 관련 지원 시 구금 초기 1~2일내 당사자의 정확한 신원(이름, 국적, 나이) 확인하여 관할 출입국사무소 사범과에 유선 상황 확인, 면회 및 담당자 면담 가능. 단속된 사업주도 처분을 위한 조사를 받기 위해 해당 출입국에 출석해야 하므로, 가능시 같은 날 사업주와의 면회를 주선하고 이후 진행절차에 대해 확인 안내해주고 숙소, 임금, 기타 갑작스러운 단속 상황에서의 사후 지원이 필요함. 상담 종료.'"
            ],
            "application/vnd.google.colaboratory.intrinsic+json": {
              "type": "string"
            }
          },
          "metadata": {},
          "execution_count": 41
        }
      ]
    },
    {
      "cell_type": "code",
      "source": [
        "response = extract_data(text_list[12],\"gpt-4o\")\n",
        "response"
      ],
      "metadata": {
        "colab": {
          "base_uri": "https://localhost:8080/",
          "height": 148
        },
        "id": "UNKtUmfk0fcf",
        "outputId": "c64d6ce6-ecb3-428e-a24e-b6c8851d50c3"
      },
      "execution_count": 42,
      "outputs": [
        {
          "output_type": "execute_result",
          "data": {
            "text/plain": [
              "'<내담자정보>\\n국내 체류 중인 미등록 이주 노동자\\n양주출입국사무소에 구금 중\\n동일 사업장 근무 중인 베트남 여성 1명, 캄보디아 여성 1명도 함께 구금\\n빠른 시일 내에 본국 출국 결정\\n건강상 문제 없음\\n4년간 함께 일한 숙련노동자\\n</내담자정보>\\n<해결방안>\\n양주출입국사무소에 구금된 후, 적절한 절차를 통해 화성외국인보호소로 이송되었으며 본국 출국을 위해 준비되었습니다. 면회 시 현금, 여권 및 개인 짐을 전달하였고, 사업주와의 협의를 통해 잔여 임금 및 퇴직금을 모두 받았습니다. 사업주는 노동자 거주하던 숙소의 보증금과 월세를 정리하고, 상담을 통해 관련 법 및 정부 방침에 대한 안내를 받았습니다. 단속 초기 구금된 당사자의 신원 및 상황을 정확히 확인하여 필요한 지원이 이루어졌습니다.\\n</해결방안>'"
            ],
            "application/vnd.google.colaboratory.intrinsic+json": {
              "type": "string"
            }
          },
          "metadata": {},
          "execution_count": 42
        }
      ]
    },
    {
      "cell_type": "code",
      "source": [
        "text_list[30]"
      ],
      "metadata": {
        "colab": {
          "base_uri": "https://localhost:8080/",
          "height": 315
        },
        "id": "hUBF9_5E0faA",
        "outputId": "14e8a266-e280-4c6e-890e-1e11e59bcbfa"
      },
      "execution_count": 43,
      "outputs": [
        {
          "output_type": "execute_result",
          "data": {
            "text/plain": [
              "'제목: 아기를 두고 출국하기 어려워 보호일시해제를 원하는 외국인 지원\\n\\n전체상담내용: 내담자 부부는 오래전부터 불법체류로 생활하다가 지난 1월 1일 첫아기를 출산하였고 내담자 배우자는 지난 3월 20일 불법체류 특별단속반에 단속되어 화성보호소에 보호되어 있기에 아기가 너무 어려서 아기가 약 6개월 정도 되었을 때 가족 모두가 출국하고 싶다고 하여 보증금 최고금액을 제시하였으나 결국 불허되어 4월 24일 가족 모두가 어린 아기를 동반하여 출국하게 되었음.\\n\\n상담기록: 03월 25일\\n내담자의 통역을 도와주던 스리랑카분이 대신하여 전화로 내담자의 남편이 일시 보호 해제를 받은 후 출국 준비 기간을 거쳐 온 가족이 함께 출국할 수있는 방안에 관하여 도움을 요청하였음.\\n\\n03월 27일\\n활동가는 내담자의 인적사항과 화성보호소에 보호받고 있는 내담자 배우자의 인적사항까지 모두 전달받아 다방면으로 문제의 해결방안을 찾아봄  \\n\\n03월 30일\\n활동가는 평소 공공기관의 이민자들에 어려운 문제 해결로 도움을 주었던 인천지역 00기관을 방문하여 내담자의 고충 사례 민원을 자문하니 인도주의로 가능할 것 같다는 자문을 받고 와서 최초로 연락을 취한 통역사에게 이와 같은 사실을 전달하였음\\n\\n04월 03일\\n통역사를 통하여 들려온 소식은 내담자의 주변 교회에서 신원 보증을 서고 행정사를 통하여 일시 보호 해제 금 이천만 원을 준비하고 이미 일시 보호 해제 신청을 하였다고 하였음. \\n\\n04월 14일\\n그러나 내담자의 통역사가 연락 오기를 행정사를 통하여 신청한 일시 보호 해제 신청이 불허되었다면서 다시 도와달라고 하였으나 한 사건으로 이미 불허된 사안을 다시금 시도한다는 것은 쉽지 않을 것 같아 더이상 도움을 줄 수 없다고 하였음.\\n\\n04월 18일\\n결국 내담자는 통역사를 통하여 자진 출국을 하겠다면서 화성보호소에 있는 남편과 같은 항공기로 출국할 수 있도록 도와 달라고 하여 이 부분은 도움을 주어 결국 4월 24일 자로 항공권을 예약하고 자진 출국하기로 한 후 인터넷으로 자진 출국 신고까지 대신해 주었음. \\n\\n04월 18일\\n아기 출산 3개월도 채 안 되어 남편이 단속된 사례로 아기가 그래도 5~6개월 정도 경과 되었을 때 출국시키는 것이 통상적인 인도주의적 배려인데 무슨 일이 있었는지는 모르지만 일시 보호 해제 금 최고금액 이천만 원을 준비하였는데도 결국 강제 출국을 시킨다는 것은 납득이 잘 안됨. 처음부터 본 기관에서 모든 업무처리를 하였더라면 상황은 좀 달라지지 않았을까 하는 아쉬움이 남으면서 생후 4개월도 안 된 어린 아기를 동반하고 장거리 여행을 한다는 것이 안타까웠음.'"
            ],
            "application/vnd.google.colaboratory.intrinsic+json": {
              "type": "string"
            }
          },
          "metadata": {},
          "execution_count": 43
        }
      ]
    },
    {
      "cell_type": "code",
      "source": [
        "response = extract_data(text_list[30],\"gpt-4o\")\n",
        "response"
      ],
      "metadata": {
        "colab": {
          "base_uri": "https://localhost:8080/",
          "height": 110
        },
        "id": "OY2QygLn026K",
        "outputId": "9a6830bb-3c50-43f7-f28d-9d201db76af3"
      },
      "execution_count": 44,
      "outputs": [
        {
          "output_type": "execute_result",
          "data": {
            "text/plain": [
              "'<내담자정보>\\n오래전부터 불법체류로 생활\\n1월 1일 첫 아기 출산\\n배우자가 불법체류 특별단속반에 단속되어 화성보호소에 보호 중\\n가족 모두가 어린 아기를 동반하여 출국 희망\\n보증금 최고금액 제시했으나 불허됨\\n</내담자정보>\\n<해결방안>\\n내담자의 남편의 일시 보호 해제를 위한 시도를 여러 번 진행하였으나 불허되었습니다. 이후 가족은 자진 출국을 결정하였으며, 아기와 함께 남편과 같은 항공기로 출국할 수 있도록 지원받았습니다. 또한, 자진 출국 신고를 대신해 주어 최종적으로 가족은 4월 24일에 자진 출국하게 되었습니다.\\n</해결방안>'"
            ],
            "application/vnd.google.colaboratory.intrinsic+json": {
              "type": "string"
            }
          },
          "metadata": {},
          "execution_count": 44
        }
      ]
    }
  ]
}