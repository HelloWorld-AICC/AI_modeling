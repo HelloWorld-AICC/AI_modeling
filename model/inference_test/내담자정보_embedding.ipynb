{
 "cells": [
  {
   "cell_type": "markdown",
   "metadata": {},
   "source": [
    "### MONGODB ATLAS 내담자정보 임베딩 생성(거주지역, 국가, 체류자격, 기타정보)"
   ]
  },
  {
   "cell_type": "code",
   "execution_count": 1,
   "metadata": {},
   "outputs": [],
   "source": [
    "import os\n",
    "import json\n",
    "from pathlib import Path\n",
    "from dotenv import load_dotenv\n",
    "from pymongo import MongoClient\n",
    "from pymongo.server_api import ServerApi\n",
    "from langchain_mongodb import MongoDBAtlasVectorSearch  # 임포트 경로 변경\n",
    "from langchain_openai import OpenAIEmbeddings"
   ]
  },
  {
   "cell_type": "code",
   "execution_count": 5,
   "metadata": {},
   "outputs": [
    {
     "data": {
      "text/plain": [
       "True"
      ]
     },
     "execution_count": 5,
     "metadata": {},
     "output_type": "execute_result"
    }
   ],
   "source": [
    "from pymongo import MongoClient\n",
    "from openai import OpenAI\n",
    "import time\n",
    "from tqdm import tqdm  # 진행상황 표시용\n",
    "from pathlib import Path\n",
    "from dotenv import load_dotenv\n",
    "import os\n",
    "\n",
    "# 절대 경로 지정\n",
    "env_path = Path('..') / '.env'\n",
    "load_dotenv(env_path)"
   ]
  },
  {
   "cell_type": "code",
   "execution_count": 11,
   "metadata": {},
   "outputs": [],
   "source": [
    "# OpenAI 클라이언트 설정\n",
    "client = OpenAI(api_key=os.getenv('OPENAI_API_KEY'))\n",
    "\n",
    "# MongoDB 연결\n",
    "mongo_client = MongoClient(os.getenv('MONGODB_ATLAS_CLUSTER_URI'))\n",
    "db = mongo_client['HelloWorld-AI']\n",
    "collection = db['foreigner_legal_test']"
   ]
  },
  {
   "cell_type": "code",
   "execution_count": 12,
   "metadata": {},
   "outputs": [],
   "source": [
    "def create_embedding(text):\n",
    "    \"\"\"텍스트를 임베딩 벡터로 변환\"\"\"\n",
    "    try:\n",
    "        response = client.embeddings.create(\n",
    "            model=\"text-embedding-3-large\",\n",
    "            input=text\n",
    "        )\n",
    "        return response.data[0].embedding\n",
    "    except Exception as e:\n",
    "        print(f\"임베딩 생성 중 에러 발생: {e}\")\n",
    "        return None"
   ]
  },
  {
   "cell_type": "markdown",
   "metadata": {},
   "source": [
    "# 내담자 정보.Embedding"
   ]
  },
  {
   "cell_type": "code",
   "execution_count": 13,
   "metadata": {},
   "outputs": [],
   "source": [
    "def process_documents():\n",
    "    \"\"\"모든 문서를 처리하고 임베딩 추가\"\"\"\n",
    "    # 전체 문서 가져오기\n",
    "    documents = list(collection.find({}))\n",
    "    print(f\"총 {len(documents)}개의 문서를 처리합니다.\")\n",
    "\n",
    "    # 처리된 문서 수 추적\n",
    "    success_count = 0\n",
    "    error_count = 0\n",
    "\n",
    "    # tqdm으로 진행상황 표시\n",
    "    for doc in tqdm(documents, desc=\"문서 처리 중\"):\n",
    "        try:\n",
    "            # 내담자 정보를 텍스트로 변환\n",
    "            info_text = f\"\"\"\n",
    "            거주지역: {doc['내담자_정보'].get('거주지역', '')}\n",
    "            국적: {doc['내담자_정보'].get('국적', '')}\n",
    "            체류자격: {doc['내담자_정보'].get('체류자격', '')}\n",
    "            추가정보: {doc['내담자_정보'].get('추가정보', '')}\n",
    "            \"\"\".strip()\n",
    "\n",
    "            # 임베딩 생성\n",
    "            embedding = create_embedding(info_text)\n",
    "            \n",
    "            if embedding:\n",
    "                # 문서 업데이트\n",
    "                collection.update_one(\n",
    "                    {'_id': doc['_id']},\n",
    "                    {\n",
    "                        '$set': {\n",
    "                            '내담자_정보.raw_text': info_text,\n",
    "                            '내담자_정보.Embedding': embedding,\n",
    "                            '상담내용.Embedding': embedding\n",
    "                        }\n",
    "                    }\n",
    "                )\n",
    "                success_count += 1\n",
    "                \n",
    "                # OpenAI API 속도 제한 고려\n",
    "                time.sleep(0.5)  # 0.5초 대기\n",
    "            \n",
    "        except Exception as e:\n",
    "            print(f\"\\n문서 {doc['_id']} 처리 중 에러 발생: {e}\")\n",
    "            error_count += 1\n",
    "\n",
    "    return success_count, error_count"
   ]
  },
  {
   "cell_type": "code",
   "execution_count": 14,
   "metadata": {},
   "outputs": [
    {
     "name": "stdout",
     "output_type": "stream",
     "text": [
      "임베딩 처리 시작...\n",
      "총 249개의 문서를 처리합니다.\n"
     ]
    },
    {
     "name": "stderr",
     "output_type": "stream",
     "text": [
      "문서 처리 중: 100%|██████████| 249/249 [04:33<00:00,  1.10s/it]"
     ]
    },
    {
     "name": "stdout",
     "output_type": "stream",
     "text": [
      "\n",
      "처리 완료!\n",
      "성공: 249개\n",
      "실패: 0개\n"
     ]
    },
    {
     "name": "stderr",
     "output_type": "stream",
     "text": [
      "\n"
     ]
    }
   ],
   "source": [
    "def main():\n",
    "    try:\n",
    "        print(\"임베딩 처리 시작...\")\n",
    "        success, errors = process_documents()\n",
    "        print(f\"\\n처리 완료!\")\n",
    "        print(f\"성공: {success}개\")\n",
    "        print(f\"실패: {errors}개\")\n",
    "        \n",
    "    except Exception as e:\n",
    "        print(f\"실행 중 에러 발생: {e}\")\n",
    "    \n",
    "    finally:\n",
    "        # MongoDB 연결 종료\n",
    "        mongo_client.close()\n",
    "\n",
    "if __name__ == \"__main__\":\n",
    "    main()"
   ]
  },
  {
   "cell_type": "markdown",
   "metadata": {},
   "source": [
    "# 상담제목_내담자정보.Embedding"
   ]
  },
  {
   "cell_type": "code",
   "execution_count": null,
   "metadata": {},
   "outputs": [],
   "source": [
    "def process_documents():\n",
    "    \"\"\"모든 문서를 처리하고 임베딩 추가\"\"\"\n",
    "    documents = list(collection.find({}))\n",
    "    print(f\"총 {len(documents)}개의 문서를 처리합니다.\")\n",
    "\n",
    "    success_count = 0\n",
    "    error_count = 0\n",
    "\n",
    "    for doc in tqdm(documents, desc=\"문서 처리 중\"):\n",
    "        try:\n",
    "            # 상담제목과 내담자 정보를 합쳐서 텍스트 생성\n",
    "            combined_text = f\"\"\"\n",
    "            제목: {doc['상담제목'].get('text', '')}\n",
    "            거주지역: {doc['내담자_정보'].get('거주지역', '')}\n",
    "            국적: {doc['내담자_정보'].get('국적', '')}\n",
    "            체류자격: {doc['내담자_정보'].get('체류자격', '')}\n",
    "            추가정보: {doc['내담자_정보'].get('추가정보', '')}\n",
    "            \"\"\".strip()\n",
    "\n",
    "            # 임베딩 생성\n",
    "            embedding = create_embedding(combined_text)\n",
    "            \n",
    "            if embedding:\n",
    "                # 문서 업데이트 - 새로운 필드에 저장\n",
    "                collection.update_one(\n",
    "                    {'_id': doc['_id']},\n",
    "                    {\n",
    "                        '$set': {\n",
    "                            '상담제목_내담자정보': {\n",
    "                                'raw_text': combined_text,\n",
    "                                'Embedding': embedding\n",
    "                            }\n",
    "                        }\n",
    "                    }\n",
    "                )\n",
    "                success_count += 1\n",
    "                time.sleep(0.5)\n",
    "            \n",
    "        except Exception as e:\n",
    "            print(f\"\\n문서 {doc['_id']} 처리 중 에러 발생: {e}\")\n",
    "            error_count += 1\n",
    "\n",
    "    return success_count, error_count"
   ]
  },
  {
   "cell_type": "code",
   "execution_count": null,
   "metadata": {},
   "outputs": [],
   "source": [
    "def main():\n",
    "    try:\n",
    "        print(\"임베딩 처리 시작...\")\n",
    "        success, errors = process_documents()\n",
    "        print(f\"\\n처리 완료!\")\n",
    "        print(f\"성공: {success}개\")\n",
    "        print(f\"실패: {errors}개\")\n",
    "        \n",
    "    except Exception as e:\n",
    "        print(f\"실행 중 에러 발생: {e}\")\n",
    "    \n",
    "    finally:\n",
    "        # MongoDB 연결 종료\n",
    "        mongo_client.close()\n",
    "\n",
    "if __name__ == \"__main__\":\n",
    "    main()"
   ]
  },
  {
   "cell_type": "code",
   "execution_count": null,
   "metadata": {},
   "outputs": [],
   "source": []
  },
  {
   "cell_type": "code",
   "execution_count": null,
   "metadata": {},
   "outputs": [],
   "source": []
  },
  {
   "cell_type": "code",
   "execution_count": null,
   "metadata": {},
   "outputs": [],
   "source": []
  },
  {
   "cell_type": "code",
   "execution_count": 2,
   "metadata": {},
   "outputs": [],
   "source": [
    "# 절대 경로 지정\n",
    "env_path = Path('..') / '.env'\n",
    "load_dotenv(env_path)\n",
    "\n",
    "# MongoDB Atlas 연결\n",
    "client = MongoClient(os.getenv(\"MONGODB_ATLAS_CLUSTER_URI\"), server_api=ServerApi('1'))\n",
    "\n",
    "# MongoDB 컬렉션 설정\n",
    "MONGODB_COLLECTION = client[\"HelloWorld-AI\"][\"foreigner_legal_test\"]\n",
    "\n",
    "# Vector Search 설정\n",
    "db = MongoDBAtlasVectorSearch(\n",
    "    collection=MONGODB_COLLECTION,\n",
    "    embedding=OpenAIEmbeddings(model=\"text-embedding-3-large\"),\n",
    "    index_name=\"vector_index\",\n",
    "    relevance_score_fn=\"cosine\"\n",
    ")"
   ]
  },
  {
   "cell_type": "code",
   "execution_count": 26,
   "metadata": {},
   "outputs": [
    {
     "name": "stdout",
     "output_type": "stream",
     "text": [
      "문서 구조:\n",
      "_id: <class 'bson.objectid.ObjectId'>\n",
      "상담제목: <class 'dict'>\n",
      "상담내용요약: <class 'dict'>\n",
      "진행_과정_및_결과: <class 'str'>\n",
      "내담자_정보: <class 'dict'>\n",
      "해결방법: <class 'str'>\n",
      "metadata: <class 'dict'>\n",
      "\n",
      "  내담자 정보:\n",
      "{\n",
      "  \"거주지역\": \"여주시\",\n",
      "  \"국적\": \"우즈베키스탄\",\n",
      "  \"체류자격\": \"E-9\",\n",
      "  \"추가정보\": \"\\n중도 퇴직한 외국인 근로자\\n2020년 종합소득세 체납으로 고용허가 연장 불가능했던 상황\\n현재까지 체류자격 연장이 되지 않아 불안함\\n체류자격은 당장 곧 만료 예정\\n\"\n",
      "}\n"
     ]
    }
   ],
   "source": [
    "# 첫 문서 가져오기\n",
    "document = MONGODB_COLLECTION.find_one()\n",
    "print(\"문서 구조:\")\n",
    "for key, value in document.items():\n",
    "    print(f\"{key}: {type(value)}\")\n",
    "\n",
    "print(\"\\n  내담자 정보:\")\n",
    "print(json.dumps(document['내담자_정보'], ensure_ascii=False, indent=2))\n",
    "# print(document)"
   ]
  },
  {
   "cell_type": "markdown",
   "metadata": {},
   "source": [
    "# MONGODB Vector Search 생성"
   ]
  },
  {
   "cell_type": "markdown",
   "metadata": {},
   "source": [
    "MONGODB ATLAS Ui 활용"
   ]
  },
  {
   "cell_type": "code",
   "execution_count": 29,
   "metadata": {},
   "outputs": [],
   "source": [
    "# from pymongo import SearchIndexModel\n",
    "\n",
    "# # Vector Search 인덱스 설정\n",
    "# index_definition = {\n",
    "#     \"mappings\": {\n",
    "#         \"dynamic\": True,\n",
    "#         \"fields\": {\n",
    "#             \"내담자_정보\": {\n",
    "#                 \"type\": \"document\",\n",
    "#                 \"fields\": {\n",
    "#                     \"vector\": {\n",
    "#                         \"type\": \"knnVector\",\n",
    "#                         \"dimensions\": 1536,  # OpenAI의 embedding 차원\n",
    "#                         \"similarity\": \"cosine\"\n",
    "#                     }\n",
    "#                 }\n",
    "#             }\n",
    "#         }\n",
    "#     }\n",
    "# }\n",
    "\n",
    "# # SearchIndexModel 생성\n",
    "# search_index = SearchIndexModel(\n",
    "#     definition=index_definition,\n",
    "#     name=\"내담자_vector_index\"\n",
    "# )\n",
    "\n",
    "# # 인덱스 생성\n",
    "# MONGODB_COLLECTION.create_search_index(search_index)\n",
    "\n",
    "# # 생성된 인덱스 확인\n",
    "# indexes = MONGODB_COLLECTION.list_search_indexes()\n",
    "# for index in indexes:\n",
    "#     print(index)"
   ]
  },
  {
   "cell_type": "markdown",
   "metadata": {},
   "source": [
    "# 내담자 정보 유사도 계산"
   ]
  },
  {
   "cell_type": "code",
   "execution_count": 42,
   "metadata": {},
   "outputs": [
    {
     "name": "stdout",
     "output_type": "stream",
     "text": [
      "Found 3 results\n",
      "\n",
      "1번째 유사 사례:\n",
      "유사도 점수: 7.3025\n",
      "내담자 정보: {'거주지역': '광주광역시', '국적': '우즈베키스탄', '체류자격': 'F-4', '추가정보': '\\n국민연금 외국인 가입자 관련 및 대상자 안내 문의\\n우즈베키스탄 고용노동부 한국주재사무소 담당자와 상담\\n'}\n",
      "해결 방법: \n",
      "\n",
      "외국인 노동자의 국민연금 가입 및 수령에 관한 정보를 제공하였습니다. 외국인 사업장 가입자 및 지역 가입자를 대상으로, 국민연금 가입 대상 및 요건에 대한 안내를 진행하였습니다. 우즈베키스탄은 보험료 면제 협정에 따라 E-8, E-9 체류자격자는 협정가입증명 없이 면제된다는 점을 설명하였습니다. 또한, 외국인 노동자가 국민연금 회원으로 가입하고 반환일시금을 공항에서 지급받는 방법을 안내하였습니다. 국민연금 공단을 직접 방문해 제출해야 할 서류와, 인천공항 상담센터에서의 절차도 설명하였습니다. 우즈베키스탄 담당 기관과의 협력을 통해, 국민연금 가입 당연 국가가 아닌 경우 수령 확답이 어려운 점을 연구하고 해결 방안을 도출하기로 하였습니다.\n",
      "\n",
      "\n",
      "2번째 유사 사례:\n",
      "유사도 점수: 7.0601\n",
      "내담자 정보: {'거주지역': '시흥시', '국적': '필리핀', '체류자격': 'E-9', '추가정보': '\\n필리핀 국적 노동자\\n한국에서 약 11년간 근무\\nE-7비자 신청 과정 중 이중 취업 문제로 신청 탈락\\n다른 회사에서 허위로 세무 신고된 급여로 인해 E-7비자 신청이 좌절됨\\n'}\n",
      "해결 방법: \n",
      "\n",
      "이중 취업 문제로 E-7 비자 신청이 좌절되었으나, 세무서를 통한 기록 삭제가 불가하여 출입국 사무소에 벌금 200만원을 지불하는 방안을 고려했으나, 비자 만료 이전 신청이 불가하여 귀국을 결정하였습니다. 귀국 준비를 위한 병원 진료, 노동부, 국민연금공단, 출국 만기보험 수속 절차를 지원하였고, 인천 공항까지 동반하여 귀국 절차를 안내하였습니다. 귀국 후 국민연금과 출국만기보험을 수령하였으며, 필리핀에서 재정착 중입니다.\n",
      "\n",
      "\n",
      "3번째 유사 사례:\n",
      "유사도 점수: 6.3272\n",
      "내담자 정보: {'거주지역': '안산시', '국적': '필리핀', '체류자격': '미등록', '추가정보': '\\n미등록 체류 중인 E-9 근로자\\n충청도 지역에서 일당직 전전\\n친형과 함께 청주에서 체류\\n건강 문제로 자진 출국 결심\\n현재 Lupus 의심 진단 받음\\n'}\n",
      "해결 방법: \n",
      "\n",
      "본인의 건강 문제로 자진 출국을 결정하고, 출입국 사무소에서 출국 절차에 대한 안내를 받았습니다. 출국 신고서를 작성하여 벌금 없이 출국 명령서를 발급받았으며, 출국 당일 공항 출입국 사무소에서 출국 신고를 완료했습니다. 의료보험이 없는 상태에서 병원 진료를 받았으며, 피부과 진료 후 Lupus 의심 진단을 받아 긴급한 약 처방과 함께 귀국하였습니다. 인천공항에서 출국 만기보험과 국민연금을 수령한 후 무사히 귀국하여 현재 현지에서 치료를 받고 있습니다.\n"
     ]
    }
   ],
   "source": [
    "def get_similar_cases(user_info: dict, top_k: int = 3):\n",
    "    \"\"\"유저 정보와 가장 유사한 상담 사례 찾기\"\"\"\n",
    "    \n",
    "    # 검색 쿼리 생성\n",
    "    query_text = f\"{user_info.get('현재 처한 상황', '')} {user_info.get('국적', '')} {user_info.get('체류자격', '')}\"\n",
    "    \n",
    "    pipeline = [\n",
    "        {\n",
    "            \"$search\": {\n",
    "                \"index\": \"clientinfo_vector_index\",\n",
    "                \"text\": {\n",
    "                    \"query\": query_text,\n",
    "                    \"path\": {\n",
    "                        \"wildcard\": \"*\"\n",
    "                    }\n",
    "                }\n",
    "            }\n",
    "        },\n",
    "        {\n",
    "            \"$limit\": top_k\n",
    "        },\n",
    "        {\n",
    "            \"$project\": {\n",
    "                \"score\": { \"$meta\": \"searchScore\" },\n",
    "                \"내담자_정보\": 1,\n",
    "                \"상담제목\": 1,\n",
    "                \"상담내용요약\": 1,\n",
    "                \"해결방법\": 1\n",
    "            }\n",
    "        }\n",
    "    ]\n",
    "    \n",
    "    results = list(MONGODB_COLLECTION.aggregate(pipeline))\n",
    "    print(f\"Found {len(results)} results\")\n",
    "    return results\n",
    "\n",
    "# 테스트\n",
    "user_info = {\n",
    "    # \"거주지역\": \"경기도 안산시\",\n",
    "    # \"국적\": \"베트남\",\n",
    "    \"체류자격\": \"E-9\",\n",
    "    \"현재 처한 상황\": \"3년 전 한국인 남자와 결혼, 가정 폭력이 빈번히 발생해 생활이 위태로운 상황\"\n",
    "}\n",
    "\n",
    "similar_cases = get_similar_cases(user_info)\n",
    "for idx, doc in enumerate(similar_cases, 1):\n",
    "    print(f\"\\n{idx}번째 유사 사례:\")\n",
    "    print(f\"유사도 점수: {doc.get('score', 0):.4f}\")\n",
    "    print(f\"내담자 정보: {doc.get('내담자_정보', {})}\")\n",
    "    # print(f\"상담 제목: {doc.get('상담제목', '')}\")\n",
    "    print(f\"해결 방법: {doc.get('해결방법', '')}\")"
   ]
  },
  {
   "cell_type": "code",
   "execution_count": null,
   "metadata": {},
   "outputs": [],
   "source": []
  },
  {
   "cell_type": "code",
   "execution_count": null,
   "metadata": {},
   "outputs": [],
   "source": []
  },
  {
   "cell_type": "code",
   "execution_count": null,
   "metadata": {},
   "outputs": [],
   "source": []
  },
  {
   "cell_type": "code",
   "execution_count": null,
   "metadata": {},
   "outputs": [],
   "source": []
  },
  {
   "cell_type": "code",
   "execution_count": null,
   "metadata": {},
   "outputs": [],
   "source": []
  }
 ],
 "metadata": {
  "kernelspec": {
   "display_name": "myenv",
   "language": "python",
   "name": "python3"
  },
  "language_info": {
   "codemirror_mode": {
    "name": "ipython",
    "version": 3
   },
   "file_extension": ".py",
   "mimetype": "text/x-python",
   "name": "python",
   "nbconvert_exporter": "python",
   "pygments_lexer": "ipython3",
   "version": "3.9.12"
  }
 },
 "nbformat": 4,
 "nbformat_minor": 2
}
